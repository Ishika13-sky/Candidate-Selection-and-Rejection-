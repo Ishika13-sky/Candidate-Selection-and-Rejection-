{
 "cells": [
  {
   "cell_type": "code",
   "execution_count": 90,
   "id": "0cc2a137",
   "metadata": {},
   "outputs": [],
   "source": [
    "import pandas as pd\n",
    "import numpy as np\n",
    "from sklearn.linear_model import LogisticRegression\n",
    "from mlxtend.feature_selection import SequentialFeatureSelector as SFS\n",
    "from mlxtend.plotting import plot_sequential_feature_selection as plot_sfs\n",
    "import matplotlib.pyplot as plt\n",
    "import seaborn as sns\n",
    "from sklearn.preprocessing import StandardScaler\n",
    "from sklearn.feature_selection import RFE\n",
    "from sklearn.preprocessing import LabelEncoder"
   ]
  },
  {
   "cell_type": "code",
   "execution_count": 91,
   "id": "5bf5a32c",
   "metadata": {},
   "outputs": [],
   "source": [
    "df = pd.read_csv('/Users/ishikadang/Desktop/Untitled Folder 1/dataset.csv')"
   ]
  },
  {
   "cell_type": "code",
   "execution_count": 92,
   "id": "246b4156",
   "metadata": {},
   "outputs": [
    {
     "data": {
      "text/html": [
       "<div>\n",
       "<style scoped>\n",
       "    .dataframe tbody tr th:only-of-type {\n",
       "        vertical-align: middle;\n",
       "    }\n",
       "\n",
       "    .dataframe tbody tr th {\n",
       "        vertical-align: top;\n",
       "    }\n",
       "\n",
       "    .dataframe thead th {\n",
       "        text-align: right;\n",
       "    }\n",
       "</style>\n",
       "<table border=\"1\" class=\"dataframe\">\n",
       "  <thead>\n",
       "    <tr style=\"text-align: right;\">\n",
       "      <th></th>\n",
       "      <th>years_of_experience</th>\n",
       "      <th>functional_competency_score</th>\n",
       "      <th>top1_skills_score</th>\n",
       "      <th>top2_skills_score</th>\n",
       "      <th>top3_skills_score</th>\n",
       "      <th>behavior_competency_score</th>\n",
       "      <th>top1_behavior_skill_score</th>\n",
       "      <th>top2_behavior_skill_score</th>\n",
       "      <th>top3_behavior_skill_score</th>\n",
       "      <th>call_for_interview</th>\n",
       "    </tr>\n",
       "  </thead>\n",
       "  <tbody>\n",
       "    <tr>\n",
       "      <th>0</th>\n",
       "      <td>0.333333</td>\n",
       "      <td>0.749498</td>\n",
       "      <td>0.777778</td>\n",
       "      <td>0.7</td>\n",
       "      <td>0.8</td>\n",
       "      <td>0.769231</td>\n",
       "      <td>0.931689</td>\n",
       "      <td>0.662042</td>\n",
       "      <td>0.752463</td>\n",
       "      <td>1</td>\n",
       "    </tr>\n",
       "    <tr>\n",
       "      <th>1</th>\n",
       "      <td>0.133333</td>\n",
       "      <td>0.490638</td>\n",
       "      <td>0.777778</td>\n",
       "      <td>0.3</td>\n",
       "      <td>0.4</td>\n",
       "      <td>0.153846</td>\n",
       "      <td>0.352093</td>\n",
       "      <td>0.132231</td>\n",
       "      <td>0.316905</td>\n",
       "      <td>0</td>\n",
       "    </tr>\n",
       "    <tr>\n",
       "      <th>2</th>\n",
       "      <td>0.000000</td>\n",
       "      <td>0.460256</td>\n",
       "      <td>0.444444</td>\n",
       "      <td>0.3</td>\n",
       "      <td>0.3</td>\n",
       "      <td>0.051282</td>\n",
       "      <td>0.052347</td>\n",
       "      <td>0.089765</td>\n",
       "      <td>0.254859</td>\n",
       "      <td>0</td>\n",
       "    </tr>\n",
       "    <tr>\n",
       "      <th>3</th>\n",
       "      <td>0.000000</td>\n",
       "      <td>0.507347</td>\n",
       "      <td>0.555556</td>\n",
       "      <td>0.4</td>\n",
       "      <td>0.5</td>\n",
       "      <td>0.384615</td>\n",
       "      <td>0.309913</td>\n",
       "      <td>0.289758</td>\n",
       "      <td>0.440784</td>\n",
       "      <td>0</td>\n",
       "    </tr>\n",
       "    <tr>\n",
       "      <th>4</th>\n",
       "      <td>0.400000</td>\n",
       "      <td>0.662020</td>\n",
       "      <td>0.666667</td>\n",
       "      <td>0.7</td>\n",
       "      <td>0.5</td>\n",
       "      <td>0.461538</td>\n",
       "      <td>0.497929</td>\n",
       "      <td>0.397544</td>\n",
       "      <td>0.392760</td>\n",
       "      <td>1</td>\n",
       "    </tr>\n",
       "    <tr>\n",
       "      <th>...</th>\n",
       "      <td>...</td>\n",
       "      <td>...</td>\n",
       "      <td>...</td>\n",
       "      <td>...</td>\n",
       "      <td>...</td>\n",
       "      <td>...</td>\n",
       "      <td>...</td>\n",
       "      <td>...</td>\n",
       "      <td>...</td>\n",
       "      <td>...</td>\n",
       "    </tr>\n",
       "    <tr>\n",
       "      <th>295</th>\n",
       "      <td>0.000000</td>\n",
       "      <td>0.576078</td>\n",
       "      <td>0.555556</td>\n",
       "      <td>0.6</td>\n",
       "      <td>0.6</td>\n",
       "      <td>0.230769</td>\n",
       "      <td>0.421105</td>\n",
       "      <td>0.354628</td>\n",
       "      <td>0.096438</td>\n",
       "      <td>0</td>\n",
       "    </tr>\n",
       "    <tr>\n",
       "      <th>296</th>\n",
       "      <td>0.000000</td>\n",
       "      <td>0.587738</td>\n",
       "      <td>0.555556</td>\n",
       "      <td>0.5</td>\n",
       "      <td>0.5</td>\n",
       "      <td>0.230769</td>\n",
       "      <td>0.426939</td>\n",
       "      <td>0.201772</td>\n",
       "      <td>0.430858</td>\n",
       "      <td>1</td>\n",
       "    </tr>\n",
       "    <tr>\n",
       "      <th>297</th>\n",
       "      <td>0.400000</td>\n",
       "      <td>0.740044</td>\n",
       "      <td>0.666667</td>\n",
       "      <td>0.5</td>\n",
       "      <td>0.7</td>\n",
       "      <td>0.615385</td>\n",
       "      <td>0.681916</td>\n",
       "      <td>0.562821</td>\n",
       "      <td>0.681403</td>\n",
       "      <td>1</td>\n",
       "    </tr>\n",
       "    <tr>\n",
       "      <th>298</th>\n",
       "      <td>0.333333</td>\n",
       "      <td>0.654656</td>\n",
       "      <td>0.666667</td>\n",
       "      <td>0.5</td>\n",
       "      <td>0.7</td>\n",
       "      <td>0.589744</td>\n",
       "      <td>0.585173</td>\n",
       "      <td>0.549063</td>\n",
       "      <td>0.663228</td>\n",
       "      <td>1</td>\n",
       "    </tr>\n",
       "    <tr>\n",
       "      <th>299</th>\n",
       "      <td>0.600000</td>\n",
       "      <td>0.754280</td>\n",
       "      <td>0.222222</td>\n",
       "      <td>0.7</td>\n",
       "      <td>0.8</td>\n",
       "      <td>0.820513</td>\n",
       "      <td>0.936553</td>\n",
       "      <td>0.793214</td>\n",
       "      <td>0.718935</td>\n",
       "      <td>1</td>\n",
       "    </tr>\n",
       "  </tbody>\n",
       "</table>\n",
       "<p>300 rows × 10 columns</p>\n",
       "</div>"
      ],
      "text/plain": [
       "     years_of_experience  functional_competency_score  top1_skills_score  \\\n",
       "0               0.333333                     0.749498           0.777778   \n",
       "1               0.133333                     0.490638           0.777778   \n",
       "2               0.000000                     0.460256           0.444444   \n",
       "3               0.000000                     0.507347           0.555556   \n",
       "4               0.400000                     0.662020           0.666667   \n",
       "..                   ...                          ...                ...   \n",
       "295             0.000000                     0.576078           0.555556   \n",
       "296             0.000000                     0.587738           0.555556   \n",
       "297             0.400000                     0.740044           0.666667   \n",
       "298             0.333333                     0.654656           0.666667   \n",
       "299             0.600000                     0.754280           0.222222   \n",
       "\n",
       "     top2_skills_score  top3_skills_score  behavior_competency_score  \\\n",
       "0                  0.7                0.8                   0.769231   \n",
       "1                  0.3                0.4                   0.153846   \n",
       "2                  0.3                0.3                   0.051282   \n",
       "3                  0.4                0.5                   0.384615   \n",
       "4                  0.7                0.5                   0.461538   \n",
       "..                 ...                ...                        ...   \n",
       "295                0.6                0.6                   0.230769   \n",
       "296                0.5                0.5                   0.230769   \n",
       "297                0.5                0.7                   0.615385   \n",
       "298                0.5                0.7                   0.589744   \n",
       "299                0.7                0.8                   0.820513   \n",
       "\n",
       "     top1_behavior_skill_score  top2_behavior_skill_score  \\\n",
       "0                     0.931689                   0.662042   \n",
       "1                     0.352093                   0.132231   \n",
       "2                     0.052347                   0.089765   \n",
       "3                     0.309913                   0.289758   \n",
       "4                     0.497929                   0.397544   \n",
       "..                         ...                        ...   \n",
       "295                   0.421105                   0.354628   \n",
       "296                   0.426939                   0.201772   \n",
       "297                   0.681916                   0.562821   \n",
       "298                   0.585173                   0.549063   \n",
       "299                   0.936553                   0.793214   \n",
       "\n",
       "     top3_behavior_skill_score  call_for_interview  \n",
       "0                     0.752463                   1  \n",
       "1                     0.316905                   0  \n",
       "2                     0.254859                   0  \n",
       "3                     0.440784                   0  \n",
       "4                     0.392760                   1  \n",
       "..                         ...                 ...  \n",
       "295                   0.096438                   0  \n",
       "296                   0.430858                   1  \n",
       "297                   0.681403                   1  \n",
       "298                   0.663228                   1  \n",
       "299                   0.718935                   1  \n",
       "\n",
       "[300 rows x 10 columns]"
      ]
     },
     "execution_count": 92,
     "metadata": {},
     "output_type": "execute_result"
    }
   ],
   "source": [
    "df"
   ]
  },
  {
   "cell_type": "code",
   "execution_count": 93,
   "id": "3d8ff40e",
   "metadata": {},
   "outputs": [
    {
     "name": "stdout",
     "output_type": "stream",
     "text": [
      "     years_of_experience  functional_competency_score  top1_skills_score  \\\n",
      "0                      8                     0.749498           0.777778   \n",
      "1                      7                     0.490638           0.777778   \n",
      "2                      8                     0.460256           0.444444   \n",
      "3                      7                     0.507347           0.555556   \n",
      "4                      4                     0.662020           0.666667   \n",
      "..                   ...                          ...                ...   \n",
      "295                    5                     0.576078           0.555556   \n",
      "296                    6                     0.587738           0.555556   \n",
      "297                    6                     0.740044           0.666667   \n",
      "298                    8                     0.654656           0.666667   \n",
      "299                    4                     0.754280           0.222222   \n",
      "\n",
      "     top2_skills_score  top3_skills_score  behavior_competency_score  \\\n",
      "0                  0.7                0.8                   0.769231   \n",
      "1                  0.3                0.4                   0.153846   \n",
      "2                  0.3                0.3                   0.051282   \n",
      "3                  0.4                0.5                   0.384615   \n",
      "4                  0.7                0.5                   0.461538   \n",
      "..                 ...                ...                        ...   \n",
      "295                0.6                0.6                   0.230769   \n",
      "296                0.5                0.5                   0.230769   \n",
      "297                0.5                0.7                   0.615385   \n",
      "298                0.5                0.7                   0.589744   \n",
      "299                0.7                0.8                   0.820513   \n",
      "\n",
      "     top1_behavior_skill_score  top2_behavior_skill_score  \\\n",
      "0                     0.931689                   0.662042   \n",
      "1                     0.352093                   0.132231   \n",
      "2                     0.052347                   0.089765   \n",
      "3                     0.309913                   0.289758   \n",
      "4                     0.497929                   0.397544   \n",
      "..                         ...                        ...   \n",
      "295                   0.421105                   0.354628   \n",
      "296                   0.426939                   0.201772   \n",
      "297                   0.681916                   0.562821   \n",
      "298                   0.585173                   0.549063   \n",
      "299                   0.936553                   0.793214   \n",
      "\n",
      "     top3_behavior_skill_score  call_for_interview  \n",
      "0                     0.752463                   1  \n",
      "1                     0.316905                   0  \n",
      "2                     0.254859                   0  \n",
      "3                     0.440784                   0  \n",
      "4                     0.392760                   1  \n",
      "..                         ...                 ...  \n",
      "295                   0.096438                   0  \n",
      "296                   0.430858                   1  \n",
      "297                   0.681403                   1  \n",
      "298                   0.663228                   1  \n",
      "299                   0.718935                   1  \n",
      "\n",
      "[300 rows x 10 columns]\n"
     ]
    }
   ],
   "source": [
    "column_name = 'years_of_experience'\n",
    "\n",
    "# Use NumPy to replace values in the specified column\n",
    "# Randomly generate values greater than 4 to replace existing values\n",
    "df[column_name] = np.random.randint(4, 10, size=len(df))\n",
    "\n",
    "\n",
    "print(df)"
   ]
  },
  {
   "cell_type": "code",
   "execution_count": 94,
   "id": "3bcc3bb5",
   "metadata": {
    "scrolled": true
   },
   "outputs": [
    {
     "data": {
      "text/html": [
       "<div>\n",
       "<style scoped>\n",
       "    .dataframe tbody tr th:only-of-type {\n",
       "        vertical-align: middle;\n",
       "    }\n",
       "\n",
       "    .dataframe tbody tr th {\n",
       "        vertical-align: top;\n",
       "    }\n",
       "\n",
       "    .dataframe thead th {\n",
       "        text-align: right;\n",
       "    }\n",
       "</style>\n",
       "<table border=\"1\" class=\"dataframe\">\n",
       "  <thead>\n",
       "    <tr style=\"text-align: right;\">\n",
       "      <th></th>\n",
       "      <th>years_of_experience</th>\n",
       "      <th>functional_competency_score</th>\n",
       "      <th>top1_skills_score</th>\n",
       "      <th>top2_skills_score</th>\n",
       "      <th>top3_skills_score</th>\n",
       "      <th>behavior_competency_score</th>\n",
       "      <th>top1_behavior_skill_score</th>\n",
       "      <th>top2_behavior_skill_score</th>\n",
       "      <th>top3_behavior_skill_score</th>\n",
       "      <th>call_for_interview</th>\n",
       "    </tr>\n",
       "  </thead>\n",
       "  <tbody>\n",
       "    <tr>\n",
       "      <th>0</th>\n",
       "      <td>8</td>\n",
       "      <td>0.749498</td>\n",
       "      <td>0.777778</td>\n",
       "      <td>0.7</td>\n",
       "      <td>0.8</td>\n",
       "      <td>0.769231</td>\n",
       "      <td>0.931689</td>\n",
       "      <td>0.662042</td>\n",
       "      <td>0.752463</td>\n",
       "      <td>1</td>\n",
       "    </tr>\n",
       "    <tr>\n",
       "      <th>1</th>\n",
       "      <td>7</td>\n",
       "      <td>0.490638</td>\n",
       "      <td>0.777778</td>\n",
       "      <td>0.3</td>\n",
       "      <td>0.4</td>\n",
       "      <td>0.153846</td>\n",
       "      <td>0.352093</td>\n",
       "      <td>0.132231</td>\n",
       "      <td>0.316905</td>\n",
       "      <td>0</td>\n",
       "    </tr>\n",
       "    <tr>\n",
       "      <th>2</th>\n",
       "      <td>8</td>\n",
       "      <td>0.460256</td>\n",
       "      <td>0.444444</td>\n",
       "      <td>0.3</td>\n",
       "      <td>0.3</td>\n",
       "      <td>0.051282</td>\n",
       "      <td>0.052347</td>\n",
       "      <td>0.089765</td>\n",
       "      <td>0.254859</td>\n",
       "      <td>0</td>\n",
       "    </tr>\n",
       "    <tr>\n",
       "      <th>3</th>\n",
       "      <td>7</td>\n",
       "      <td>0.507347</td>\n",
       "      <td>0.555556</td>\n",
       "      <td>0.4</td>\n",
       "      <td>0.5</td>\n",
       "      <td>0.384615</td>\n",
       "      <td>0.309913</td>\n",
       "      <td>0.289758</td>\n",
       "      <td>0.440784</td>\n",
       "      <td>0</td>\n",
       "    </tr>\n",
       "    <tr>\n",
       "      <th>4</th>\n",
       "      <td>4</td>\n",
       "      <td>0.662020</td>\n",
       "      <td>0.666667</td>\n",
       "      <td>0.7</td>\n",
       "      <td>0.5</td>\n",
       "      <td>0.461538</td>\n",
       "      <td>0.497929</td>\n",
       "      <td>0.397544</td>\n",
       "      <td>0.392760</td>\n",
       "      <td>1</td>\n",
       "    </tr>\n",
       "    <tr>\n",
       "      <th>...</th>\n",
       "      <td>...</td>\n",
       "      <td>...</td>\n",
       "      <td>...</td>\n",
       "      <td>...</td>\n",
       "      <td>...</td>\n",
       "      <td>...</td>\n",
       "      <td>...</td>\n",
       "      <td>...</td>\n",
       "      <td>...</td>\n",
       "      <td>...</td>\n",
       "    </tr>\n",
       "    <tr>\n",
       "      <th>295</th>\n",
       "      <td>5</td>\n",
       "      <td>0.576078</td>\n",
       "      <td>0.555556</td>\n",
       "      <td>0.6</td>\n",
       "      <td>0.6</td>\n",
       "      <td>0.230769</td>\n",
       "      <td>0.421105</td>\n",
       "      <td>0.354628</td>\n",
       "      <td>0.096438</td>\n",
       "      <td>0</td>\n",
       "    </tr>\n",
       "    <tr>\n",
       "      <th>296</th>\n",
       "      <td>6</td>\n",
       "      <td>0.587738</td>\n",
       "      <td>0.555556</td>\n",
       "      <td>0.5</td>\n",
       "      <td>0.5</td>\n",
       "      <td>0.230769</td>\n",
       "      <td>0.426939</td>\n",
       "      <td>0.201772</td>\n",
       "      <td>0.430858</td>\n",
       "      <td>1</td>\n",
       "    </tr>\n",
       "    <tr>\n",
       "      <th>297</th>\n",
       "      <td>6</td>\n",
       "      <td>0.740044</td>\n",
       "      <td>0.666667</td>\n",
       "      <td>0.5</td>\n",
       "      <td>0.7</td>\n",
       "      <td>0.615385</td>\n",
       "      <td>0.681916</td>\n",
       "      <td>0.562821</td>\n",
       "      <td>0.681403</td>\n",
       "      <td>1</td>\n",
       "    </tr>\n",
       "    <tr>\n",
       "      <th>298</th>\n",
       "      <td>8</td>\n",
       "      <td>0.654656</td>\n",
       "      <td>0.666667</td>\n",
       "      <td>0.5</td>\n",
       "      <td>0.7</td>\n",
       "      <td>0.589744</td>\n",
       "      <td>0.585173</td>\n",
       "      <td>0.549063</td>\n",
       "      <td>0.663228</td>\n",
       "      <td>1</td>\n",
       "    </tr>\n",
       "    <tr>\n",
       "      <th>299</th>\n",
       "      <td>4</td>\n",
       "      <td>0.754280</td>\n",
       "      <td>0.222222</td>\n",
       "      <td>0.7</td>\n",
       "      <td>0.8</td>\n",
       "      <td>0.820513</td>\n",
       "      <td>0.936553</td>\n",
       "      <td>0.793214</td>\n",
       "      <td>0.718935</td>\n",
       "      <td>1</td>\n",
       "    </tr>\n",
       "  </tbody>\n",
       "</table>\n",
       "<p>300 rows × 10 columns</p>\n",
       "</div>"
      ],
      "text/plain": [
       "     years_of_experience  functional_competency_score  top1_skills_score  \\\n",
       "0                      8                     0.749498           0.777778   \n",
       "1                      7                     0.490638           0.777778   \n",
       "2                      8                     0.460256           0.444444   \n",
       "3                      7                     0.507347           0.555556   \n",
       "4                      4                     0.662020           0.666667   \n",
       "..                   ...                          ...                ...   \n",
       "295                    5                     0.576078           0.555556   \n",
       "296                    6                     0.587738           0.555556   \n",
       "297                    6                     0.740044           0.666667   \n",
       "298                    8                     0.654656           0.666667   \n",
       "299                    4                     0.754280           0.222222   \n",
       "\n",
       "     top2_skills_score  top3_skills_score  behavior_competency_score  \\\n",
       "0                  0.7                0.8                   0.769231   \n",
       "1                  0.3                0.4                   0.153846   \n",
       "2                  0.3                0.3                   0.051282   \n",
       "3                  0.4                0.5                   0.384615   \n",
       "4                  0.7                0.5                   0.461538   \n",
       "..                 ...                ...                        ...   \n",
       "295                0.6                0.6                   0.230769   \n",
       "296                0.5                0.5                   0.230769   \n",
       "297                0.5                0.7                   0.615385   \n",
       "298                0.5                0.7                   0.589744   \n",
       "299                0.7                0.8                   0.820513   \n",
       "\n",
       "     top1_behavior_skill_score  top2_behavior_skill_score  \\\n",
       "0                     0.931689                   0.662042   \n",
       "1                     0.352093                   0.132231   \n",
       "2                     0.052347                   0.089765   \n",
       "3                     0.309913                   0.289758   \n",
       "4                     0.497929                   0.397544   \n",
       "..                         ...                        ...   \n",
       "295                   0.421105                   0.354628   \n",
       "296                   0.426939                   0.201772   \n",
       "297                   0.681916                   0.562821   \n",
       "298                   0.585173                   0.549063   \n",
       "299                   0.936553                   0.793214   \n",
       "\n",
       "     top3_behavior_skill_score  call_for_interview  \n",
       "0                     0.752463                   1  \n",
       "1                     0.316905                   0  \n",
       "2                     0.254859                   0  \n",
       "3                     0.440784                   0  \n",
       "4                     0.392760                   1  \n",
       "..                         ...                 ...  \n",
       "295                   0.096438                   0  \n",
       "296                   0.430858                   1  \n",
       "297                   0.681403                   1  \n",
       "298                   0.663228                   1  \n",
       "299                   0.718935                   1  \n",
       "\n",
       "[300 rows x 10 columns]"
      ]
     },
     "execution_count": 94,
     "metadata": {},
     "output_type": "execute_result"
    }
   ],
   "source": [
    "df"
   ]
  },
  {
   "cell_type": "markdown",
   "id": "ba92ef43",
   "metadata": {},
   "source": [
    "Now we have the column of years_of_experience of min of 4 and more\n"
   ]
  },
  {
   "cell_type": "code",
   "execution_count": null,
   "id": "7b330fcc",
   "metadata": {},
   "outputs": [],
   "source": []
  },
  {
   "cell_type": "code",
   "execution_count": 95,
   "id": "ea89982e",
   "metadata": {},
   "outputs": [
    {
     "data": {
      "text/html": [
       "<div>\n",
       "<style scoped>\n",
       "    .dataframe tbody tr th:only-of-type {\n",
       "        vertical-align: middle;\n",
       "    }\n",
       "\n",
       "    .dataframe tbody tr th {\n",
       "        vertical-align: top;\n",
       "    }\n",
       "\n",
       "    .dataframe thead th {\n",
       "        text-align: right;\n",
       "    }\n",
       "</style>\n",
       "<table border=\"1\" class=\"dataframe\">\n",
       "  <thead>\n",
       "    <tr style=\"text-align: right;\">\n",
       "      <th></th>\n",
       "      <th>years_of_experience</th>\n",
       "      <th>functional_competency_score</th>\n",
       "      <th>top1_skills_score</th>\n",
       "      <th>top2_skills_score</th>\n",
       "      <th>top3_skills_score</th>\n",
       "      <th>behavior_competency_score</th>\n",
       "      <th>top1_behavior_skill_score</th>\n",
       "      <th>top2_behavior_skill_score</th>\n",
       "      <th>top3_behavior_skill_score</th>\n",
       "      <th>call_for_interview</th>\n",
       "    </tr>\n",
       "  </thead>\n",
       "  <tbody>\n",
       "    <tr>\n",
       "      <th>count</th>\n",
       "      <td>300.000000</td>\n",
       "      <td>300.000000</td>\n",
       "      <td>300.000000</td>\n",
       "      <td>300.000000</td>\n",
       "      <td>300.000000</td>\n",
       "      <td>300.000000</td>\n",
       "      <td>300.000000</td>\n",
       "      <td>300.000000</td>\n",
       "      <td>300.000000</td>\n",
       "      <td>300.000000</td>\n",
       "    </tr>\n",
       "    <tr>\n",
       "      <th>mean</th>\n",
       "      <td>6.526667</td>\n",
       "      <td>0.578350</td>\n",
       "      <td>0.681111</td>\n",
       "      <td>0.510667</td>\n",
       "      <td>0.521667</td>\n",
       "      <td>0.457692</td>\n",
       "      <td>0.480880</td>\n",
       "      <td>0.434732</td>\n",
       "      <td>0.426792</td>\n",
       "      <td>0.530000</td>\n",
       "    </tr>\n",
       "    <tr>\n",
       "      <th>std</th>\n",
       "      <td>1.644680</td>\n",
       "      <td>0.156784</td>\n",
       "      <td>0.238006</td>\n",
       "      <td>0.229482</td>\n",
       "      <td>0.230523</td>\n",
       "      <td>0.260942</td>\n",
       "      <td>0.244018</td>\n",
       "      <td>0.225863</td>\n",
       "      <td>0.248246</td>\n",
       "      <td>0.499933</td>\n",
       "    </tr>\n",
       "    <tr>\n",
       "      <th>min</th>\n",
       "      <td>4.000000</td>\n",
       "      <td>0.000000</td>\n",
       "      <td>0.000000</td>\n",
       "      <td>0.000000</td>\n",
       "      <td>0.000000</td>\n",
       "      <td>0.000000</td>\n",
       "      <td>0.000000</td>\n",
       "      <td>0.000000</td>\n",
       "      <td>0.000000</td>\n",
       "      <td>0.000000</td>\n",
       "    </tr>\n",
       "    <tr>\n",
       "      <th>25%</th>\n",
       "      <td>5.000000</td>\n",
       "      <td>0.480041</td>\n",
       "      <td>0.527778</td>\n",
       "      <td>0.300000</td>\n",
       "      <td>0.300000</td>\n",
       "      <td>0.230769</td>\n",
       "      <td>0.297052</td>\n",
       "      <td>0.249501</td>\n",
       "      <td>0.224828</td>\n",
       "      <td>0.000000</td>\n",
       "    </tr>\n",
       "    <tr>\n",
       "      <th>50%</th>\n",
       "      <td>6.500000</td>\n",
       "      <td>0.576121</td>\n",
       "      <td>0.666667</td>\n",
       "      <td>0.500000</td>\n",
       "      <td>0.500000</td>\n",
       "      <td>0.358974</td>\n",
       "      <td>0.433097</td>\n",
       "      <td>0.401338</td>\n",
       "      <td>0.389711</td>\n",
       "      <td>1.000000</td>\n",
       "    </tr>\n",
       "    <tr>\n",
       "      <th>75%</th>\n",
       "      <td>8.000000</td>\n",
       "      <td>0.685611</td>\n",
       "      <td>0.888889</td>\n",
       "      <td>0.700000</td>\n",
       "      <td>0.700000</td>\n",
       "      <td>0.666667</td>\n",
       "      <td>0.687145</td>\n",
       "      <td>0.612519</td>\n",
       "      <td>0.632039</td>\n",
       "      <td>1.000000</td>\n",
       "    </tr>\n",
       "    <tr>\n",
       "      <th>max</th>\n",
       "      <td>9.000000</td>\n",
       "      <td>1.000000</td>\n",
       "      <td>1.000000</td>\n",
       "      <td>1.000000</td>\n",
       "      <td>1.000000</td>\n",
       "      <td>1.000000</td>\n",
       "      <td>1.000000</td>\n",
       "      <td>1.000000</td>\n",
       "      <td>1.000000</td>\n",
       "      <td>1.000000</td>\n",
       "    </tr>\n",
       "  </tbody>\n",
       "</table>\n",
       "</div>"
      ],
      "text/plain": [
       "       years_of_experience  functional_competency_score  top1_skills_score  \\\n",
       "count           300.000000                   300.000000         300.000000   \n",
       "mean              6.526667                     0.578350           0.681111   \n",
       "std               1.644680                     0.156784           0.238006   \n",
       "min               4.000000                     0.000000           0.000000   \n",
       "25%               5.000000                     0.480041           0.527778   \n",
       "50%               6.500000                     0.576121           0.666667   \n",
       "75%               8.000000                     0.685611           0.888889   \n",
       "max               9.000000                     1.000000           1.000000   \n",
       "\n",
       "       top2_skills_score  top3_skills_score  behavior_competency_score  \\\n",
       "count         300.000000         300.000000                 300.000000   \n",
       "mean            0.510667           0.521667                   0.457692   \n",
       "std             0.229482           0.230523                   0.260942   \n",
       "min             0.000000           0.000000                   0.000000   \n",
       "25%             0.300000           0.300000                   0.230769   \n",
       "50%             0.500000           0.500000                   0.358974   \n",
       "75%             0.700000           0.700000                   0.666667   \n",
       "max             1.000000           1.000000                   1.000000   \n",
       "\n",
       "       top1_behavior_skill_score  top2_behavior_skill_score  \\\n",
       "count                 300.000000                 300.000000   \n",
       "mean                    0.480880                   0.434732   \n",
       "std                     0.244018                   0.225863   \n",
       "min                     0.000000                   0.000000   \n",
       "25%                     0.297052                   0.249501   \n",
       "50%                     0.433097                   0.401338   \n",
       "75%                     0.687145                   0.612519   \n",
       "max                     1.000000                   1.000000   \n",
       "\n",
       "       top3_behavior_skill_score  call_for_interview  \n",
       "count                 300.000000          300.000000  \n",
       "mean                    0.426792            0.530000  \n",
       "std                     0.248246            0.499933  \n",
       "min                     0.000000            0.000000  \n",
       "25%                     0.224828            0.000000  \n",
       "50%                     0.389711            1.000000  \n",
       "75%                     0.632039            1.000000  \n",
       "max                     1.000000            1.000000  "
      ]
     },
     "execution_count": 95,
     "metadata": {},
     "output_type": "execute_result"
    }
   ],
   "source": [
    "df.describe()"
   ]
  },
  {
   "cell_type": "code",
   "execution_count": 96,
   "id": "6d77e74f",
   "metadata": {},
   "outputs": [
    {
     "name": "stdout",
     "output_type": "stream",
     "text": [
      "<class 'pandas.core.frame.DataFrame'>\n",
      "RangeIndex: 300 entries, 0 to 299\n",
      "Data columns (total 10 columns):\n",
      " #   Column                       Non-Null Count  Dtype  \n",
      "---  ------                       --------------  -----  \n",
      " 0   years_of_experience          300 non-null    int64  \n",
      " 1   functional_competency_score  300 non-null    float64\n",
      " 2   top1_skills_score            300 non-null    float64\n",
      " 3   top2_skills_score            300 non-null    float64\n",
      " 4   top3_skills_score            300 non-null    float64\n",
      " 5   behavior_competency_score    300 non-null    float64\n",
      " 6   top1_behavior_skill_score    300 non-null    float64\n",
      " 7   top2_behavior_skill_score    300 non-null    float64\n",
      " 8   top3_behavior_skill_score    300 non-null    float64\n",
      " 9   call_for_interview           300 non-null    int64  \n",
      "dtypes: float64(8), int64(2)\n",
      "memory usage: 23.6 KB\n"
     ]
    }
   ],
   "source": [
    "df.info()"
   ]
  },
  {
   "cell_type": "code",
   "execution_count": 97,
   "id": "a274b4d2",
   "metadata": {
    "scrolled": true
   },
   "outputs": [
    {
     "data": {
      "text/plain": [
       "years_of_experience            0\n",
       "functional_competency_score    0\n",
       "top1_skills_score              0\n",
       "top2_skills_score              0\n",
       "top3_skills_score              0\n",
       "behavior_competency_score      0\n",
       "top1_behavior_skill_score      0\n",
       "top2_behavior_skill_score      0\n",
       "top3_behavior_skill_score      0\n",
       "call_for_interview             0\n",
       "dtype: int64"
      ]
     },
     "execution_count": 97,
     "metadata": {},
     "output_type": "execute_result"
    }
   ],
   "source": [
    "df.isnull().sum()"
   ]
  },
  {
   "cell_type": "code",
   "execution_count": 126,
   "id": "2219d574",
   "metadata": {},
   "outputs": [
    {
     "name": "stdout",
     "output_type": "stream",
     "text": [
      "call_for_interview             1.000000\n",
      "behavior_competency_score      0.729579\n",
      "top3_behavior_skill_score      0.728638\n",
      "top1_behavior_skill_score      0.698488\n",
      "top2_behavior_skill_score      0.670361\n",
      "top1_skills_score              0.663129\n",
      "top2_skills_score              0.606479\n",
      "top3_skills_score              0.573296\n",
      "functional_competency_score    0.522524\n",
      "years_of_experience            0.064024\n",
      "Name: call_for_interview, dtype: float64\n"
     ]
    }
   ],
   "source": [
    "print(df.corr()['call_for_interview'].abs().sort_values(ascending = False))"
   ]
  },
  {
   "cell_type": "code",
   "execution_count": 141,
   "id": "31854473",
   "metadata": {},
   "outputs": [
    {
     "data": {
      "image/png": "[encoded data removed]",
      "text/plain": [
       "<Figure size 2000x1000 with 10 Axes>"
      ]
     },
     "metadata": {},
     "output_type": "display_data"
    }
   ],
   "source": [
    "fig,axis = plt.subplots(1,10,figsize =(20,10))\n",
    "df.hist(ax=axis, bins =5, grid=False)\n",
    "plt.xticks(rotation=90)\n",
    "plt.show()"
   ]
  },
  {
   "cell_type": "code",
   "execution_count": 171,
   "id": "9048a16f",
   "metadata": {},
   "outputs": [
    {
     "data": {
      "image/png": "[encoded data removed]",
      "text/plain": [
       "<Figure size 640x480 with 1 Axes>"
      ]
     },
     "metadata": {},
     "output_type": "display_data"
    }
   ],
   "source": [
    "sns.barplot(\n",
    "    data=df,\n",
    "    x=\"years_of_experience\", y=\"call_for_interview\",\n",
    ")\n",
    "plt.xticks(rotation=90)\n",
    "plt.show()"
   ]
  },
  {
   "cell_type": "code",
   "execution_count": 182,
   "id": "4ef9cfe4",
   "metadata": {},
   "outputs": [
    {
     "data": {
      "image/png": "[encoded data removed]",
      "text/plain": [
       "<Figure size 640x480 with 1 Axes>"
      ]
     },
     "metadata": {},
     "output_type": "display_data"
    }
   ],
   "source": [
    "sns.lineplot(data = df, y= \"behavior_competency_score\",x = \"call_for_interview\")\n",
    "\n",
    "plt.xticks(rotation=90)\n",
    "plt.show()"
   ]
  },
  {
   "cell_type": "code",
   "execution_count": 186,
   "id": "28207de7",
   "metadata": {
    "scrolled": true
   },
   "outputs": [
    {
     "data": {
      "image/png": "[encoded data removed]",
      "text/plain": [
       "<Figure size 640x480 with 1 Axes>"
      ]
     },
     "metadata": {},
     "output_type": "display_data"
    }
   ],
   "source": [
    "sns.lineplot(data = df, y = \"top3_behavior_skill_score\",x = \"call_for_interview\")\n",
    "\n",
    "plt.xticks(rotation=90)\n",
    "plt.show()"
   ]
  },
  {
   "cell_type": "code",
   "execution_count": 195,
   "id": "87c71752",
   "metadata": {},
   "outputs": [
    {
     "data": {
      "image/png": "[encoded data removed]",
      "text/plain": [
       "<Figure size 640x480 with 1 Axes>"
      ]
     },
     "metadata": {},
     "output_type": "display_data"
    }
   ],
   "source": [
    "sns.lineplot(data = df, y = \"top1_behavior_skill_score\",x = \"call_for_interview\")\n",
    "\n",
    "plt.xticks(rotation=90)\n",
    "plt.show()"
   ]
  },
  {
   "cell_type": "markdown",
   "id": "d2bb7b38",
   "metadata": {},
   "source": [
    "As, we can see that the above features are highly correlated to our target variable \" call_for_interview\" and it follows below"
   ]
  },
  {
   "cell_type": "code",
   "execution_count": 206,
   "id": "e906775c",
   "metadata": {},
   "outputs": [
    {
     "data": {
      "text/plain": [
       "<Figure size 1000x1500 with 0 Axes>"
      ]
     },
     "metadata": {},
     "output_type": "display_data"
    },
    {
     "data": {
      "image/png": "[encoded data removed]",
      "text/plain": [
       "<Figure size 640x480 with 1 Axes>"
      ]
     },
     "metadata": {},
     "output_type": "display_data"
    }
   ],
   "source": [
    "plt.figure(figsize=(10,15))\n",
    "ax = df.plot(kind='box', title='boxplot')\n",
    "plt.xticks(rotation=90)\n",
    "plt.show()"
   ]
  },
  {
   "cell_type": "code",
   "execution_count": 133,
   "id": "0210dc36",
   "metadata": {},
   "outputs": [
    {
     "data": {
      "text/plain": [
       "<Axes: >"
      ]
     },
     "execution_count": 133,
     "metadata": {},
     "output_type": "execute_result"
    },
    {
     "data": {
      "image/png": "[encoded data removed]",
      "text/plain": [
       "<Figure size 640x480 with 2 Axes>"
      ]
     },
     "metadata": {},
     "output_type": "display_data"
    }
   ],
   "source": [
    "sns.heatmap(df.corr(), annot=True)"
   ]
  },
  {
   "cell_type": "markdown",
   "id": "67531553",
   "metadata": {},
   "source": [
    "# another dataset"
   ]
  },
  {
   "cell_type": "code",
   "execution_count": 120,
   "id": "56d30f4e",
   "metadata": {},
   "outputs": [],
   "source": [
    "df1 = pd.read_csv('/Users/ishikadang/Desktop/Untitled Folder 1/UpdatedResumeDataSet.csv')"
   ]
  },
  {
   "cell_type": "code",
   "execution_count": 136,
   "id": "802c9cf8",
   "metadata": {
    "scrolled": true
   },
   "outputs": [
    {
     "data": {
      "text/html": [
       "<div>\n",
       "<style scoped>\n",
       "    .dataframe tbody tr th:only-of-type {\n",
       "        vertical-align: middle;\n",
       "    }\n",
       "\n",
       "    .dataframe tbody tr th {\n",
       "        vertical-align: top;\n",
       "    }\n",
       "\n",
       "    .dataframe thead th {\n",
       "        text-align: right;\n",
       "    }\n",
       "</style>\n",
       "<table border=\"1\" class=\"dataframe\">\n",
       "  <thead>\n",
       "    <tr style=\"text-align: right;\">\n",
       "      <th></th>\n",
       "      <th>Category</th>\n",
       "      <th>Resume</th>\n",
       "    </tr>\n",
       "  </thead>\n",
       "  <tbody>\n",
       "    <tr>\n",
       "      <th>0</th>\n",
       "      <td>Data Science</td>\n",
       "      <td>Skills * Programming Languages: Python (pandas...</td>\n",
       "    </tr>\n",
       "    <tr>\n",
       "      <th>1</th>\n",
       "      <td>Data Science</td>\n",
       "      <td>Education Details \\r\\nMay 2013 to May 2017 B.E...</td>\n",
       "    </tr>\n",
       "    <tr>\n",
       "      <th>2</th>\n",
       "      <td>Data Science</td>\n",
       "      <td>Areas of Interest Deep Learning, Control Syste...</td>\n",
       "    </tr>\n",
       "    <tr>\n",
       "      <th>3</th>\n",
       "      <td>Data Science</td>\n",
       "      <td>Skills â¢ R â¢ Python â¢ SAP HANA â¢ Table...</td>\n",
       "    </tr>\n",
       "    <tr>\n",
       "      <th>4</th>\n",
       "      <td>Data Science</td>\n",
       "      <td>Education Details \\r\\n MCA   YMCAUST,  Faridab...</td>\n",
       "    </tr>\n",
       "    <tr>\n",
       "      <th>...</th>\n",
       "      <td>...</td>\n",
       "      <td>...</td>\n",
       "    </tr>\n",
       "    <tr>\n",
       "      <th>957</th>\n",
       "      <td>Testing</td>\n",
       "      <td>Computer Skills: â¢ Proficient in MS office (...</td>\n",
       "    </tr>\n",
       "    <tr>\n",
       "      <th>958</th>\n",
       "      <td>Testing</td>\n",
       "      <td>â Willingness to accept the challenges. â ...</td>\n",
       "    </tr>\n",
       "    <tr>\n",
       "      <th>959</th>\n",
       "      <td>Testing</td>\n",
       "      <td>PERSONAL SKILLS â¢ Quick learner, â¢ Eagerne...</td>\n",
       "    </tr>\n",
       "    <tr>\n",
       "      <th>960</th>\n",
       "      <td>Testing</td>\n",
       "      <td>COMPUTER SKILLS &amp; SOFTWARE KNOWLEDGE MS-Power ...</td>\n",
       "    </tr>\n",
       "    <tr>\n",
       "      <th>961</th>\n",
       "      <td>Testing</td>\n",
       "      <td>Skill Set OS Windows XP/7/8/8.1/10 Database MY...</td>\n",
       "    </tr>\n",
       "  </tbody>\n",
       "</table>\n",
       "<p>962 rows × 2 columns</p>\n",
       "</div>"
      ],
      "text/plain": [
       "         Category                                             Resume\n",
       "0    Data Science  Skills * Programming Languages: Python (pandas...\n",
       "1    Data Science  Education Details \\r\\nMay 2013 to May 2017 B.E...\n",
       "2    Data Science  Areas of Interest Deep Learning, Control Syste...\n",
       "3    Data Science  Skills â¢ R â¢ Python â¢ SAP HANA â¢ Table...\n",
       "4    Data Science  Education Details \\r\\n MCA   YMCAUST,  Faridab...\n",
       "..            ...                                                ...\n",
       "957       Testing  Computer Skills: â¢ Proficient in MS office (...\n",
       "958       Testing  â Willingness to accept the challenges. â ...\n",
       "959       Testing  PERSONAL SKILLS â¢ Quick learner, â¢ Eagerne...\n",
       "960       Testing  COMPUTER SKILLS & SOFTWARE KNOWLEDGE MS-Power ...\n",
       "961       Testing  Skill Set OS Windows XP/7/8/8.1/10 Database MY...\n",
       "\n",
       "[962 rows x 2 columns]"
      ]
     },
     "execution_count": 136,
     "metadata": {},
     "output_type": "execute_result"
    }
   ],
   "source": [
    "df1"
   ]
  },
  {
   "cell_type": "markdown",
   "id": "803b9716",
   "metadata": {},
   "source": [
    "The top four job categories we have in the data are \n",
    "\n",
    "Java developer, Testing, and DevOps Engineer, Python Developer"
   ]
  },
  {
   "cell_type": "code",
   "execution_count": 239,
   "id": "fb3128bd",
   "metadata": {},
   "outputs": [],
   "source": [
    "#slicing the dataset to get first 300 values only\n",
    "data= df1[:300]"
   ]
  },
  {
   "cell_type": "code",
   "execution_count": 138,
   "id": "f8a89fe4",
   "metadata": {
    "scrolled": true
   },
   "outputs": [
    {
     "data": {
      "text/html": [
       "<div>\n",
       "<style scoped>\n",
       "    .dataframe tbody tr th:only-of-type {\n",
       "        vertical-align: middle;\n",
       "    }\n",
       "\n",
       "    .dataframe tbody tr th {\n",
       "        vertical-align: top;\n",
       "    }\n",
       "\n",
       "    .dataframe thead th {\n",
       "        text-align: right;\n",
       "    }\n",
       "</style>\n",
       "<table border=\"1\" class=\"dataframe\">\n",
       "  <thead>\n",
       "    <tr style=\"text-align: right;\">\n",
       "      <th></th>\n",
       "      <th>Category</th>\n",
       "      <th>Resume</th>\n",
       "    </tr>\n",
       "  </thead>\n",
       "  <tbody>\n",
       "    <tr>\n",
       "      <th>0</th>\n",
       "      <td>Data Science</td>\n",
       "      <td>Skills * Programming Languages: Python (pandas...</td>\n",
       "    </tr>\n",
       "    <tr>\n",
       "      <th>1</th>\n",
       "      <td>Data Science</td>\n",
       "      <td>Education Details \\r\\nMay 2013 to May 2017 B.E...</td>\n",
       "    </tr>\n",
       "    <tr>\n",
       "      <th>2</th>\n",
       "      <td>Data Science</td>\n",
       "      <td>Areas of Interest Deep Learning, Control Syste...</td>\n",
       "    </tr>\n",
       "    <tr>\n",
       "      <th>3</th>\n",
       "      <td>Data Science</td>\n",
       "      <td>Skills â¢ R â¢ Python â¢ SAP HANA â¢ Table...</td>\n",
       "    </tr>\n",
       "    <tr>\n",
       "      <th>4</th>\n",
       "      <td>Data Science</td>\n",
       "      <td>Education Details \\r\\n MCA   YMCAUST,  Faridab...</td>\n",
       "    </tr>\n",
       "    <tr>\n",
       "      <th>...</th>\n",
       "      <td>...</td>\n",
       "      <td>...</td>\n",
       "    </tr>\n",
       "    <tr>\n",
       "      <th>295</th>\n",
       "      <td>Civil Engineer</td>\n",
       "      <td>Education Details \\r\\n B.E in Civil Engineerin...</td>\n",
       "    </tr>\n",
       "    <tr>\n",
       "      <th>296</th>\n",
       "      <td>Civil Engineer</td>\n",
       "      <td>Education Details \\r\\nJanuary 2005 S.S.C  Bara...</td>\n",
       "    </tr>\n",
       "    <tr>\n",
       "      <th>297</th>\n",
       "      <td>Civil Engineer</td>\n",
       "      <td>SKILLS â¢ 1.Autocad â¢ 2.Pro v â¢ 3.Catia â...</td>\n",
       "    </tr>\n",
       "    <tr>\n",
       "      <th>298</th>\n",
       "      <td>Civil Engineer</td>\n",
       "      <td>Computer Skills â¢ Holder of valid KSA licens...</td>\n",
       "    </tr>\n",
       "    <tr>\n",
       "      <th>299</th>\n",
       "      <td>Civil Engineer</td>\n",
       "      <td>COMPUTER KNOWLEDGE â¢ Drafting tools: AutoCAD...</td>\n",
       "    </tr>\n",
       "  </tbody>\n",
       "</table>\n",
       "<p>300 rows × 2 columns</p>\n",
       "</div>"
      ],
      "text/plain": [
       "           Category                                             Resume\n",
       "0      Data Science  Skills * Programming Languages: Python (pandas...\n",
       "1      Data Science  Education Details \\r\\nMay 2013 to May 2017 B.E...\n",
       "2      Data Science  Areas of Interest Deep Learning, Control Syste...\n",
       "3      Data Science  Skills â¢ R â¢ Python â¢ SAP HANA â¢ Table...\n",
       "4      Data Science  Education Details \\r\\n MCA   YMCAUST,  Faridab...\n",
       "..              ...                                                ...\n",
       "295  Civil Engineer  Education Details \\r\\n B.E in Civil Engineerin...\n",
       "296  Civil Engineer  Education Details \\r\\nJanuary 2005 S.S.C  Bara...\n",
       "297  Civil Engineer  SKILLS â¢ 1.Autocad â¢ 2.Pro v â¢ 3.Catia â...\n",
       "298  Civil Engineer  Computer Skills â¢ Holder of valid KSA licens...\n",
       "299  Civil Engineer  COMPUTER KNOWLEDGE â¢ Drafting tools: AutoCAD...\n",
       "\n",
       "[300 rows x 2 columns]"
      ]
     },
     "execution_count": 138,
     "metadata": {},
     "output_type": "execute_result"
    }
   ],
   "source": [
    "data"
   ]
  },
  {
   "cell_type": "code",
   "execution_count": 159,
   "id": "59159bbd",
   "metadata": {},
   "outputs": [
    {
     "data": {
      "application/vnd.plotly.v1+json": {
       "config": {
        "plotlyServerURL": "https://plot.ly"
       },
       "data": [
        {
         "alignmentgroup": "True",
         "bingroup": "x",
         "hovertemplate": "Category=%{x}<br>count=%{y}<extra></extra>",
         "legendgroup": "",
         "marker": {
          "color": "#636efa",
          "pattern": {
           "shape": ""
          }
         },
         "name": "",
         "offsetgroup": "",
         "orientation": "v",
         "showlegend": false,
         "type": "histogram",
         "x": [
          "Data Science",
          "Data Science",
          "Data Science",
          "Data Science",
          "Data Science",
          "Data Science",
          "Data Science",
          "Data Science",
          "Data Science",
          "Data Science",
          "Data Science",
          "Data Science",
          "Data Science",
          "Data Science",
          "Data Science",
          "Data Science",
          "Data Science",
          "Data Science",
          "Data Science",
          "Data Science",
          "Data Science",
          "Data Science",
          "Data Science",
          "Data Science",
          "Data Science",
          "Data Science",
          "Data Science",
          "Data Science",
          "Data Science",
          "Data Science",
          "Data Science",
          "Data Science",
          "Data Science",
          "Data Science",
          "Data Science",
          "Data Science",
          "Data Science",
          "Data Science",
          "Data Science",
          "Data Science",
          "HR",
          "HR",
          "HR",
          "HR",
          "HR",
          "HR",
          "HR",
          "HR",
          "HR",
          "HR",
          "HR",
          "HR",
          "HR",
          "HR",
          "HR",
          "HR",
          "HR",
          "HR",
          "HR",
          "HR",
          "HR",
          "HR",
          "HR",
          "HR",
          "HR",
          "HR",
          "HR",
          "HR",
          "HR",
          "HR",
          "HR",
          "HR",
          "HR",
          "HR",
          "HR",
          "HR",
          "HR",
          "HR",
          "HR",
          "HR",
          "HR",
          "HR",
          "HR",
          "HR",
          "Advocate",
          "Advocate",
          "Advocate",
          "Advocate",
          "Advocate",
          "Advocate",
          "Advocate",
          "Advocate",
          "Advocate",
          "Advocate",
          "Advocate",
          "Advocate",
          "Advocate",
          "Advocate",
          "Advocate",
          "Advocate",
          "Advocate",
          "Advocate",
          "Advocate",
          "Advocate",
          "Arts",
          "Arts",
          "Arts",
          "Arts",
          "Arts",
          "Arts",
          "Arts",
          "Arts",
          "Arts",
          "Arts",
          "Arts",
          "Arts",
          "Arts",
          "Arts",
          "Arts",
          "Arts",
          "Arts",
          "Arts",
          "Arts",
          "Arts",
          "Arts",
          "Arts",
          "Arts",
          "Arts",
          "Arts",
          "Arts",
          "Arts",
          "Arts",
          "Arts",
          "Arts",
          "Arts",
          "Arts",
          "Arts",
          "Arts",
          "Arts",
          "Arts",
          "Web Designing",
          "Web Designing",
          "Web Designing",
          "Web Designing",
          "Web Designing",
          "Web Designing",
          "Web Designing",
          "Web Designing",
          "Web Designing",
          "Web Designing",
          "Web Designing",
          "Web Designing",
          "Web Designing",
          "Web Designing",
          "Web Designing",
          "Web Designing",
          "Web Designing",
          "Web Designing",
          "Web Designing",
          "Web Designing",
          "Web Designing",
          "Web Designing",
          "Web Designing",
          "Web Designing",
          "Web Designing",
          "Web Designing",
          "Web Designing",
          "Web Designing",
          "Web Designing",
          "Web Designing",
          "Web Designing",
          "Web Designing",
          "Web Designing",
          "Web Designing",
          "Web Designing",
          "Web Designing",
          "Web Designing",
          "Web Designing",
          "Web Designing",
          "Web Designing",
          "Web Designing",
          "Web Designing",
          "Web Designing",
          "Web Designing",
          "Web Designing",
          "Mechanical Engineer",
          "Mechanical Engineer",
          "Mechanical Engineer",
          "Mechanical Engineer",
          "Mechanical Engineer",
          "Mechanical Engineer",
          "Mechanical Engineer",
          "Mechanical Engineer",
          "Mechanical Engineer",
          "Mechanical Engineer",
          "Mechanical Engineer",
          "Mechanical Engineer",
          "Mechanical Engineer",
          "Mechanical Engineer",
          "Mechanical Engineer",
          "Mechanical Engineer",
          "Mechanical Engineer",
          "Mechanical Engineer",
          "Mechanical Engineer",
          "Mechanical Engineer",
          "Mechanical Engineer",
          "Mechanical Engineer",
          "Mechanical Engineer",
          "Mechanical Engineer",
          "Mechanical Engineer",
          "Mechanical Engineer",
          "Mechanical Engineer",
          "Mechanical Engineer",
          "Mechanical Engineer",
          "Mechanical Engineer",
          "Mechanical Engineer",
          "Mechanical Engineer",
          "Mechanical Engineer",
          "Mechanical Engineer",
          "Mechanical Engineer",
          "Mechanical Engineer",
          "Mechanical Engineer",
          "Mechanical Engineer",
          "Mechanical Engineer",
          "Mechanical Engineer",
          "Sales",
          "Sales",
          "Sales",
          "Sales",
          "Sales",
          "Sales",
          "Sales",
          "Sales",
          "Sales",
          "Sales",
          "Sales",
          "Sales",
          "Sales",
          "Sales",
          "Sales",
          "Sales",
          "Sales",
          "Sales",
          "Sales",
          "Sales",
          "Sales",
          "Sales",
          "Sales",
          "Sales",
          "Sales",
          "Sales",
          "Sales",
          "Sales",
          "Sales",
          "Sales",
          "Sales",
          "Sales",
          "Sales",
          "Sales",
          "Sales",
          "Sales",
          "Sales",
          "Sales",
          "Sales",
          "Sales",
          "Health and fitness",
          "Health and fitness",
          "Health and fitness",
          "Health and fitness",
          "Health and fitness",
          "Health and fitness",
          "Health and fitness",
          "Health and fitness",
          "Health and fitness",
          "Health and fitness",
          "Health and fitness",
          "Health and fitness",
          "Health and fitness",
          "Health and fitness",
          "Health and fitness",
          "Health and fitness",
          "Health and fitness",
          "Health and fitness",
          "Health and fitness",
          "Health and fitness",
          "Health and fitness",
          "Health and fitness",
          "Health and fitness",
          "Health and fitness",
          "Health and fitness",
          "Health and fitness",
          "Health and fitness",
          "Health and fitness",
          "Health and fitness",
          "Health and fitness",
          "Civil Engineer",
          "Civil Engineer",
          "Civil Engineer",
          "Civil Engineer",
          "Civil Engineer"
         ],
         "xaxis": "x",
         "yaxis": "y"
        }
       ],
       "layout": {
        "barmode": "relative",
        "legend": {
         "tracegroupgap": 0
        },
        "template": {
         "data": {
          "bar": [
           {
            "error_x": {
             "color": "#2a3f5f"
            },
            "error_y": {
             "color": "#2a3f5f"
            },
            "marker": {
             "line": {
              "color": "#E5ECF6",
              "width": 0.5
             },
             "pattern": {
              "fillmode": "overlay",
              "size": 10,
              "solidity": 0.2
             }
            },
            "type": "bar"
           }
          ],
          "barpolar": [
           {
            "marker": {
             "line": {
              "color": "#E5ECF6",
              "width": 0.5
             },
             "pattern": {
              "fillmode": "overlay",
              "size": 10,
              "solidity": 0.2
             }
            },
            "type": "barpolar"
           }
          ],
          "carpet": [
           {
            "aaxis": {
             "endlinecolor": "#2a3f5f",
             "gridcolor": "white",
             "linecolor": "white",
             "minorgridcolor": "white",
             "startlinecolor": "#2a3f5f"
            },
            "baxis": {
             "endlinecolor": "#2a3f5f",
             "gridcolor": "white",
             "linecolor": "white",
             "minorgridcolor": "white",
             "startlinecolor": "#2a3f5f"
            },
            "type": "carpet"
           }
          ],
          "choropleth": [
           {
            "colorbar": {
             "outlinewidth": 0,
             "ticks": ""
            },
            "type": "choropleth"
           }
          ],
          "contour": [
           {
            "colorbar": {
             "outlinewidth": 0,
             "ticks": ""
            },
            "colorscale": [
             [
              0,
              "#0d0887"
             ],
             [
              0.1111111111111111,
              "#46039f"
             ],
             [
              0.2222222222222222,
              "#7201a8"
             ],
             [
              0.3333333333333333,
              "#9c179e"
             ],
             [
              0.4444444444444444,
              "#bd3786"
             ],
             [
              0.5555555555555556,
              "#d8576b"
             ],
             [
              0.6666666666666666,
              "#ed7953"
             ],
             [
              0.7777777777777778,
              "#fb9f3a"
             ],
             [
              0.8888888888888888,
              "#fdca26"
             ],
             [
              1,
              "#f0f921"
             ]
            ],
            "type": "contour"
           }
          ],
          "contourcarpet": [
           {
            "colorbar": {
             "outlinewidth": 0,
             "ticks": ""
            },
            "type": "contourcarpet"
           }
          ],
          "heatmap": [
           {
            "colorbar": {
             "outlinewidth": 0,
             "ticks": ""
            },
            "colorscale": [
             [
              0,
              "#0d0887"
             ],
             [
              0.1111111111111111,
              "#46039f"
             ],
             [
              0.2222222222222222,
              "#7201a8"
             ],
             [
              0.3333333333333333,
              "#9c179e"
             ],
             [
              0.4444444444444444,
              "#bd3786"
             ],
             [
              0.5555555555555556,
              "#d8576b"
             ],
             [
              0.6666666666666666,
              "#ed7953"
             ],
             [
              0.7777777777777778,
              "#fb9f3a"
             ],
             [
              0.8888888888888888,
              "#fdca26"
             ],
             [
              1,
              "#f0f921"
             ]
            ],
            "type": "heatmap"
           }
          ],
          "heatmapgl": [
           {
            "colorbar": {
             "outlinewidth": 0,
             "ticks": ""
            },
            "colorscale": [
             [
              0,
              "#0d0887"
             ],
             [
              0.1111111111111111,
              "#46039f"
             ],
             [
              0.2222222222222222,
              "#7201a8"
             ],
             [
              0.3333333333333333,
              "#9c179e"
             ],
             [
              0.4444444444444444,
              "#bd3786"
             ],
             [
              0.5555555555555556,
              "#d8576b"
             ],
             [
              0.6666666666666666,
              "#ed7953"
             ],
             [
              0.7777777777777778,
              "#fb9f3a"
             ],
             [
              0.8888888888888888,
              "#fdca26"
             ],
             [
              1,
              "#f0f921"
             ]
            ],
            "type": "heatmapgl"
           }
          ],
          "histogram": [
           {
            "marker": {
             "pattern": {
              "fillmode": "overlay",
              "size": 10,
              "solidity": 0.2
             }
            },
            "type": "histogram"
           }
          ],
          "histogram2d": [
           {
            "colorbar": {
             "outlinewidth": 0,
             "ticks": ""
            },
            "colorscale": [
             [
              0,
              "#0d0887"
             ],
             [
              0.1111111111111111,
              "#46039f"
             ],
             [
              0.2222222222222222,
              "#7201a8"
             ],
             [
              0.3333333333333333,
              "#9c179e"
             ],
             [
              0.4444444444444444,
              "#bd3786"
             ],
             [
              0.5555555555555556,
              "#d8576b"
             ],
             [
              0.6666666666666666,
              "#ed7953"
             ],
             [
              0.7777777777777778,
              "#fb9f3a"
             ],
             [
              0.8888888888888888,
              "#fdca26"
             ],
             [
              1,
              "#f0f921"
             ]
            ],
            "type": "histogram2d"
           }
          ],
          "histogram2dcontour": [
           {
            "colorbar": {
             "outlinewidth": 0,
             "ticks": ""
            },
            "colorscale": [
             [
              0,
              "#0d0887"
             ],
             [
              0.1111111111111111,
              "#46039f"
             ],
             [
              0.2222222222222222,
              "#7201a8"
             ],
             [
              0.3333333333333333,
              "#9c179e"
             ],
             [
              0.4444444444444444,
              "#bd3786"
             ],
             [
              0.5555555555555556,
              "#d8576b"
             ],
             [
              0.6666666666666666,
              "#ed7953"
             ],
             [
              0.7777777777777778,
              "#fb9f3a"
             ],
             [
              0.8888888888888888,
              "#fdca26"
             ],
             [
              1,
              "#f0f921"
             ]
            ],
            "type": "histogram2dcontour"
           }
          ],
          "mesh3d": [
           {
            "colorbar": {
             "outlinewidth": 0,
             "ticks": ""
            },
            "type": "mesh3d"
           }
          ],
          "parcoords": [
           {
            "line": {
             "colorbar": {
              "outlinewidth": 0,
              "ticks": ""
             }
            },
            "type": "parcoords"
           }
          ],
          "pie": [
           {
            "automargin": true,
            "type": "pie"
           }
          ],
          "scatter": [
           {
            "fillpattern": {
             "fillmode": "overlay",
             "size": 10,
             "solidity": 0.2
            },
            "type": "scatter"
           }
          ],
          "scatter3d": [
           {
            "line": {
             "colorbar": {
              "outlinewidth": 0,
              "ticks": ""
             }
            },
            "marker": {
             "colorbar": {
              "outlinewidth": 0,
              "ticks": ""
             }
            },
            "type": "scatter3d"
           }
          ],
          "scattercarpet": [
           {
            "marker": {
             "colorbar": {
              "outlinewidth": 0,
              "ticks": ""
             }
            },
            "type": "scattercarpet"
           }
          ],
          "scattergeo": [
           {
            "marker": {
             "colorbar": {
              "outlinewidth": 0,
              "ticks": ""
             }
            },
            "type": "scattergeo"
           }
          ],
          "scattergl": [
           {
            "marker": {
             "colorbar": {
              "outlinewidth": 0,
              "ticks": ""
             }
            },
            "type": "scattergl"
           }
          ],
          "scattermapbox": [
           {
            "marker": {
             "colorbar": {
              "outlinewidth": 0,
              "ticks": ""
             }
            },
            "type": "scattermapbox"
           }
          ],
          "scatterpolar": [
           {
            "marker": {
             "colorbar": {
              "outlinewidth": 0,
              "ticks": ""
             }
            },
            "type": "scatterpolar"
           }
          ],
          "scatterpolargl": [
           {
            "marker": {
             "colorbar": {
              "outlinewidth": 0,
              "ticks": ""
             }
            },
            "type": "scatterpolargl"
           }
          ],
          "scatterternary": [
           {
            "marker": {
             "colorbar": {
              "outlinewidth": 0,
              "ticks": ""
             }
            },
            "type": "scatterternary"
           }
          ],
          "surface": [
           {
            "colorbar": {
             "outlinewidth": 0,
             "ticks": ""
            },
            "colorscale": [
             [
              0,
              "#0d0887"
             ],
             [
              0.1111111111111111,
              "#46039f"
             ],
             [
              0.2222222222222222,
              "#7201a8"
             ],
             [
              0.3333333333333333,
              "#9c179e"
             ],
             [
              0.4444444444444444,
              "#bd3786"
             ],
             [
              0.5555555555555556,
              "#d8576b"
             ],
             [
              0.6666666666666666,
              "#ed7953"
             ],
             [
              0.7777777777777778,
              "#fb9f3a"
             ],
             [
              0.8888888888888888,
              "#fdca26"
             ],
             [
              1,
              "#f0f921"
             ]
            ],
            "type": "surface"
           }
          ],
          "table": [
           {
            "cells": {
             "fill": {
              "color": "#EBF0F8"
             },
             "line": {
              "color": "white"
             }
            },
            "header": {
             "fill": {
              "color": "#C8D4E3"
             },
             "line": {
              "color": "white"
             }
            },
            "type": "table"
           }
          ]
         },
         "layout": {
          "annotationdefaults": {
           "arrowcolor": "#2a3f5f",
           "arrowhead": 0,
           "arrowwidth": 1
          },
          "autotypenumbers": "strict",
          "coloraxis": {
           "colorbar": {
            "outlinewidth": 0,
            "ticks": ""
           }
          },
          "colorscale": {
           "diverging": [
            [
             0,
             "#8e0152"
            ],
            [
             0.1,
             "#c51b7d"
            ],
            [
             0.2,
             "#de77ae"
            ],
            [
             0.3,
             "#f1b6da"
            ],
            [
             0.4,
             "#fde0ef"
            ],
            [
             0.5,
             "#f7f7f7"
            ],
            [
             0.6,
             "#e6f5d0"
            ],
            [
             0.7,
             "#b8e186"
            ],
            [
             0.8,
             "#7fbc41"
            ],
            [
             0.9,
             "#4d9221"
            ],
            [
             1,
             "#276419"
            ]
           ],
           "sequential": [
            [
             0,
             "#0d0887"
            ],
            [
             0.1111111111111111,
             "#46039f"
            ],
            [
             0.2222222222222222,
             "#7201a8"
            ],
            [
             0.3333333333333333,
             "#9c179e"
            ],
            [
             0.4444444444444444,
             "#bd3786"
            ],
            [
             0.5555555555555556,
             "#d8576b"
            ],
            [
             0.6666666666666666,
             "#ed7953"
            ],
            [
             0.7777777777777778,
             "#fb9f3a"
            ],
            [
             0.8888888888888888,
             "#fdca26"
            ],
            [
             1,
             "#f0f921"
            ]
           ],
           "sequentialminus": [
            [
             0,
             "#0d0887"
            ],
            [
             0.1111111111111111,
             "#46039f"
            ],
            [
             0.2222222222222222,
             "#7201a8"
            ],
            [
             0.3333333333333333,
             "#9c179e"
            ],
            [
             0.4444444444444444,
             "#bd3786"
            ],
            [
             0.5555555555555556,
             "#d8576b"
            ],
            [
             0.6666666666666666,
             "#ed7953"
            ],
            [
             0.7777777777777778,
             "#fb9f3a"
            ],
            [
             0.8888888888888888,
             "#fdca26"
            ],
            [
             1,
             "#f0f921"
            ]
           ]
          },
          "colorway": [
           "#636efa",
           "#EF553B",
           "#00cc96",
           "#ab63fa",
           "#FFA15A",
           "#19d3f3",
           "#FF6692",
           "#B6E880",
           "#FF97FF",
           "#FECB52"
          ],
          "font": {
           "color": "#2a3f5f"
          },
          "geo": {
           "bgcolor": "white",
           "lakecolor": "white",
           "landcolor": "#E5ECF6",
           "showlakes": true,
           "showland": true,
           "subunitcolor": "white"
          },
          "hoverlabel": {
           "align": "left"
          },
          "hovermode": "closest",
          "mapbox": {
           "style": "light"
          },
          "paper_bgcolor": "white",
          "plot_bgcolor": "#E5ECF6",
          "polar": {
           "angularaxis": {
            "gridcolor": "white",
            "linecolor": "white",
            "ticks": ""
           },
           "bgcolor": "#E5ECF6",
           "radialaxis": {
            "gridcolor": "white",
            "linecolor": "white",
            "ticks": ""
           }
          },
          "scene": {
           "xaxis": {
            "backgroundcolor": "#E5ECF6",
            "gridcolor": "white",
            "gridwidth": 2,
            "linecolor": "white",
            "showbackground": true,
            "ticks": "",
            "zerolinecolor": "white"
           },
           "yaxis": {
            "backgroundcolor": "#E5ECF6",
            "gridcolor": "white",
            "gridwidth": 2,
            "linecolor": "white",
            "showbackground": true,
            "ticks": "",
            "zerolinecolor": "white"
           },
           "zaxis": {
            "backgroundcolor": "#E5ECF6",
            "gridcolor": "white",
            "gridwidth": 2,
            "linecolor": "white",
            "showbackground": true,
            "ticks": "",
            "zerolinecolor": "white"
           }
          },
          "shapedefaults": {
           "line": {
            "color": "#2a3f5f"
           }
          },
          "ternary": {
           "aaxis": {
            "gridcolor": "white",
            "linecolor": "white",
            "ticks": ""
           },
           "baxis": {
            "gridcolor": "white",
            "linecolor": "white",
            "ticks": ""
           },
           "bgcolor": "#E5ECF6",
           "caxis": {
            "gridcolor": "white",
            "linecolor": "white",
            "ticks": ""
           }
          },
          "title": {
           "x": 0.05
          },
          "xaxis": {
           "automargin": true,
           "gridcolor": "white",
           "linecolor": "white",
           "ticks": "",
           "title": {
            "standoff": 15
           },
           "zerolinecolor": "white",
           "zerolinewidth": 2
          },
          "yaxis": {
           "automargin": true,
           "gridcolor": "white",
           "linecolor": "white",
           "ticks": "",
           "title": {
            "standoff": 15
           },
           "zerolinecolor": "white",
           "zerolinewidth": 2
          }
         }
        },
        "title": {
         "text": "Distribution of Jobs Categories"
        },
        "xaxis": {
         "anchor": "y",
         "categoryorder": "total descending",
         "domain": [
          0,
          1
         ],
         "title": {
          "text": "Category"
         }
        },
        "yaxis": {
         "anchor": "x",
         "domain": [
          0,
          1
         ],
         "title": {
          "text": "count"
         }
        }
       }
      },
      "text/html": [
       "<div>                            <div id=\"b056b6e4-b341-455f-983b-9266328717c8\" class=\"plotly-graph-div\" style=\"height:525px; width:100%;\"></div>            <script type=\"text/javascript\">                require([\"plotly\"], function(Plotly) {                    window.PLOTLYENV=window.PLOTLYENV || {};                                    if (document.getElementById(\"b056b6e4-b341-455f-983b-9266328717c8\")) {                    Plotly.newPlot(                        \"b056b6e4-b341-455f-983b-9266328717c8\",                        [{\"alignmentgroup\":\"True\",\"bingroup\":\"x\",\"hovertemplate\":\"Category=%{x}<br>count=%{y}<extra></extra>\",\"legendgroup\":\"\",\"marker\":{\"color\":\"#636efa\",\"pattern\":{\"shape\":\"\"}},\"name\":\"\",\"offsetgroup\":\"\",\"orientation\":\"v\",\"showlegend\":false,\"x\":[\"Data Science\",\"Data Science\",\"Data Science\",\"Data Science\",\"Data Science\",\"Data Science\",\"Data Science\",\"Data Science\",\"Data Science\",\"Data Science\",\"Data Science\",\"Data Science\",\"Data Science\",\"Data Science\",\"Data Science\",\"Data Science\",\"Data Science\",\"Data Science\",\"Data Science\",\"Data Science\",\"Data Science\",\"Data Science\",\"Data Science\",\"Data Science\",\"Data Science\",\"Data Science\",\"Data Science\",\"Data Science\",\"Data Science\",\"Data Science\",\"Data Science\",\"Data Science\",\"Data Science\",\"Data Science\",\"Data Science\",\"Data Science\",\"Data Science\",\"Data Science\",\"Data Science\",\"Data Science\",\"HR\",\"HR\",\"HR\",\"HR\",\"HR\",\"HR\",\"HR\",\"HR\",\"HR\",\"HR\",\"HR\",\"HR\",\"HR\",\"HR\",\"HR\",\"HR\",\"HR\",\"HR\",\"HR\",\"HR\",\"HR\",\"HR\",\"HR\",\"HR\",\"HR\",\"HR\",\"HR\",\"HR\",\"HR\",\"HR\",\"HR\",\"HR\",\"HR\",\"HR\",\"HR\",\"HR\",\"HR\",\"HR\",\"HR\",\"HR\",\"HR\",\"HR\",\"HR\",\"HR\",\"Advocate\",\"Advocate\",\"Advocate\",\"Advocate\",\"Advocate\",\"Advocate\",\"Advocate\",\"Advocate\",\"Advocate\",\"Advocate\",\"Advocate\",\"Advocate\",\"Advocate\",\"Advocate\",\"Advocate\",\"Advocate\",\"Advocate\",\"Advocate\",\"Advocate\",\"Advocate\",\"Arts\",\"Arts\",\"Arts\",\"Arts\",\"Arts\",\"Arts\",\"Arts\",\"Arts\",\"Arts\",\"Arts\",\"Arts\",\"Arts\",\"Arts\",\"Arts\",\"Arts\",\"Arts\",\"Arts\",\"Arts\",\"Arts\",\"Arts\",\"Arts\",\"Arts\",\"Arts\",\"Arts\",\"Arts\",\"Arts\",\"Arts\",\"Arts\",\"Arts\",\"Arts\",\"Arts\",\"Arts\",\"Arts\",\"Arts\",\"Arts\",\"Arts\",\"Web Designing\",\"Web Designing\",\"Web Designing\",\"Web Designing\",\"Web Designing\",\"Web Designing\",\"Web Designing\",\"Web Designing\",\"Web Designing\",\"Web Designing\",\"Web Designing\",\"Web Designing\",\"Web Designing\",\"Web Designing\",\"Web Designing\",\"Web Designing\",\"Web Designing\",\"Web Designing\",\"Web Designing\",\"Web Designing\",\"Web Designing\",\"Web Designing\",\"Web Designing\",\"Web Designing\",\"Web Designing\",\"Web Designing\",\"Web Designing\",\"Web Designing\",\"Web Designing\",\"Web Designing\",\"Web Designing\",\"Web Designing\",\"Web Designing\",\"Web Designing\",\"Web Designing\",\"Web Designing\",\"Web Designing\",\"Web Designing\",\"Web Designing\",\"Web Designing\",\"Web Designing\",\"Web Designing\",\"Web Designing\",\"Web Designing\",\"Web Designing\",\"Mechanical Engineer\",\"Mechanical Engineer\",\"Mechanical Engineer\",\"Mechanical Engineer\",\"Mechanical Engineer\",\"Mechanical Engineer\",\"Mechanical Engineer\",\"Mechanical Engineer\",\"Mechanical Engineer\",\"Mechanical Engineer\",\"Mechanical Engineer\",\"Mechanical Engineer\",\"Mechanical Engineer\",\"Mechanical Engineer\",\"Mechanical Engineer\",\"Mechanical Engineer\",\"Mechanical Engineer\",\"Mechanical Engineer\",\"Mechanical Engineer\",\"Mechanical Engineer\",\"Mechanical Engineer\",\"Mechanical Engineer\",\"Mechanical Engineer\",\"Mechanical Engineer\",\"Mechanical Engineer\",\"Mechanical Engineer\",\"Mechanical Engineer\",\"Mechanical Engineer\",\"Mechanical Engineer\",\"Mechanical Engineer\",\"Mechanical Engineer\",\"Mechanical Engineer\",\"Mechanical Engineer\",\"Mechanical Engineer\",\"Mechanical Engineer\",\"Mechanical Engineer\",\"Mechanical Engineer\",\"Mechanical Engineer\",\"Mechanical Engineer\",\"Mechanical Engineer\",\"Sales\",\"Sales\",\"Sales\",\"Sales\",\"Sales\",\"Sales\",\"Sales\",\"Sales\",\"Sales\",\"Sales\",\"Sales\",\"Sales\",\"Sales\",\"Sales\",\"Sales\",\"Sales\",\"Sales\",\"Sales\",\"Sales\",\"Sales\",\"Sales\",\"Sales\",\"Sales\",\"Sales\",\"Sales\",\"Sales\",\"Sales\",\"Sales\",\"Sales\",\"Sales\",\"Sales\",\"Sales\",\"Sales\",\"Sales\",\"Sales\",\"Sales\",\"Sales\",\"Sales\",\"Sales\",\"Sales\",\"Health and fitness\",\"Health and fitness\",\"Health and fitness\",\"Health and fitness\",\"Health and fitness\",\"Health and fitness\",\"Health and fitness\",\"Health and fitness\",\"Health and fitness\",\"Health and fitness\",\"Health and fitness\",\"Health and fitness\",\"Health and fitness\",\"Health and fitness\",\"Health and fitness\",\"Health and fitness\",\"Health and fitness\",\"Health and fitness\",\"Health and fitness\",\"Health and fitness\",\"Health and fitness\",\"Health and fitness\",\"Health and fitness\",\"Health and fitness\",\"Health and fitness\",\"Health and fitness\",\"Health and fitness\",\"Health and fitness\",\"Health and fitness\",\"Health and fitness\",\"Civil Engineer\",\"Civil Engineer\",\"Civil Engineer\",\"Civil Engineer\",\"Civil Engineer\"],\"xaxis\":\"x\",\"yaxis\":\"y\",\"type\":\"histogram\"}],                        {\"template\":{\"data\":{\"histogram2dcontour\":[{\"type\":\"histogram2dcontour\",\"colorbar\":{\"outlinewidth\":0,\"ticks\":\"\"},\"colorscale\":[[0.0,\"#0d0887\"],[0.1111111111111111,\"#46039f\"],[0.2222222222222222,\"#7201a8\"],[0.3333333333333333,\"#9c179e\"],[0.4444444444444444,\"#bd3786\"],[0.5555555555555556,\"#d8576b\"],[0.6666666666666666,\"#ed7953\"],[0.7777777777777778,\"#fb9f3a\"],[0.8888888888888888,\"#fdca26\"],[1.0,\"#f0f921\"]]}],\"choropleth\":[{\"type\":\"choropleth\",\"colorbar\":{\"outlinewidth\":0,\"ticks\":\"\"}}],\"histogram2d\":[{\"type\":\"histogram2d\",\"colorbar\":{\"outlinewidth\":0,\"ticks\":\"\"},\"colorscale\":[[0.0,\"#0d0887\"],[0.1111111111111111,\"#46039f\"],[0.2222222222222222,\"#7201a8\"],[0.3333333333333333,\"#9c179e\"],[0.4444444444444444,\"#bd3786\"],[0.5555555555555556,\"#d8576b\"],[0.6666666666666666,\"#ed7953\"],[0.7777777777777778,\"#fb9f3a\"],[0.8888888888888888,\"#fdca26\"],[1.0,\"#f0f921\"]]}],\"heatmap\":[{\"type\":\"heatmap\",\"colorbar\":{\"outlinewidth\":0,\"ticks\":\"\"},\"colorscale\":[[0.0,\"#0d0887\"],[0.1111111111111111,\"#46039f\"],[0.2222222222222222,\"#7201a8\"],[0.3333333333333333,\"#9c179e\"],[0.4444444444444444,\"#bd3786\"],[0.5555555555555556,\"#d8576b\"],[0.6666666666666666,\"#ed7953\"],[0.7777777777777778,\"#fb9f3a\"],[0.8888888888888888,\"#fdca26\"],[1.0,\"#f0f921\"]]}],\"heatmapgl\":[{\"type\":\"heatmapgl\",\"colorbar\":{\"outlinewidth\":0,\"ticks\":\"\"},\"colorscale\":[[0.0,\"#0d0887\"],[0.1111111111111111,\"#46039f\"],[0.2222222222222222,\"#7201a8\"],[0.3333333333333333,\"#9c179e\"],[0.4444444444444444,\"#bd3786\"],[0.5555555555555556,\"#d8576b\"],[0.6666666666666666,\"#ed7953\"],[0.7777777777777778,\"#fb9f3a\"],[0.8888888888888888,\"#fdca26\"],[1.0,\"#f0f921\"]]}],\"contourcarpet\":[{\"type\":\"contourcarpet\",\"colorbar\":{\"outlinewidth\":0,\"ticks\":\"\"}}],\"contour\":[{\"type\":\"contour\",\"colorbar\":{\"outlinewidth\":0,\"ticks\":\"\"},\"colorscale\":[[0.0,\"#0d0887\"],[0.1111111111111111,\"#46039f\"],[0.2222222222222222,\"#7201a8\"],[0.3333333333333333,\"#9c179e\"],[0.4444444444444444,\"#bd3786\"],[0.5555555555555556,\"#d8576b\"],[0.6666666666666666,\"#ed7953\"],[0.7777777777777778,\"#fb9f3a\"],[0.8888888888888888,\"#fdca26\"],[1.0,\"#f0f921\"]]}],\"surface\":[{\"type\":\"surface\",\"colorbar\":{\"outlinewidth\":0,\"ticks\":\"\"},\"colorscale\":[[0.0,\"#0d0887\"],[0.1111111111111111,\"#46039f\"],[0.2222222222222222,\"#7201a8\"],[0.3333333333333333,\"#9c179e\"],[0.4444444444444444,\"#bd3786\"],[0.5555555555555556,\"#d8576b\"],[0.6666666666666666,\"#ed7953\"],[0.7777777777777778,\"#fb9f3a\"],[0.8888888888888888,\"#fdca26\"],[1.0,\"#f0f921\"]]}],\"mesh3d\":[{\"type\":\"mesh3d\",\"colorbar\":{\"outlinewidth\":0,\"ticks\":\"\"}}],\"scatter\":[{\"fillpattern\":{\"fillmode\":\"overlay\",\"size\":10,\"solidity\":0.2},\"type\":\"scatter\"}],\"parcoords\":[{\"type\":\"parcoords\",\"line\":{\"colorbar\":{\"outlinewidth\":0,\"ticks\":\"\"}}}],\"scatterpolargl\":[{\"type\":\"scatterpolargl\",\"marker\":{\"colorbar\":{\"outlinewidth\":0,\"ticks\":\"\"}}}],\"bar\":[{\"error_x\":{\"color\":\"#2a3f5f\"},\"error_y\":{\"color\":\"#2a3f5f\"},\"marker\":{\"line\":{\"color\":\"#E5ECF6\",\"width\":0.5},\"pattern\":{\"fillmode\":\"overlay\",\"size\":10,\"solidity\":0.2}},\"type\":\"bar\"}],\"scattergeo\":[{\"type\":\"scattergeo\",\"marker\":{\"colorbar\":{\"outlinewidth\":0,\"ticks\":\"\"}}}],\"scatterpolar\":[{\"type\":\"scatterpolar\",\"marker\":{\"colorbar\":{\"outlinewidth\":0,\"ticks\":\"\"}}}],\"histogram\":[{\"marker\":{\"pattern\":{\"fillmode\":\"overlay\",\"size\":10,\"solidity\":0.2}},\"type\":\"histogram\"}],\"scattergl\":[{\"type\":\"scattergl\",\"marker\":{\"colorbar\":{\"outlinewidth\":0,\"ticks\":\"\"}}}],\"scatter3d\":[{\"type\":\"scatter3d\",\"line\":{\"colorbar\":{\"outlinewidth\":0,\"ticks\":\"\"}},\"marker\":{\"colorbar\":{\"outlinewidth\":0,\"ticks\":\"\"}}}],\"scattermapbox\":[{\"type\":\"scattermapbox\",\"marker\":{\"colorbar\":{\"outlinewidth\":0,\"ticks\":\"\"}}}],\"scatterternary\":[{\"type\":\"scatterternary\",\"marker\":{\"colorbar\":{\"outlinewidth\":0,\"ticks\":\"\"}}}],\"scattercarpet\":[{\"type\":\"scattercarpet\",\"marker\":{\"colorbar\":{\"outlinewidth\":0,\"ticks\":\"\"}}}],\"carpet\":[{\"aaxis\":{\"endlinecolor\":\"#2a3f5f\",\"gridcolor\":\"white\",\"linecolor\":\"white\",\"minorgridcolor\":\"white\",\"startlinecolor\":\"#2a3f5f\"},\"baxis\":{\"endlinecolor\":\"#2a3f5f\",\"gridcolor\":\"white\",\"linecolor\":\"white\",\"minorgridcolor\":\"white\",\"startlinecolor\":\"#2a3f5f\"},\"type\":\"carpet\"}],\"table\":[{\"cells\":{\"fill\":{\"color\":\"#EBF0F8\"},\"line\":{\"color\":\"white\"}},\"header\":{\"fill\":{\"color\":\"#C8D4E3\"},\"line\":{\"color\":\"white\"}},\"type\":\"table\"}],\"barpolar\":[{\"marker\":{\"line\":{\"color\":\"#E5ECF6\",\"width\":0.5},\"pattern\":{\"fillmode\":\"overlay\",\"size\":10,\"solidity\":0.2}},\"type\":\"barpolar\"}],\"pie\":[{\"automargin\":true,\"type\":\"pie\"}]},\"layout\":{\"autotypenumbers\":\"strict\",\"colorway\":[\"#636efa\",\"#EF553B\",\"#00cc96\",\"#ab63fa\",\"#FFA15A\",\"#19d3f3\",\"#FF6692\",\"#B6E880\",\"#FF97FF\",\"#FECB52\"],\"font\":{\"color\":\"#2a3f5f\"},\"hovermode\":\"closest\",\"hoverlabel\":{\"align\":\"left\"},\"paper_bgcolor\":\"white\",\"plot_bgcolor\":\"#E5ECF6\",\"polar\":{\"bgcolor\":\"#E5ECF6\",\"angularaxis\":{\"gridcolor\":\"white\",\"linecolor\":\"white\",\"ticks\":\"\"},\"radialaxis\":{\"gridcolor\":\"white\",\"linecolor\":\"white\",\"ticks\":\"\"}},\"ternary\":{\"bgcolor\":\"#E5ECF6\",\"aaxis\":{\"gridcolor\":\"white\",\"linecolor\":\"white\",\"ticks\":\"\"},\"baxis\":{\"gridcolor\":\"white\",\"linecolor\":\"white\",\"ticks\":\"\"},\"caxis\":{\"gridcolor\":\"white\",\"linecolor\":\"white\",\"ticks\":\"\"}},\"coloraxis\":{\"colorbar\":{\"outlinewidth\":0,\"ticks\":\"\"}},\"colorscale\":{\"sequential\":[[0.0,\"#0d0887\"],[0.1111111111111111,\"#46039f\"],[0.2222222222222222,\"#7201a8\"],[0.3333333333333333,\"#9c179e\"],[0.4444444444444444,\"#bd3786\"],[0.5555555555555556,\"#d8576b\"],[0.6666666666666666,\"#ed7953\"],[0.7777777777777778,\"#fb9f3a\"],[0.8888888888888888,\"#fdca26\"],[1.0,\"#f0f921\"]],\"sequentialminus\":[[0.0,\"#0d0887\"],[0.1111111111111111,\"#46039f\"],[0.2222222222222222,\"#7201a8\"],[0.3333333333333333,\"#9c179e\"],[0.4444444444444444,\"#bd3786\"],[0.5555555555555556,\"#d8576b\"],[0.6666666666666666,\"#ed7953\"],[0.7777777777777778,\"#fb9f3a\"],[0.8888888888888888,\"#fdca26\"],[1.0,\"#f0f921\"]],\"diverging\":[[0,\"#8e0152\"],[0.1,\"#c51b7d\"],[0.2,\"#de77ae\"],[0.3,\"#f1b6da\"],[0.4,\"#fde0ef\"],[0.5,\"#f7f7f7\"],[0.6,\"#e6f5d0\"],[0.7,\"#b8e186\"],[0.8,\"#7fbc41\"],[0.9,\"#4d9221\"],[1,\"#276419\"]]},\"xaxis\":{\"gridcolor\":\"white\",\"linecolor\":\"white\",\"ticks\":\"\",\"title\":{\"standoff\":15},\"zerolinecolor\":\"white\",\"automargin\":true,\"zerolinewidth\":2},\"yaxis\":{\"gridcolor\":\"white\",\"linecolor\":\"white\",\"ticks\":\"\",\"title\":{\"standoff\":15},\"zerolinecolor\":\"white\",\"automargin\":true,\"zerolinewidth\":2},\"scene\":{\"xaxis\":{\"backgroundcolor\":\"#E5ECF6\",\"gridcolor\":\"white\",\"linecolor\":\"white\",\"showbackground\":true,\"ticks\":\"\",\"zerolinecolor\":\"white\",\"gridwidth\":2},\"yaxis\":{\"backgroundcolor\":\"#E5ECF6\",\"gridcolor\":\"white\",\"linecolor\":\"white\",\"showbackground\":true,\"ticks\":\"\",\"zerolinecolor\":\"white\",\"gridwidth\":2},\"zaxis\":{\"backgroundcolor\":\"#E5ECF6\",\"gridcolor\":\"white\",\"linecolor\":\"white\",\"showbackground\":true,\"ticks\":\"\",\"zerolinecolor\":\"white\",\"gridwidth\":2}},\"shapedefaults\":{\"line\":{\"color\":\"#2a3f5f\"}},\"annotationdefaults\":{\"arrowcolor\":\"#2a3f5f\",\"arrowhead\":0,\"arrowwidth\":1},\"geo\":{\"bgcolor\":\"white\",\"landcolor\":\"#E5ECF6\",\"subunitcolor\":\"white\",\"showland\":true,\"showlakes\":true,\"lakecolor\":\"white\"},\"title\":{\"x\":0.05},\"mapbox\":{\"style\":\"light\"}}},\"xaxis\":{\"anchor\":\"y\",\"domain\":[0.0,1.0],\"title\":{\"text\":\"Category\"},\"categoryorder\":\"total descending\"},\"yaxis\":{\"anchor\":\"x\",\"domain\":[0.0,1.0],\"title\":{\"text\":\"count\"}},\"legend\":{\"tracegroupgap\":0},\"title\":{\"text\":\"Distribution of Jobs Categories\"},\"barmode\":\"relative\"},                        {\"responsive\": true}                    ).then(function(){\n",
       "                            \n",
       "var gd = document.getElementById('b056b6e4-b341-455f-983b-9266328717c8');\n",
       "var x = new MutationObserver(function (mutations, observer) {{\n",
       "        var display = window.getComputedStyle(gd).display;\n",
       "        if (!display || display === 'none') {{\n",
       "            console.log([gd, 'removed!']);\n",
       "            Plotly.purge(gd);\n",
       "            observer.disconnect();\n",
       "        }}\n",
       "}});\n",
       "\n",
       "// Listen for the removal of the full notebook cells\n",
       "var notebookContainer = gd.closest('#notebook-container');\n",
       "if (notebookContainer) {{\n",
       "    x.observe(notebookContainer, {childList: true});\n",
       "}}\n",
       "\n",
       "// Listen for the clearing of the current output cell\n",
       "var outputEl = gd.closest('.output');\n",
       "if (outputEl) {{\n",
       "    x.observe(outputEl, {childList: true});\n",
       "}}\n",
       "\n",
       "                        })                };                });            </script>        </div>"
      ]
     },
     "metadata": {},
     "output_type": "display_data"
    }
   ],
   "source": [
    "import plotly.express as px\n",
    "import plotly.graph_objects as go\n",
    "\n",
    "\n",
    "fig = px.histogram(data, x=\"Category\", title=\"Distribution of Jobs Categories\")\n",
    "fig.update_xaxes(categoryorder=\"total descending\")\n",
    "fig.show()"
   ]
  },
  {
   "cell_type": "code",
   "execution_count": 161,
   "id": "4114c489",
   "metadata": {},
   "outputs": [
    {
     "name": "stdout",
     "output_type": "stream",
     "text": [
      "              Category  Total\n",
      "0        Web Designing     45\n",
      "1                   HR     44\n",
      "2         Data Science     40\n",
      "3  Mechanical Engineer     40\n",
      "4                Sales     40\n",
      "5                 Arts     36\n",
      "6   Health and fitness     30\n",
      "7             Advocate     20\n",
      "8       Civil Engineer      5\n"
     ]
    }
   ],
   "source": [
    "series = data['Category'].value_counts()\n",
    "\n",
    "data_result = pd.DataFrame(series)\n",
    "\n",
    "data_result = data_result.reset_index()  \n",
    "\n",
    "data_result.columns = ['Category', 'Total']\n",
    "\n",
    "print(data_result)\n"
   ]
  },
  {
   "cell_type": "code",
   "execution_count": 163,
   "id": "4cf515ac",
   "metadata": {},
   "outputs": [
    {
     "data": {
      "application/vnd.plotly.v1+json": {
       "config": {
        "plotlyServerURL": "https://plot.ly"
       },
       "data": [
        {
         "domain": {
          "x": [
           0,
           1
          ],
          "y": [
           0,
           1
          ]
         },
         "hovertemplate": "Category=%{label}<br>Total=%{value}<extra></extra>",
         "labels": [
          "Web Designing",
          "HR",
          "Data Science",
          "Mechanical Engineer",
          "Sales",
          "Arts",
          "Health and fitness",
          "Advocate",
          "Civil Engineer"
         ],
         "legendgroup": "",
         "name": "",
         "showlegend": true,
         "type": "pie",
         "values": [
          45,
          44,
          40,
          40,
          40,
          36,
          30,
          20,
          5
         ]
        }
       ],
       "layout": {
        "legend": {
         "tracegroupgap": 0
        },
        "margin": {
         "t": 60
        },
        "template": {
         "data": {
          "bar": [
           {
            "error_x": {
             "color": "#2a3f5f"
            },
            "error_y": {
             "color": "#2a3f5f"
            },
            "marker": {
             "line": {
              "color": "#E5ECF6",
              "width": 0.5
             },
             "pattern": {
              "fillmode": "overlay",
              "size": 10,
              "solidity": 0.2
             }
            },
            "type": "bar"
           }
          ],
          "barpolar": [
           {
            "marker": {
             "line": {
              "color": "#E5ECF6",
              "width": 0.5
             },
             "pattern": {
              "fillmode": "overlay",
              "size": 10,
              "solidity": 0.2
             }
            },
            "type": "barpolar"
           }
          ],
          "carpet": [
           {
            "aaxis": {
             "endlinecolor": "#2a3f5f",
             "gridcolor": "white",
             "linecolor": "white",
             "minorgridcolor": "white",
             "startlinecolor": "#2a3f5f"
            },
            "baxis": {
             "endlinecolor": "#2a3f5f",
             "gridcolor": "white",
             "linecolor": "white",
             "minorgridcolor": "white",
             "startlinecolor": "#2a3f5f"
            },
            "type": "carpet"
           }
          ],
          "choropleth": [
           {
            "colorbar": {
             "outlinewidth": 0,
             "ticks": ""
            },
            "type": "choropleth"
           }
          ],
          "contour": [
           {
            "colorbar": {
             "outlinewidth": 0,
             "ticks": ""
            },
            "colorscale": [
             [
              0,
              "#0d0887"
             ],
             [
              0.1111111111111111,
              "#46039f"
             ],
             [
              0.2222222222222222,
              "#7201a8"
             ],
             [
              0.3333333333333333,
              "#9c179e"
             ],
             [
              0.4444444444444444,
              "#bd3786"
             ],
             [
              0.5555555555555556,
              "#d8576b"
             ],
             [
              0.6666666666666666,
              "#ed7953"
             ],
             [
              0.7777777777777778,
              "#fb9f3a"
             ],
             [
              0.8888888888888888,
              "#fdca26"
             ],
             [
              1,
              "#f0f921"
             ]
            ],
            "type": "contour"
           }
          ],
          "contourcarpet": [
           {
            "colorbar": {
             "outlinewidth": 0,
             "ticks": ""
            },
            "type": "contourcarpet"
           }
          ],
          "heatmap": [
           {
            "colorbar": {
             "outlinewidth": 0,
             "ticks": ""
            },
            "colorscale": [
             [
              0,
              "#0d0887"
             ],
             [
              0.1111111111111111,
              "#46039f"
             ],
             [
              0.2222222222222222,
              "#7201a8"
             ],
             [
              0.3333333333333333,
              "#9c179e"
             ],
             [
              0.4444444444444444,
              "#bd3786"
             ],
             [
              0.5555555555555556,
              "#d8576b"
             ],
             [
              0.6666666666666666,
              "#ed7953"
             ],
             [
              0.7777777777777778,
              "#fb9f3a"
             ],
             [
              0.8888888888888888,
              "#fdca26"
             ],
             [
              1,
              "#f0f921"
             ]
            ],
            "type": "heatmap"
           }
          ],
          "heatmapgl": [
           {
            "colorbar": {
             "outlinewidth": 0,
             "ticks": ""
            },
            "colorscale": [
             [
              0,
              "#0d0887"
             ],
             [
              0.1111111111111111,
              "#46039f"
             ],
             [
              0.2222222222222222,
              "#7201a8"
             ],
             [
              0.3333333333333333,
              "#9c179e"
             ],
             [
              0.4444444444444444,
              "#bd3786"
             ],
             [
              0.5555555555555556,
              "#d8576b"
             ],
             [
              0.6666666666666666,
              "#ed7953"
             ],
             [
              0.7777777777777778,
              "#fb9f3a"
             ],
             [
              0.8888888888888888,
              "#fdca26"
             ],
             [
              1,
              "#f0f921"
             ]
            ],
            "type": "heatmapgl"
           }
          ],
          "histogram": [
           {
            "marker": {
             "pattern": {
              "fillmode": "overlay",
              "size": 10,
              "solidity": 0.2
             }
            },
            "type": "histogram"
           }
          ],
          "histogram2d": [
           {
            "colorbar": {
             "outlinewidth": 0,
             "ticks": ""
            },
            "colorscale": [
             [
              0,
              "#0d0887"
             ],
             [
              0.1111111111111111,
              "#46039f"
             ],
             [
              0.2222222222222222,
              "#7201a8"
             ],
             [
              0.3333333333333333,
              "#9c179e"
             ],
             [
              0.4444444444444444,
              "#bd3786"
             ],
             [
              0.5555555555555556,
              "#d8576b"
             ],
             [
              0.6666666666666666,
              "#ed7953"
             ],
             [
              0.7777777777777778,
              "#fb9f3a"
             ],
             [
              0.8888888888888888,
              "#fdca26"
             ],
             [
              1,
              "#f0f921"
             ]
            ],
            "type": "histogram2d"
           }
          ],
          "histogram2dcontour": [
           {
            "colorbar": {
             "outlinewidth": 0,
             "ticks": ""
            },
            "colorscale": [
             [
              0,
              "#0d0887"
             ],
             [
              0.1111111111111111,
              "#46039f"
             ],
             [
              0.2222222222222222,
              "#7201a8"
             ],
             [
              0.3333333333333333,
              "#9c179e"
             ],
             [
              0.4444444444444444,
              "#bd3786"
             ],
             [
              0.5555555555555556,
              "#d8576b"
             ],
             [
              0.6666666666666666,
              "#ed7953"
             ],
             [
              0.7777777777777778,
              "#fb9f3a"
             ],
             [
              0.8888888888888888,
              "#fdca26"
             ],
             [
              1,
              "#f0f921"
             ]
            ],
            "type": "histogram2dcontour"
           }
          ],
          "mesh3d": [
           {
            "colorbar": {
             "outlinewidth": 0,
             "ticks": ""
            },
            "type": "mesh3d"
           }
          ],
          "parcoords": [
           {
            "line": {
             "colorbar": {
              "outlinewidth": 0,
              "ticks": ""
             }
            },
            "type": "parcoords"
           }
          ],
          "pie": [
           {
            "automargin": true,
            "type": "pie"
           }
          ],
          "scatter": [
           {
            "fillpattern": {
             "fillmode": "overlay",
             "size": 10,
             "solidity": 0.2
            },
            "type": "scatter"
           }
          ],
          "scatter3d": [
           {
            "line": {
             "colorbar": {
              "outlinewidth": 0,
              "ticks": ""
             }
            },
            "marker": {
             "colorbar": {
              "outlinewidth": 0,
              "ticks": ""
             }
            },
            "type": "scatter3d"
           }
          ],
          "scattercarpet": [
           {
            "marker": {
             "colorbar": {
              "outlinewidth": 0,
              "ticks": ""
             }
            },
            "type": "scattercarpet"
           }
          ],
          "scattergeo": [
           {
            "marker": {
             "colorbar": {
              "outlinewidth": 0,
              "ticks": ""
             }
            },
            "type": "scattergeo"
           }
          ],
          "scattergl": [
           {
            "marker": {
             "colorbar": {
              "outlinewidth": 0,
              "ticks": ""
             }
            },
            "type": "scattergl"
           }
          ],
          "scattermapbox": [
           {
            "marker": {
             "colorbar": {
              "outlinewidth": 0,
              "ticks": ""
             }
            },
            "type": "scattermapbox"
           }
          ],
          "scatterpolar": [
           {
            "marker": {
             "colorbar": {
              "outlinewidth": 0,
              "ticks": ""
             }
            },
            "type": "scatterpolar"
           }
          ],
          "scatterpolargl": [
           {
            "marker": {
             "colorbar": {
              "outlinewidth": 0,
              "ticks": ""
             }
            },
            "type": "scatterpolargl"
           }
          ],
          "scatterternary": [
           {
            "marker": {
             "colorbar": {
              "outlinewidth": 0,
              "ticks": ""
             }
            },
            "type": "scatterternary"
           }
          ],
          "surface": [
           {
            "colorbar": {
             "outlinewidth": 0,
             "ticks": ""
            },
            "colorscale": [
             [
              0,
              "#0d0887"
             ],
             [
              0.1111111111111111,
              "#46039f"
             ],
             [
              0.2222222222222222,
              "#7201a8"
             ],
             [
              0.3333333333333333,
              "#9c179e"
             ],
             [
              0.4444444444444444,
              "#bd3786"
             ],
             [
              0.5555555555555556,
              "#d8576b"
             ],
             [
              0.6666666666666666,
              "#ed7953"
             ],
             [
              0.7777777777777778,
              "#fb9f3a"
             ],
             [
              0.8888888888888888,
              "#fdca26"
             ],
             [
              1,
              "#f0f921"
             ]
            ],
            "type": "surface"
           }
          ],
          "table": [
           {
            "cells": {
             "fill": {
              "color": "#EBF0F8"
             },
             "line": {
              "color": "white"
             }
            },
            "header": {
             "fill": {
              "color": "#C8D4E3"
             },
             "line": {
              "color": "white"
             }
            },
            "type": "table"
           }
          ]
         },
         "layout": {
          "annotationdefaults": {
           "arrowcolor": "#2a3f5f",
           "arrowhead": 0,
           "arrowwidth": 1
          },
          "autotypenumbers": "strict",
          "coloraxis": {
           "colorbar": {
            "outlinewidth": 0,
            "ticks": ""
           }
          },
          "colorscale": {
           "diverging": [
            [
             0,
             "#8e0152"
            ],
            [
             0.1,
             "#c51b7d"
            ],
            [
             0.2,
             "#de77ae"
            ],
            [
             0.3,
             "#f1b6da"
            ],
            [
             0.4,
             "#fde0ef"
            ],
            [
             0.5,
             "#f7f7f7"
            ],
            [
             0.6,
             "#e6f5d0"
            ],
            [
             0.7,
             "#b8e186"
            ],
            [
             0.8,
             "#7fbc41"
            ],
            [
             0.9,
             "#4d9221"
            ],
            [
             1,
             "#276419"
            ]
           ],
           "sequential": [
            [
             0,
             "#0d0887"
            ],
            [
             0.1111111111111111,
             "#46039f"
            ],
            [
             0.2222222222222222,
             "#7201a8"
            ],
            [
             0.3333333333333333,
             "#9c179e"
            ],
            [
             0.4444444444444444,
             "#bd3786"
            ],
            [
             0.5555555555555556,
             "#d8576b"
            ],
            [
             0.6666666666666666,
             "#ed7953"
            ],
            [
             0.7777777777777778,
             "#fb9f3a"
            ],
            [
             0.8888888888888888,
             "#fdca26"
            ],
            [
             1,
             "#f0f921"
            ]
           ],
           "sequentialminus": [
            [
             0,
             "#0d0887"
            ],
            [
             0.1111111111111111,
             "#46039f"
            ],
            [
             0.2222222222222222,
             "#7201a8"
            ],
            [
             0.3333333333333333,
             "#9c179e"
            ],
            [
             0.4444444444444444,
             "#bd3786"
            ],
            [
             0.5555555555555556,
             "#d8576b"
            ],
            [
             0.6666666666666666,
             "#ed7953"
            ],
            [
             0.7777777777777778,
             "#fb9f3a"
            ],
            [
             0.8888888888888888,
             "#fdca26"
            ],
            [
             1,
             "#f0f921"
            ]
           ]
          },
          "colorway": [
           "#636efa",
           "#EF553B",
           "#00cc96",
           "#ab63fa",
           "#FFA15A",
           "#19d3f3",
           "#FF6692",
           "#B6E880",
           "#FF97FF",
           "#FECB52"
          ],
          "font": {
           "color": "#2a3f5f"
          },
          "geo": {
           "bgcolor": "white",
           "lakecolor": "white",
           "landcolor": "#E5ECF6",
           "showlakes": true,
           "showland": true,
           "subunitcolor": "white"
          },
          "hoverlabel": {
           "align": "left"
          },
          "hovermode": "closest",
          "mapbox": {
           "style": "light"
          },
          "paper_bgcolor": "white",
          "plot_bgcolor": "#E5ECF6",
          "polar": {
           "angularaxis": {
            "gridcolor": "white",
            "linecolor": "white",
            "ticks": ""
           },
           "bgcolor": "#E5ECF6",
           "radialaxis": {
            "gridcolor": "white",
            "linecolor": "white",
            "ticks": ""
           }
          },
          "scene": {
           "xaxis": {
            "backgroundcolor": "#E5ECF6",
            "gridcolor": "white",
            "gridwidth": 2,
            "linecolor": "white",
            "showbackground": true,
            "ticks": "",
            "zerolinecolor": "white"
           },
           "yaxis": {
            "backgroundcolor": "#E5ECF6",
            "gridcolor": "white",
            "gridwidth": 2,
            "linecolor": "white",
            "showbackground": true,
            "ticks": "",
            "zerolinecolor": "white"
           },
           "zaxis": {
            "backgroundcolor": "#E5ECF6",
            "gridcolor": "white",
            "gridwidth": 2,
            "linecolor": "white",
            "showbackground": true,
            "ticks": "",
            "zerolinecolor": "white"
           }
          },
          "shapedefaults": {
           "line": {
            "color": "#2a3f5f"
           }
          },
          "ternary": {
           "aaxis": {
            "gridcolor": "white",
            "linecolor": "white",
            "ticks": ""
           },
           "baxis": {
            "gridcolor": "white",
            "linecolor": "white",
            "ticks": ""
           },
           "bgcolor": "#E5ECF6",
           "caxis": {
            "gridcolor": "white",
            "linecolor": "white",
            "ticks": ""
           }
          },
          "title": {
           "x": 0.05
          },
          "xaxis": {
           "automargin": true,
           "gridcolor": "white",
           "linecolor": "white",
           "ticks": "",
           "title": {
            "standoff": 15
           },
           "zerolinecolor": "white",
           "zerolinewidth": 2
          },
          "yaxis": {
           "automargin": true,
           "gridcolor": "white",
           "linecolor": "white",
           "ticks": "",
           "title": {
            "standoff": 15
           },
           "zerolinecolor": "white",
           "zerolinewidth": 2
          }
         }
        }
       }
      },
      "text/html": [
       "<div>                            <div id=\"37f9b67a-630c-444c-8182-5be37a456ba5\" class=\"plotly-graph-div\" style=\"height:525px; width:100%;\"></div>            <script type=\"text/javascript\">                require([\"plotly\"], function(Plotly) {                    window.PLOTLYENV=window.PLOTLYENV || {};                                    if (document.getElementById(\"37f9b67a-630c-444c-8182-5be37a456ba5\")) {                    Plotly.newPlot(                        \"37f9b67a-630c-444c-8182-5be37a456ba5\",                        [{\"domain\":{\"x\":[0.0,1.0],\"y\":[0.0,1.0]},\"hovertemplate\":\"Category=%{label}<br>Total=%{value}<extra></extra>\",\"labels\":[\"Web Designing\",\"HR\",\"Data Science\",\"Mechanical Engineer\",\"Sales\",\"Arts\",\"Health and fitness\",\"Advocate\",\"Civil Engineer\"],\"legendgroup\":\"\",\"name\":\"\",\"showlegend\":true,\"values\":[45,44,40,40,40,36,30,20,5],\"type\":\"pie\"}],                        {\"template\":{\"data\":{\"histogram2dcontour\":[{\"type\":\"histogram2dcontour\",\"colorbar\":{\"outlinewidth\":0,\"ticks\":\"\"},\"colorscale\":[[0.0,\"#0d0887\"],[0.1111111111111111,\"#46039f\"],[0.2222222222222222,\"#7201a8\"],[0.3333333333333333,\"#9c179e\"],[0.4444444444444444,\"#bd3786\"],[0.5555555555555556,\"#d8576b\"],[0.6666666666666666,\"#ed7953\"],[0.7777777777777778,\"#fb9f3a\"],[0.8888888888888888,\"#fdca26\"],[1.0,\"#f0f921\"]]}],\"choropleth\":[{\"type\":\"choropleth\",\"colorbar\":{\"outlinewidth\":0,\"ticks\":\"\"}}],\"histogram2d\":[{\"type\":\"histogram2d\",\"colorbar\":{\"outlinewidth\":0,\"ticks\":\"\"},\"colorscale\":[[0.0,\"#0d0887\"],[0.1111111111111111,\"#46039f\"],[0.2222222222222222,\"#7201a8\"],[0.3333333333333333,\"#9c179e\"],[0.4444444444444444,\"#bd3786\"],[0.5555555555555556,\"#d8576b\"],[0.6666666666666666,\"#ed7953\"],[0.7777777777777778,\"#fb9f3a\"],[0.8888888888888888,\"#fdca26\"],[1.0,\"#f0f921\"]]}],\"heatmap\":[{\"type\":\"heatmap\",\"colorbar\":{\"outlinewidth\":0,\"ticks\":\"\"},\"colorscale\":[[0.0,\"#0d0887\"],[0.1111111111111111,\"#46039f\"],[0.2222222222222222,\"#7201a8\"],[0.3333333333333333,\"#9c179e\"],[0.4444444444444444,\"#bd3786\"],[0.5555555555555556,\"#d8576b\"],[0.6666666666666666,\"#ed7953\"],[0.7777777777777778,\"#fb9f3a\"],[0.8888888888888888,\"#fdca26\"],[1.0,\"#f0f921\"]]}],\"heatmapgl\":[{\"type\":\"heatmapgl\",\"colorbar\":{\"outlinewidth\":0,\"ticks\":\"\"},\"colorscale\":[[0.0,\"#0d0887\"],[0.1111111111111111,\"#46039f\"],[0.2222222222222222,\"#7201a8\"],[0.3333333333333333,\"#9c179e\"],[0.4444444444444444,\"#bd3786\"],[0.5555555555555556,\"#d8576b\"],[0.6666666666666666,\"#ed7953\"],[0.7777777777777778,\"#fb9f3a\"],[0.8888888888888888,\"#fdca26\"],[1.0,\"#f0f921\"]]}],\"contourcarpet\":[{\"type\":\"contourcarpet\",\"colorbar\":{\"outlinewidth\":0,\"ticks\":\"\"}}],\"contour\":[{\"type\":\"contour\",\"colorbar\":{\"outlinewidth\":0,\"ticks\":\"\"},\"colorscale\":[[0.0,\"#0d0887\"],[0.1111111111111111,\"#46039f\"],[0.2222222222222222,\"#7201a8\"],[0.3333333333333333,\"#9c179e\"],[0.4444444444444444,\"#bd3786\"],[0.5555555555555556,\"#d8576b\"],[0.6666666666666666,\"#ed7953\"],[0.7777777777777778,\"#fb9f3a\"],[0.8888888888888888,\"#fdca26\"],[1.0,\"#f0f921\"]]}],\"surface\":[{\"type\":\"surface\",\"colorbar\":{\"outlinewidth\":0,\"ticks\":\"\"},\"colorscale\":[[0.0,\"#0d0887\"],[0.1111111111111111,\"#46039f\"],[0.2222222222222222,\"#7201a8\"],[0.3333333333333333,\"#9c179e\"],[0.4444444444444444,\"#bd3786\"],[0.5555555555555556,\"#d8576b\"],[0.6666666666666666,\"#ed7953\"],[0.7777777777777778,\"#fb9f3a\"],[0.8888888888888888,\"#fdca26\"],[1.0,\"#f0f921\"]]}],\"mesh3d\":[{\"type\":\"mesh3d\",\"colorbar\":{\"outlinewidth\":0,\"ticks\":\"\"}}],\"scatter\":[{\"fillpattern\":{\"fillmode\":\"overlay\",\"size\":10,\"solidity\":0.2},\"type\":\"scatter\"}],\"parcoords\":[{\"type\":\"parcoords\",\"line\":{\"colorbar\":{\"outlinewidth\":0,\"ticks\":\"\"}}}],\"scatterpolargl\":[{\"type\":\"scatterpolargl\",\"marker\":{\"colorbar\":{\"outlinewidth\":0,\"ticks\":\"\"}}}],\"bar\":[{\"error_x\":{\"color\":\"#2a3f5f\"},\"error_y\":{\"color\":\"#2a3f5f\"},\"marker\":{\"line\":{\"color\":\"#E5ECF6\",\"width\":0.5},\"pattern\":{\"fillmode\":\"overlay\",\"size\":10,\"solidity\":0.2}},\"type\":\"bar\"}],\"scattergeo\":[{\"type\":\"scattergeo\",\"marker\":{\"colorbar\":{\"outlinewidth\":0,\"ticks\":\"\"}}}],\"scatterpolar\":[{\"type\":\"scatterpolar\",\"marker\":{\"colorbar\":{\"outlinewidth\":0,\"ticks\":\"\"}}}],\"histogram\":[{\"marker\":{\"pattern\":{\"fillmode\":\"overlay\",\"size\":10,\"solidity\":0.2}},\"type\":\"histogram\"}],\"scattergl\":[{\"type\":\"scattergl\",\"marker\":{\"colorbar\":{\"outlinewidth\":0,\"ticks\":\"\"}}}],\"scatter3d\":[{\"type\":\"scatter3d\",\"line\":{\"colorbar\":{\"outlinewidth\":0,\"ticks\":\"\"}},\"marker\":{\"colorbar\":{\"outlinewidth\":0,\"ticks\":\"\"}}}],\"scattermapbox\":[{\"type\":\"scattermapbox\",\"marker\":{\"colorbar\":{\"outlinewidth\":0,\"ticks\":\"\"}}}],\"scatterternary\":[{\"type\":\"scatterternary\",\"marker\":{\"colorbar\":{\"outlinewidth\":0,\"ticks\":\"\"}}}],\"scattercarpet\":[{\"type\":\"scattercarpet\",\"marker\":{\"colorbar\":{\"outlinewidth\":0,\"ticks\":\"\"}}}],\"carpet\":[{\"aaxis\":{\"endlinecolor\":\"#2a3f5f\",\"gridcolor\":\"white\",\"linecolor\":\"white\",\"minorgridcolor\":\"white\",\"startlinecolor\":\"#2a3f5f\"},\"baxis\":{\"endlinecolor\":\"#2a3f5f\",\"gridcolor\":\"white\",\"linecolor\":\"white\",\"minorgridcolor\":\"white\",\"startlinecolor\":\"#2a3f5f\"},\"type\":\"carpet\"}],\"table\":[{\"cells\":{\"fill\":{\"color\":\"#EBF0F8\"},\"line\":{\"color\":\"white\"}},\"header\":{\"fill\":{\"color\":\"#C8D4E3\"},\"line\":{\"color\":\"white\"}},\"type\":\"table\"}],\"barpolar\":[{\"marker\":{\"line\":{\"color\":\"#E5ECF6\",\"width\":0.5},\"pattern\":{\"fillmode\":\"overlay\",\"size\":10,\"solidity\":0.2}},\"type\":\"barpolar\"}],\"pie\":[{\"automargin\":true,\"type\":\"pie\"}]},\"layout\":{\"autotypenumbers\":\"strict\",\"colorway\":[\"#636efa\",\"#EF553B\",\"#00cc96\",\"#ab63fa\",\"#FFA15A\",\"#19d3f3\",\"#FF6692\",\"#B6E880\",\"#FF97FF\",\"#FECB52\"],\"font\":{\"color\":\"#2a3f5f\"},\"hovermode\":\"closest\",\"hoverlabel\":{\"align\":\"left\"},\"paper_bgcolor\":\"white\",\"plot_bgcolor\":\"#E5ECF6\",\"polar\":{\"bgcolor\":\"#E5ECF6\",\"angularaxis\":{\"gridcolor\":\"white\",\"linecolor\":\"white\",\"ticks\":\"\"},\"radialaxis\":{\"gridcolor\":\"white\",\"linecolor\":\"white\",\"ticks\":\"\"}},\"ternary\":{\"bgcolor\":\"#E5ECF6\",\"aaxis\":{\"gridcolor\":\"white\",\"linecolor\":\"white\",\"ticks\":\"\"},\"baxis\":{\"gridcolor\":\"white\",\"linecolor\":\"white\",\"ticks\":\"\"},\"caxis\":{\"gridcolor\":\"white\",\"linecolor\":\"white\",\"ticks\":\"\"}},\"coloraxis\":{\"colorbar\":{\"outlinewidth\":0,\"ticks\":\"\"}},\"colorscale\":{\"sequential\":[[0.0,\"#0d0887\"],[0.1111111111111111,\"#46039f\"],[0.2222222222222222,\"#7201a8\"],[0.3333333333333333,\"#9c179e\"],[0.4444444444444444,\"#bd3786\"],[0.5555555555555556,\"#d8576b\"],[0.6666666666666666,\"#ed7953\"],[0.7777777777777778,\"#fb9f3a\"],[0.8888888888888888,\"#fdca26\"],[1.0,\"#f0f921\"]],\"sequentialminus\":[[0.0,\"#0d0887\"],[0.1111111111111111,\"#46039f\"],[0.2222222222222222,\"#7201a8\"],[0.3333333333333333,\"#9c179e\"],[0.4444444444444444,\"#bd3786\"],[0.5555555555555556,\"#d8576b\"],[0.6666666666666666,\"#ed7953\"],[0.7777777777777778,\"#fb9f3a\"],[0.8888888888888888,\"#fdca26\"],[1.0,\"#f0f921\"]],\"diverging\":[[0,\"#8e0152\"],[0.1,\"#c51b7d\"],[0.2,\"#de77ae\"],[0.3,\"#f1b6da\"],[0.4,\"#fde0ef\"],[0.5,\"#f7f7f7\"],[0.6,\"#e6f5d0\"],[0.7,\"#b8e186\"],[0.8,\"#7fbc41\"],[0.9,\"#4d9221\"],[1,\"#276419\"]]},\"xaxis\":{\"gridcolor\":\"white\",\"linecolor\":\"white\",\"ticks\":\"\",\"title\":{\"standoff\":15},\"zerolinecolor\":\"white\",\"automargin\":true,\"zerolinewidth\":2},\"yaxis\":{\"gridcolor\":\"white\",\"linecolor\":\"white\",\"ticks\":\"\",\"title\":{\"standoff\":15},\"zerolinecolor\":\"white\",\"automargin\":true,\"zerolinewidth\":2},\"scene\":{\"xaxis\":{\"backgroundcolor\":\"#E5ECF6\",\"gridcolor\":\"white\",\"linecolor\":\"white\",\"showbackground\":true,\"ticks\":\"\",\"zerolinecolor\":\"white\",\"gridwidth\":2},\"yaxis\":{\"backgroundcolor\":\"#E5ECF6\",\"gridcolor\":\"white\",\"linecolor\":\"white\",\"showbackground\":true,\"ticks\":\"\",\"zerolinecolor\":\"white\",\"gridwidth\":2},\"zaxis\":{\"backgroundcolor\":\"#E5ECF6\",\"gridcolor\":\"white\",\"linecolor\":\"white\",\"showbackground\":true,\"ticks\":\"\",\"zerolinecolor\":\"white\",\"gridwidth\":2}},\"shapedefaults\":{\"line\":{\"color\":\"#2a3f5f\"}},\"annotationdefaults\":{\"arrowcolor\":\"#2a3f5f\",\"arrowhead\":0,\"arrowwidth\":1},\"geo\":{\"bgcolor\":\"white\",\"landcolor\":\"#E5ECF6\",\"subunitcolor\":\"white\",\"showland\":true,\"showlakes\":true,\"lakecolor\":\"white\"},\"title\":{\"x\":0.05},\"mapbox\":{\"style\":\"light\"}}},\"legend\":{\"tracegroupgap\":0},\"margin\":{\"t\":60}},                        {\"responsive\": true}                    ).then(function(){\n",
       "                            \n",
       "var gd = document.getElementById('37f9b67a-630c-444c-8182-5be37a456ba5');\n",
       "var x = new MutationObserver(function (mutations, observer) {{\n",
       "        var display = window.getComputedStyle(gd).display;\n",
       "        if (!display || display === 'none') {{\n",
       "            console.log([gd, 'removed!']);\n",
       "            Plotly.purge(gd);\n",
       "            observer.disconnect();\n",
       "        }}\n",
       "}});\n",
       "\n",
       "// Listen for the removal of the full notebook cells\n",
       "var notebookContainer = gd.closest('#notebook-container');\n",
       "if (notebookContainer) {{\n",
       "    x.observe(notebookContainer, {childList: true});\n",
       "}}\n",
       "\n",
       "// Listen for the clearing of the current output cell\n",
       "var outputEl = gd.closest('.output');\n",
       "if (outputEl) {{\n",
       "    x.observe(outputEl, {childList: true});\n",
       "}}\n",
       "\n",
       "                        })                };                });            </script>        </div>"
      ]
     },
     "metadata": {},
     "output_type": "display_data"
    }
   ],
   "source": [
    "fig = px.pie(data_result,\n",
    "                 values='Total',\n",
    "                 names='Category')\n",
    "\n",
    "fig.show()"
   ]
  },
  {
   "cell_type": "code",
   "execution_count": null,
   "id": "d26961e1",
   "metadata": {},
   "outputs": [],
   "source": []
  },
  {
   "cell_type": "markdown",
   "id": "f177808b",
   "metadata": {},
   "source": [
    "# Combining the two datasets"
   ]
  },
  {
   "cell_type": "code",
   "execution_count": 426,
   "id": "faa20012",
   "metadata": {
    "scrolled": true
   },
   "outputs": [],
   "source": [
    "data1 = pd.DataFrame(df)\n",
    "data2 = pd.DataFrame(data)"
   ]
  },
  {
   "cell_type": "code",
   "execution_count": 427,
   "id": "b962c2d6",
   "metadata": {},
   "outputs": [],
   "source": [
    "combined_data = pd.concat([data1,data2], axis =1 )"
   ]
  },
  {
   "cell_type": "code",
   "execution_count": 428,
   "id": "6d72df16",
   "metadata": {},
   "outputs": [
    {
     "data": {
      "text/html": [
       "<div>\n",
       "<style scoped>\n",
       "    .dataframe tbody tr th:only-of-type {\n",
       "        vertical-align: middle;\n",
       "    }\n",
       "\n",
       "    .dataframe tbody tr th {\n",
       "        vertical-align: top;\n",
       "    }\n",
       "\n",
       "    .dataframe thead th {\n",
       "        text-align: right;\n",
       "    }\n",
       "</style>\n",
       "<table border=\"1\" class=\"dataframe\">\n",
       "  <thead>\n",
       "    <tr style=\"text-align: right;\">\n",
       "      <th></th>\n",
       "      <th>years_of_experience</th>\n",
       "      <th>functional_competency_score</th>\n",
       "      <th>top1_skills_score</th>\n",
       "      <th>top2_skills_score</th>\n",
       "      <th>top3_skills_score</th>\n",
       "      <th>behavior_competency_score</th>\n",
       "      <th>top1_behavior_skill_score</th>\n",
       "      <th>top2_behavior_skill_score</th>\n",
       "      <th>top3_behavior_skill_score</th>\n",
       "      <th>call_for_interview</th>\n",
       "      <th>Category</th>\n",
       "      <th>Resume</th>\n",
       "    </tr>\n",
       "  </thead>\n",
       "  <tbody>\n",
       "    <tr>\n",
       "      <th>0</th>\n",
       "      <td>8</td>\n",
       "      <td>0.749498</td>\n",
       "      <td>0.777778</td>\n",
       "      <td>0.7</td>\n",
       "      <td>0.8</td>\n",
       "      <td>0.769231</td>\n",
       "      <td>0.931689</td>\n",
       "      <td>0.662042</td>\n",
       "      <td>0.752463</td>\n",
       "      <td>1</td>\n",
       "      <td>Data Science</td>\n",
       "      <td>Skills * Programming Languages: Python (pandas...</td>\n",
       "    </tr>\n",
       "    <tr>\n",
       "      <th>1</th>\n",
       "      <td>7</td>\n",
       "      <td>0.490638</td>\n",
       "      <td>0.777778</td>\n",
       "      <td>0.3</td>\n",
       "      <td>0.4</td>\n",
       "      <td>0.153846</td>\n",
       "      <td>0.352093</td>\n",
       "      <td>0.132231</td>\n",
       "      <td>0.316905</td>\n",
       "      <td>0</td>\n",
       "      <td>Data Science</td>\n",
       "      <td>Education Details \\r\\nMay 2013 to May 2017 B.E...</td>\n",
       "    </tr>\n",
       "    <tr>\n",
       "      <th>2</th>\n",
       "      <td>8</td>\n",
       "      <td>0.460256</td>\n",
       "      <td>0.444444</td>\n",
       "      <td>0.3</td>\n",
       "      <td>0.3</td>\n",
       "      <td>0.051282</td>\n",
       "      <td>0.052347</td>\n",
       "      <td>0.089765</td>\n",
       "      <td>0.254859</td>\n",
       "      <td>0</td>\n",
       "      <td>Data Science</td>\n",
       "      <td>Areas of Interest Deep Learning, Control Syste...</td>\n",
       "    </tr>\n",
       "    <tr>\n",
       "      <th>3</th>\n",
       "      <td>7</td>\n",
       "      <td>0.507347</td>\n",
       "      <td>0.555556</td>\n",
       "      <td>0.4</td>\n",
       "      <td>0.5</td>\n",
       "      <td>0.384615</td>\n",
       "      <td>0.309913</td>\n",
       "      <td>0.289758</td>\n",
       "      <td>0.440784</td>\n",
       "      <td>0</td>\n",
       "      <td>Data Science</td>\n",
       "      <td>Skills â¢ R â¢ Python â¢ SAP HANA â¢ Table...</td>\n",
       "    </tr>\n",
       "    <tr>\n",
       "      <th>4</th>\n",
       "      <td>4</td>\n",
       "      <td>0.662020</td>\n",
       "      <td>0.666667</td>\n",
       "      <td>0.7</td>\n",
       "      <td>0.5</td>\n",
       "      <td>0.461538</td>\n",
       "      <td>0.497929</td>\n",
       "      <td>0.397544</td>\n",
       "      <td>0.392760</td>\n",
       "      <td>1</td>\n",
       "      <td>Data Science</td>\n",
       "      <td>Education Details \\r\\n MCA   YMCAUST,  Faridab...</td>\n",
       "    </tr>\n",
       "    <tr>\n",
       "      <th>...</th>\n",
       "      <td>...</td>\n",
       "      <td>...</td>\n",
       "      <td>...</td>\n",
       "      <td>...</td>\n",
       "      <td>...</td>\n",
       "      <td>...</td>\n",
       "      <td>...</td>\n",
       "      <td>...</td>\n",
       "      <td>...</td>\n",
       "      <td>...</td>\n",
       "      <td>...</td>\n",
       "      <td>...</td>\n",
       "    </tr>\n",
       "    <tr>\n",
       "      <th>295</th>\n",
       "      <td>5</td>\n",
       "      <td>0.576078</td>\n",
       "      <td>0.555556</td>\n",
       "      <td>0.6</td>\n",
       "      <td>0.6</td>\n",
       "      <td>0.230769</td>\n",
       "      <td>0.421105</td>\n",
       "      <td>0.354628</td>\n",
       "      <td>0.096438</td>\n",
       "      <td>0</td>\n",
       "      <td>Civil Engineer</td>\n",
       "      <td>Education Details \\r\\n B.E in Civil Engineerin...</td>\n",
       "    </tr>\n",
       "    <tr>\n",
       "      <th>296</th>\n",
       "      <td>6</td>\n",
       "      <td>0.587738</td>\n",
       "      <td>0.555556</td>\n",
       "      <td>0.5</td>\n",
       "      <td>0.5</td>\n",
       "      <td>0.230769</td>\n",
       "      <td>0.426939</td>\n",
       "      <td>0.201772</td>\n",
       "      <td>0.430858</td>\n",
       "      <td>1</td>\n",
       "      <td>Civil Engineer</td>\n",
       "      <td>Education Details \\r\\nJanuary 2005 S.S.C  Bara...</td>\n",
       "    </tr>\n",
       "    <tr>\n",
       "      <th>297</th>\n",
       "      <td>6</td>\n",
       "      <td>0.740044</td>\n",
       "      <td>0.666667</td>\n",
       "      <td>0.5</td>\n",
       "      <td>0.7</td>\n",
       "      <td>0.615385</td>\n",
       "      <td>0.681916</td>\n",
       "      <td>0.562821</td>\n",
       "      <td>0.681403</td>\n",
       "      <td>1</td>\n",
       "      <td>Civil Engineer</td>\n",
       "      <td>SKILLS â¢ 1.Autocad â¢ 2.Pro v â¢ 3.Catia â...</td>\n",
       "    </tr>\n",
       "    <tr>\n",
       "      <th>298</th>\n",
       "      <td>8</td>\n",
       "      <td>0.654656</td>\n",
       "      <td>0.666667</td>\n",
       "      <td>0.5</td>\n",
       "      <td>0.7</td>\n",
       "      <td>0.589744</td>\n",
       "      <td>0.585173</td>\n",
       "      <td>0.549063</td>\n",
       "      <td>0.663228</td>\n",
       "      <td>1</td>\n",
       "      <td>Civil Engineer</td>\n",
       "      <td>Computer Skills â¢ Holder of valid KSA licens...</td>\n",
       "    </tr>\n",
       "    <tr>\n",
       "      <th>299</th>\n",
       "      <td>4</td>\n",
       "      <td>0.754280</td>\n",
       "      <td>0.222222</td>\n",
       "      <td>0.7</td>\n",
       "      <td>0.8</td>\n",
       "      <td>0.820513</td>\n",
       "      <td>0.936553</td>\n",
       "      <td>0.793214</td>\n",
       "      <td>0.718935</td>\n",
       "      <td>1</td>\n",
       "      <td>Civil Engineer</td>\n",
       "      <td>COMPUTER KNOWLEDGE â¢ Drafting tools: AutoCAD...</td>\n",
       "    </tr>\n",
       "  </tbody>\n",
       "</table>\n",
       "<p>300 rows × 12 columns</p>\n",
       "</div>"
      ],
      "text/plain": [
       "     years_of_experience  functional_competency_score  top1_skills_score  \\\n",
       "0                      8                     0.749498           0.777778   \n",
       "1                      7                     0.490638           0.777778   \n",
       "2                      8                     0.460256           0.444444   \n",
       "3                      7                     0.507347           0.555556   \n",
       "4                      4                     0.662020           0.666667   \n",
       "..                   ...                          ...                ...   \n",
       "295                    5                     0.576078           0.555556   \n",
       "296                    6                     0.587738           0.555556   \n",
       "297                    6                     0.740044           0.666667   \n",
       "298                    8                     0.654656           0.666667   \n",
       "299                    4                     0.754280           0.222222   \n",
       "\n",
       "     top2_skills_score  top3_skills_score  behavior_competency_score  \\\n",
       "0                  0.7                0.8                   0.769231   \n",
       "1                  0.3                0.4                   0.153846   \n",
       "2                  0.3                0.3                   0.051282   \n",
       "3                  0.4                0.5                   0.384615   \n",
       "4                  0.7                0.5                   0.461538   \n",
       "..                 ...                ...                        ...   \n",
       "295                0.6                0.6                   0.230769   \n",
       "296                0.5                0.5                   0.230769   \n",
       "297                0.5                0.7                   0.615385   \n",
       "298                0.5                0.7                   0.589744   \n",
       "299                0.7                0.8                   0.820513   \n",
       "\n",
       "     top1_behavior_skill_score  top2_behavior_skill_score  \\\n",
       "0                     0.931689                   0.662042   \n",
       "1                     0.352093                   0.132231   \n",
       "2                     0.052347                   0.089765   \n",
       "3                     0.309913                   0.289758   \n",
       "4                     0.497929                   0.397544   \n",
       "..                         ...                        ...   \n",
       "295                   0.421105                   0.354628   \n",
       "296                   0.426939                   0.201772   \n",
       "297                   0.681916                   0.562821   \n",
       "298                   0.585173                   0.549063   \n",
       "299                   0.936553                   0.793214   \n",
       "\n",
       "     top3_behavior_skill_score  call_for_interview        Category  \\\n",
       "0                     0.752463                   1    Data Science   \n",
       "1                     0.316905                   0    Data Science   \n",
       "2                     0.254859                   0    Data Science   \n",
       "3                     0.440784                   0    Data Science   \n",
       "4                     0.392760                   1    Data Science   \n",
       "..                         ...                 ...             ...   \n",
       "295                   0.096438                   0  Civil Engineer   \n",
       "296                   0.430858                   1  Civil Engineer   \n",
       "297                   0.681403                   1  Civil Engineer   \n",
       "298                   0.663228                   1  Civil Engineer   \n",
       "299                   0.718935                   1  Civil Engineer   \n",
       "\n",
       "                                                Resume  \n",
       "0    Skills * Programming Languages: Python (pandas...  \n",
       "1    Education Details \\r\\nMay 2013 to May 2017 B.E...  \n",
       "2    Areas of Interest Deep Learning, Control Syste...  \n",
       "3    Skills â¢ R â¢ Python â¢ SAP HANA â¢ Table...  \n",
       "4    Education Details \\r\\n MCA   YMCAUST,  Faridab...  \n",
       "..                                                 ...  \n",
       "295  Education Details \\r\\n B.E in Civil Engineerin...  \n",
       "296  Education Details \\r\\nJanuary 2005 S.S.C  Bara...  \n",
       "297  SKILLS â¢ 1.Autocad â¢ 2.Pro v â¢ 3.Catia â...  \n",
       "298  Computer Skills â¢ Holder of valid KSA licens...  \n",
       "299  COMPUTER KNOWLEDGE â¢ Drafting tools: AutoCAD...  \n",
       "\n",
       "[300 rows x 12 columns]"
      ]
     },
     "execution_count": 428,
     "metadata": {},
     "output_type": "execute_result"
    }
   ],
   "source": [
    "combined_data"
   ]
  },
  {
   "cell_type": "code",
   "execution_count": 429,
   "id": "77079d01",
   "metadata": {
    "scrolled": true
   },
   "outputs": [
    {
     "data": {
      "text/plain": [
       "years_of_experience            0\n",
       "functional_competency_score    0\n",
       "top1_skills_score              0\n",
       "top2_skills_score              0\n",
       "top3_skills_score              0\n",
       "behavior_competency_score      0\n",
       "top1_behavior_skill_score      0\n",
       "top2_behavior_skill_score      0\n",
       "top3_behavior_skill_score      0\n",
       "call_for_interview             0\n",
       "Category                       0\n",
       "Resume                         0\n",
       "dtype: int64"
      ]
     },
     "execution_count": 429,
     "metadata": {},
     "output_type": "execute_result"
    }
   ],
   "source": [
    "combined_data.isnull().sum()"
   ]
  },
  {
   "cell_type": "code",
   "execution_count": 430,
   "id": "585cc3c0",
   "metadata": {},
   "outputs": [
    {
     "data": {
      "image/png": "[encoded data removed]",
      "text/plain": [
       "<Figure size 640x480 with 1 Axes>"
      ]
     },
     "metadata": {},
     "output_type": "display_data"
    }
   ],
   "source": [
    "sns.barplot(\n",
    "    data=combined_data,\n",
    "    x=\"Category\", y=\"call_for_interview\",\n",
    ")\n",
    "plt.xticks(rotation=90)\n",
    "plt.show()"
   ]
  },
  {
   "cell_type": "code",
   "execution_count": 431,
   "id": "92822351",
   "metadata": {},
   "outputs": [
    {
     "data": {
      "text/plain": [
       "61"
      ]
     },
     "execution_count": 431,
     "metadata": {},
     "output_type": "execute_result"
    }
   ],
   "source": [
    "combined_data['Resume'].nunique()"
   ]
  },
  {
   "cell_type": "code",
   "execution_count": 432,
   "id": "5c54da52",
   "metadata": {
    "scrolled": true
   },
   "outputs": [
    {
     "data": {
      "text/plain": [
       "Technical Skills Web Technologies: Angular JS, HTML5, CSS3, SASS, Bootstrap, Jquery, Javascript. Software: Brackets, Visual Studio, Photoshop, Visual Studio Code Education Details \\r\\nJanuary 2015 B.E CSE Nagpur, Maharashtra G.H.Raisoni College of Engineering\\r\\nOctober 2009  Photography Competition Click Nagpur, Maharashtra Maharashtra State Board\\r\\n    College Magazine OCEAN\\r\\nWeb Designer \\r\\n\\r\\nWeb Designer - Trust Systems and Software\\r\\nSkill Details \\r\\nPHOTOSHOP- Exprience - 28 months\\r\\nBOOTSTRAP- Exprience - 6 months\\r\\nHTML5- Exprience - 6 months\\r\\nJAVASCRIPT- Exprience - 6 months\\r\\nCSS3- Exprience - Less than 1 year months\\r\\nAngular 4- Exprience - Less than 1 year monthsCompany Details \\r\\ncompany - Trust Systems and Software\\r\\ndescription - Projects worked on:\\r\\n1. TrustBank-CBS\\r\\nProject Description: TrustBank-CBS is a core banking solution by Trust Systems.\\r\\nRoles and Responsibility:\\r\\nâ Renovated complete UI to make it more modern, user-friendly, maintainable and optimised for bank use.\\r\\nâ Shared the UI structure and guidelines to be incorporated, with development team of around 50\\r\\nmembers.\\r\\nâ Achieved the target of project completion in given time frame.\\r\\nâ Made required graphics for the project in photoshop\\r\\n\\r\\n2. Loan Bazar (Loan Appraisal)\\r\\nProject Description: Loan Bazar is a MVC-based application dedicated to creating and managing\\r\\nloan applications. The goal of this application is to streamline the process of loan application and integrate with existing CBS.\\r\\nRoles and Responsibility\\r\\nâ Designed and developed modern and responsive UI of entire application and achieved the target in given time frame.\\r\\nâ Made required graphics for the project in photoshop\\r\\n3. Capital Security Bond Application\\r\\nProject Description: Capital Security Bond Application is a MVC based application which provided an online platform to purchase gold bond\\r\\nRoles and Responsibility:\\r\\nâ Designed and developed modern and responsive UI of entire application and achieved the target in given time frame.\\r\\nâ Made required graphics for the project in photoshop\\r\\n\\r\\n4. SoftGST\\r\\nProject Description: SoftGST (Web Based Application) is an ASP application to every tax\\r\\npayers and its vendors for generating the GSTR returns on the basis of sales / purchase\\r\\ndata, additionally the application can do the reconciliation of GSTR 2 A with purchase register.\\r\\nRoles and Responsibility:\\r\\nâ Designed and developed the UI of Dashboard.\\r\\n\\r\\n5. Trust Analytica:\\r\\nProject Description: Trust Analytika is the mobile web app that shows bank asset, liability,\\r\\nincome, expenses.\\r\\nRoles and Responsibility:\\r\\nâ Designed and developed the landing page of the application.\\r\\nâ Supported the developers in UI implementation\\r\\n\\r\\n6. Website's:\\r\\nProject Name:\\r\\n1. TSR Technology Services - http://tsrtechnologyservices.com\\r\\n2. Vidarbha Merchants Urban Co-Op Bank - http://vmcbank.com\\r\\n3. GISSS - http://gisss.co.in\\r\\n4. Softtrust USA - http://softtrustusa.com\\r\\nRoles and Responsibility\\r\\nâ Communicated with clients to understand their requirement\\r\\nâ Made mocks for the website\\r\\nâ Designed and developed complete website and hosted them in stipulated time.\\r\\ncompany - www.jalloshband.com\\r\\ndescription - Project Name:\\r\\n1. Jallosh Band - www.jalloshband.com\\r\\n2. An Endeavor Foundation\\r\\nRoles and Responsibility:\\r\\nâ Communicated with clients to understand their requirement\\r\\nâ Made mocks for the website\\r\\nâ Designed and developed complete website and hosted them in stipulated time.\\r\\ncompany - 10MagicalFingers\\r\\ndescription - National and international client interaction.\\r\\nâ Management of digital data                                                                                                                                                                                                                                                                                                                                                                                                                                                                                                                                                                                                                                                                                                                                                                                                                                                                                                                                                                                                                                                                                                                                                                                                                                                                                                                                                                                                                                                                                                                                                                                                                                                                                                                                                                                                                                                                                                                                                                                                                                                                                                                                                                                                                                                                                                                                                                                                                                                                                                                                                                                                                                                                                                                                                                                                                                                                                                                                                                                                                                                                                                                                                                                                                                                                                                                                                                                                                                                                                                                                                                                                                                                                                                      18\n",
       "Education Details \\r\\nJanuary 2016 B.Sc. Information Technology Mumbai, Maharashtra University of Mumbai\\r\\nJanuary 2012 HSC  Allahabad, Uttar Pradesh Allahabad university\\r\\nJanuary 2010 SSC dot Net Allahabad, Uttar Pradesh Allahabad university\\r\\nWeb designer and Developer Trainer \\r\\n\\r\\nWeb designer and Developer\\r\\nSkill Details \\r\\nWeb design- Exprience - 12 months\\r\\nPhp- Exprience - 12 monthsCompany Details \\r\\ncompany - NetTech India\\r\\ndescription - Working. ( salary - 12k)\\r\\nPERSONAL INTEREST\\r\\n\\r\\nListening to Music, Surfing net, Watching Movie, Playing Cricket.\\r\\ncompany - EPI Center Academy\\r\\ndescription - Working.  ( Salary Contract based)\\r\\ncompany - Aptech Charni Road\\r\\ndescription - Salary Contract based)                                                                                                                                                                                                                                                                                                                                                                                                                                                                                                                                                                                                                                                                                                                                                                                                                                                                                                                                                                                                                                                                                                                                                                                                                                                                                                                                                                                                                                                                                                                                                                                                                                                                                                                                                                                                                                                                                                                                                                                                                                                                                                                                                                                                                                                                                                                                                                                                                                                                                                                                                                                                                                                                                                                                                                                                                                                                                                                                                                                                                                                                                                                                                                                                                                                                                                                                                                                                                                                                                                                                                                                                                                                                                                                                                                                                                                                                                                                                                                                                                                                                                                                                                                                                                                                                                                                                                                                                                                                                                                                                                                                                                                                                                                                                                                                                                                                                                                                                                                                                                                                                                                                                                                                                                                                                                                                                                                                                                                                                                                                                                                                                                                                                                                                                                                                                                                                                                                                                                                                                                                                                                                                                                                                                                                                                                                                                                                                                                                                                                                                                                                                                                                                                                                                                                                                                                                   9\n",
       "Education Details \\r\\n B.C.A Bachelor Computer Application Pune, Maharashtra Pune University\\r\\n H.S.C.  Pune, Maharashtra Pune University\\r\\n S.S.C.  Pune, Maharashtra Pune University\\r\\nWeb Designing and Developer \\r\\n\\r\\nphp Developer - Exposys Pvt. Ltd\\r\\nSkill Details \\r\\nCompany Details \\r\\ncompany - Exposys Pvt. Ltd\\r\\ndescription - Technical Skills\\r\\nWeb Development: HTML5, CSS3, Bootstrap, PHP, Ajax, Jquery, JavaScript.\\r\\nDatabase: MySQL.\\r\\nDevelopment Tools: Notepad++, Sublime Text2.\\r\\nFramework: Codeigniter.\\r\\nServer: Apache tomcat, Xampp Control Panel.\\r\\nOperating Systems: Windows.\\r\\ncompany - Exposys Pvt. Ltd\\r\\ndescription - Pune.\\tAugest 2017 to till date\\r\\n\\r\\nProject Details:\\r\\nProject-I: Pragat Bharat System\\r\\nTechnologies Used: HTML, CSS, BOOTSTRAP, PHP, JQUERY, AJAX.\\r\\nDatabase Used: My SQL.\\r\\nTeam size: 1\\r\\nPosition: Software Developer\\r\\nSynopsis: This project aim is specially design for people. It is used to collect information to diifernt sector.\\r\\n\\r\\nProject-II: Go Ayur System\\r\\nTechnologies Used: HTML, CSS, BOOTSTRAP, PHP, JQUERY, AJAX.\\r\\nDatabase Used: My SQL.\\r\\nTeam size: 2\\r\\nPosition: Software Developer\\r\\nSynopsis: Go Ayurveda Panchakarma center is one of most traditionally well established, professional and innovative providers of Classical\\r\\nAyurvedic Health services and Kerala Panchakarma therapies.\\r\\n\\r\\nProject-III: Vitsanindia System\\r\\nTechnologies Used: HTML, CSS, BOOTSTRAP, PHP, JQUERY, AJAX, JAVA SCRIPT.\\r\\nDatabase Used: My SQL.\\r\\nTeam size: 2\\r\\nPosition: Software Developer\\r\\nSynopsis: Online Shooping through app. This app is user friendly because there is a option for change language. User can to find different categories products as there choice.\\r\\n\\r\\nProject-IV: MahabaleshwarTours\\r\\nTechnologies Used: HTML, CSS, BOOTSTRAP, PHP, JQUERY, AJAX, JAVA SCRIPT.\\r\\nDatabase Used: My SQL.\\r\\nTeam size: 1\\r\\nPosition: Software Developer\\r\\nSynopsis: In this system is to provide Online Registration, Tour Package Information, Ticket Booking, Online Payment and Searching Facility for Customer and also Generate Different types of Report.\\r\\n\\r\\nProject-V: Cityspaceindia\\r\\nTechnologies Used: HTML, CSS, BOOTSTRAP, PHP, JQUERY, AJAX, JAVA SCRIPT.\\r\\nDatabase Used: My SQL.\\r\\nTeam size: 1\\r\\nPosition: Software Developer\\r\\nSynopsis: Service provider website we provide different categories.\\r\\n\\r\\nProject-VI: Fruitsbuddy\\r\\nTechnologies Used: HTML, CSS, BOOTSTRAP, PHP, JQUERY, AJAX, JAVA SCRIPT.\\r\\nDatabase Used: My SQL.\\r\\nTeam size: 1\\r\\nPosition: Software Developer\\r\\nSynopsis: Fruitbuddy is to manage the details of fruits, Customer, Order, Transaction, Payment. It manages all the information about fruits, Stocks, Payment. The project is totally built at administrative end and thus only the administrator is guaranteed the access. The purpose of the project is to build an application program to reduce the manual work for managing the fruits, Customer, Stocks, Order.\\r\\n\\r\\nProject-VII: Totalcitee\\r\\nTechnologies Used: HTML, CSS, BOOTSTRAP, PHP, JQUERY, AJAX, JAVA SCRIPT.\\r\\nDatabase Used: My SQL.\\r\\nTeam size: 1\\r\\nPosition: Software Developer\\r\\nSynopsis: Real Estate web application has been created for helping you to sell properties through web based user interface. Visitors on your website can view particular desired products using search engine facility.\\r\\n\\r\\nProject-VIII: Golchha\\r\\nTechnologies Used: HTML, CSS, BOOTSTRAP, PHP, JQUERY, AJAX, JAVA SCRIPT.\\r\\nDatabase Used: My SQL.\\r\\nTeam size: 1\\r\\nPosition: Software Developer\\r\\nSynopsis: Service provider website we provide different categories.                                                                                                                                                                                                                                                                                                                                                                                                                                                                                                                                                                                                                                                                                                                                                                                                                                                                                                                                                                                                                                                                                                                                                                                                                                                                                                                                                                                                                                                                                                                                                                                                                                                                                                                                                                                                                                                                                                                                                                                                                                                                                                                                                                                                                                                                                                                                                                                                                                                                                                                                                                                                                                                                                                                                                                                                                                                                                                                                                                                                                                                                                                                                                                                                                                                                                                                                                                                                                                                                                                                                                                                                                                                                                                                                                                                                                              9\n",
       "IT SKILLS Languages: C (Basic), JAVA (Basic) Web Technologies: HTML5, CSS3, Bootstrap, JavaScript, jQuery, Corel Draw, Photoshop, Illustrator Databases: MySQL5.0 IDE & Tools: Sublime Text, Notepad Operating Systems: Windows XP, Windows 7Education Details \\r\\nSeptember 2015 Bachelor of Engineer Information technology Nagpur, Maharashtra Nagpur University\\r\\nMay 2011 HSC Secondary & Higher Secondary  State Board of Secondary\\r\\nJune 2009 SSC Secondary & Higher Secondary  Maharashtra State Board of Secondary\\r\\nWeb and Graphics Designer \\r\\n\\r\\nWeb and Graphics Designer - Virtuous Media Point, Pune\\r\\nSkill Details \\r\\nBOOTSTRAP- Exprience - 24 months\\r\\nHTML5- Exprience - 24 months\\r\\nJAVASCRIPT- Exprience - 24 months\\r\\njQuery- Exprience - 24 months\\r\\nCOREL DRAW- Exprience - 24 months\\r\\nAdobe Photoshop- Exprience - 24 months\\r\\nAdobe Illustrator- Exprience - 12 months\\r\\nCSS3- Exprience - 24 monthsCompany Details \\r\\ncompany - Virtuous Media Point\\r\\ndescription - \\r\\ncompany - CNC Web World\\r\\ndescription - Internship Program: At e-sense IT Solution pvt.ltd. Nagpur as a Web Designing and Developement.\\r\\n* Presented in Project Competition in Innovesta 15 of Priyadarshini Indira Gandhi College of Engineering, Nagpur.\\r\\n* Presented in National Level Paper Presentation in TECH-WAVE 2015 of S.R.M.C.E., Nagpur.\\r\\ncompany - e-sense IT Solution pvt.ltd\\r\\ndescription - Key Result Areas:\\r\\n* Designed websites solutions by studying information needs, conferring with users, and studying systems flow, data usage, and work processes.\\r\\n* Understood process requirements and provided use cases for business, functional & technical requirements.\\r\\n* Interacted with users for requirement gathering, prepared functional specifications and low-level design documents.\\r\\n* Participated in the Software Development Life cycle (SDLC) and Agile methodology right from requirement analysis,\\r\\n* Performed detailed design of modules along with their implementation, and documentation integrated software modules\\r\\nDeveloped by other team members.\\r\\n\\r\\nHighlights:\\r\\n* Developed various modules as per customer requirement and identified and fixed number of bugs related to code, Database connectivity, UI Defects and so on.\\r\\n* Analyzed and modified existing codes to incorporate a number of changes in the application / user requirements, wrote new codes as required.\\r\\n* Coded, implemented and integrated complex programs using technologies such as HTML5, CSS3, JavaScript, jQuery, bootstrap.\\r\\n* Having good command on Graphics designing with effective ideas.\\r\\n\\r\\nPROJECTS\\r\\n\\r\\n* www.nitka.com, Nagpur united corporation (admin), Mintmetrix.com, Tagline videos (admin), Smartbadge (admin): -\\r\\nIn all projects I have used technologies like HTML5, CSS3, Bootstrap, JavaScript, jQuery and text editor as sublime text.\\r\\n\\r\\n* www.shreekiaspack.co.in, www.3staragroproducts.com, www.luckystationery.co.in: - used technologies like HTML5, CSS3,\\r\\nBootstrap, javascript and text editor as notepad++.\\r\\n\\r\\n* Design various Logos, Brochures, Advertising Banners, Visiting Cards, Pamphlet, Hoardings etc.\\r\\n\\r\\nB.E. FINAL YEAR PROJECT\\r\\n\\r\\n* Major Project: -\\r\\n\\r\\nTitle: WEB BASED DISEASE DIAGNOSIS EXPERT SYSTEM.\\r\\nDuration: 1 Year\\r\\n\\r\\nDescription: In this project we provide a website in which doctor gives online consultation for particular disease. System gives better suggestions for any health problems.\\r\\n\\r\\n* Mini Project Development-\\r\\n\\r\\n* SHOPPING MANAGEMENT SYSTEM Developed in C++.\\r\\n\\r\\nCURRICULUM & EXTRA CURRICULUM  ACTIVITIES\\r\\ncompany - FACE-IT\\r\\ndescription - Co-ordinator in project competition.                                                                                                                                                                                                                                                                                                                                                                                                                                                                                                                                                                                                                                                                                                                                                                                                                                                                                                                                                                                                                                                                                                                                                                                                                                                                                                                                                                                                                                                                                                                                                                                                                                                                                                                                                                                                                                                                                                                                                                                                                                                                                                                                                                                                                                                                                                                                                                                                                                                                                                                                                                                                                                                                                                                                                                                                                                                                                                                                                                                                                                                                                                                                                                                                                                                                                                                                                                                                                                                                                                                                                                                                                                                                                                                                                                                             9\n",
       "* I'm hard working person. * I'm self confident and can mould myself to all work environments.Education Details \\r\\nJanuary 2016 B.E MECHANICAL ENGINEERING  ALAMURI RATNAMALA INSTITUTE OF ENGINEERING & TECHNOLOGY\\r\\nJanuary 2010 H.S.C.  Mumbai, Maharashtra MUMBAI UNIVERSITY Secured\\r\\nJanuary 2008 S.S.C.   PRAKASH Jr. COLLEGE OF SCIENCE & COMMERCE\\r\\n    S.M.T. RAJDEVI HINDI HIGH SCHOOL\\r\\n    MAHARSHTRA STATE BOARD Secured\\r\\nDesign Engineer (Mechanical) \\r\\n\\r\\n\\r\\nSkill Details \\r\\nAutocad, solidworks, catia- Exprience - 12 monthsCompany Details \\r\\ncompany - SANARCO ENGINEERING PVT LTD\\r\\ndescription - * 1year in SANARCO ENGINEERING PVT. LTD. As a mechanical design engineer.\\r\\n* Working in SURYA FITNESS as a design engineer.\\r\\n\\r\\nMajor project:\\r\\n* Project based on  AUTOMATIC WALL PLASTERING MACHINE.\\r\\n* Automated plastering machine is unique and perhaps one kind of automated plastering machinery ideally suitable for the construction/building industry.\\r\\n* Automated plastering machine makes rendering easier, faster, and effortless as compare to manual application.\\r\\n* Automated plastering machine works with conventional cement mortar which brings it to a smooth, flat finish.\\r\\n* It has good future scope.\\r\\n\\r\\nPersonal Detais:\\r\\n* Father's Name: Gyandatt Chauhan\\r\\n*                              \\r\\n*                            \\r\\n*                                                                                                                                                                                                                                                                                                                                                                                                                                                                                                                                                                                                                                                                                                                                                                                                                                                                                                                                                                                                                                                                                                                                                                                                                                                                                                                                                                                                                                                                                                                                                                                                                                                                                                                                                                                                                                                                                                                                                                                                                                                                                                                                                                                                                                                                                                                                                                                                                                                                                                                                                                                                                                                                                                                                                                                                                                                                                                                                                                                                                                                                                                                                                                                                                                                                                                                                                                                                                                                                                                                                                                                                                                                                                                                                                                                                                                                                                                                                                                                                                                                                                                                                                                                                                                                                                                                                                                                                                                                                                                                                                                                                                                                                                                                                                                                                                                                                                                                                                                                                                                                                                                                                                                                                                                                                                                                                                                                                                                                                                                                                                                                                                                                                                                                                                                                                                                                                                                                                                                                                                                                                                                                                                                            8\n",
       "                                                                                                                                                                                                                                                                                                                                                                                                                                                                                                                                                                                                                                                                                                                                                                                                                                                                                                                                                                                                                                                                                                                                                                                                                                                                                                                                                                                                                                                                                                                                                                                                                                                                                                                                                                                                                                                                                                                                                                                                                                                                                                                                                                                                                                                                                                                                                                                                                                                                                                                                                                                                                                                                                                                                                                                                                                                                                                                                                                                                                                                                                                                                                                                                                                                                                                                                                                                                                                                                                                                                                                                                                                                                                                                                                                                                                                                                                                                                                                                                                                                                                                                                                                                                                                                                                                                                                                                                                                                                                                                                                                                                                                                                                                                                                                                                                                                                                                                                                                                                                                                                                                                                                                                                                                                                                                                                                                                                                                                                                                                                                                                                                                                                                                                                                                                                                                                                                                                                                                                                                                                                                                                                                                                                                                                                                                                                                                                                                                                                                                                                                                                                                                                                                                                                                                                                                                                                                                                                                                                                                                                                                                                                                                                                                                                                                                                                                                                                                                                                                                                                                                                                    ..\n",
       "Education Details \\r\\n B.E in Civil Engineering Civil Engineering Chennai, Tamil Nadu Anna University\\r\\nQA/QC Civil Engineer \\r\\n\\r\\nQA/QC Civil Engineer\\r\\nSkill Details \\r\\nCompany Details \\r\\ncompany - Ray Engineering Limited\\r\\ndescription - Mumbai, India.\\r\\nConsultancy: Jacobs Engineering India Limits. (United States Company)\\r\\nClient: Glaxo Smith Kline (GSK), Nashik, India.\\r\\nPosition: QA/QC Civil Engineer.\\r\\n\\r\\nProject Summary:\\r\\nGlaxo Smith Kline (GSK) is British multinational pharmaceutical Company in India. USD 150 million Building project of GSK.\\r\\nThe Project involving in Medicine Manufacturing plant, Effluent Treatment plant\\r\\n(ETP), Effluent Drain line and storm water line.\\r\\n\\r\\nDuties & Responsibilities:\\r\\n\\r\\nâ¢\\tAll site inspection shall be carried out vise an official Inspection and Test Request\\r\\n(ITR) submitted by the Contractor through the proper channels\\r\\nâ¢\\tDevelop method statement for the activity including risk assessment and job safety\\r\\nenvironmental analysis and Inspection Test Plan and Checklist based on specifications of the project\\r\\nâ¢\\tTaking care of QA/QC documents of the entire project including certificates,\\r\\ncalibration, test results, inspection requests, non-compliance reports and site\\r\\ninstruction/observations, permanent materials delivered and other QA/QC\\r\\ndocuments.\\r\\nâ¢\\tSupervision, checking and assuring that the construction is as per the final issued for construction drawings and project specifications.\\r\\nâ¢\\tConducting joint inspection with consultant and client.\\r\\nâ¢\\tMonitor and control the status of punch list and exception lists relevant to quality\\r\\ndossiers.\\r\\n\\r\\n3|Page\\r\\nCareer Progression: March 2016 to Still on going\\r\\n\\r\\nCompany name: Gulf Asia Contracting Co LLC Dubai, UAE\\r\\nConsultancy: Chawla Architectural & Consulting Engineers\\r\\nClient: Geepas International ltd, UAE\\r\\nProject Name: 2B + G+ 19 + Roof Building\\r\\nPosition: QA/QC Civil Engineer.\\r\\n\\r\\nProject Summary:\\r\\nGeepas Tower, an upcoming development in the UAE, entered the Guinness World\\r\\nRecords along with the project contractor Gulf Asia Contracting (GAC) - the construction\\r\\narm of the multi-billion-dollar business conglomerate RP Group - for completing the largest\\r\\ncontinuous concrete pour (of 19,793 cu m for 42 hours) in the world.\\r\\n\\r\\nThe Dh600-million ($163 million) mid-rise residential tower, which will come up in Al Barsha, Dubai, is owned by Western International Group (Geepas)\\r\\n\\r\\nDuties & Responsibilities:\\r\\n\\r\\nâ¢   Organize, implement, conduct and manage the QA/QC Programs as per the Company's Quality Policy.\\r\\nâ¢   Coordinate the document controls of technical submittals, drawings, etc with the Project Team and to ensure that the QA/QC validation has been done, to ensure their\\r\\nissue, amendments and recall of controlled documents.\\r\\nâ¢   Coordinate all inspections, monitor the required tests and record inspections and tests made pas the Contract Plan and Contract Specifications.\\r\\nâ¢   Liaise with the Client's representatives for the conduct of day-to-day quality related\\r\\nproject activities.\\r\\nâ¢   Coordinate with the Project Manager regarding work performance and hold authority\\r\\nto stop work in any area where discrepancies remain uncorrected and/or cancel the stop work order upon satisfactory correction of noted deficiencies.\\r\\nâ¢   Provide technical support to the Project Manager and guidance to site staff in submission of materials for approval, request for inspection, shop drawings, As-built\\r\\ndrawings, O & M manual.\\r\\nâ¢   Assist QA/QC Manager in conducting internal quality audits.\\r\\nâ¢   Ensure that Non-Conformance Report (NCR) are raised once the activities deviated\\r\\nfrom the Contract Specifications or normal construction industry practices.\\r\\n\\r\\n4|Page\\r\\nâ¢   Coordinate with the project staff to compile and maintain pertinent records of inspection and testing until end of the contract and all pertinent records for retention\\r\\non completion of the project.\\r\\nâ¢   Attend Monthly Project Review Meetings (PRM) and alert the project team of any\\r\\npotential problems.\\r\\ncompany - Ray Engineering Limited\\r\\ndescription - Mumbai, India.\\r\\nConsultancy: Toyo Engineering India Limits. (Japan Company)\\r\\nClient: Petronet LNG Limits, Dahej, Gujarat, India.\\r\\nPosition: QA/QC - Civil Engineer.\\r\\n\\r\\nProject Summary:\\r\\nPetronet LNG (Liquefied Natural Gas) ltd, India's biggest gas's importer Plant to hike its Dahej importer terminal capacity to 17.5 million tons.\\r\\nPetronet LNG ltd has set up its first LNG terminal at India with the Capacity of\\r\\n10 million metric tons per year.\\r\\nA USD 400 million Petronet project for the Indian Govt. The Project Involving in Air heater, Pipe rack, Substation, Pump House and Control room.\\r\\n\\r\\nDuties & Responsibilities:\\r\\nâ¢   Taking care of QA/QC documents of the entire project including certificates,\\r\\ncalibration, test results, inspection requests, non-compliance reports and site\\r\\ninstruction/observations, permanent materials delivered and other QA/QC\\r\\ndocuments. Responsible for closure of Non-conformance, and Site Instruction.\\r\\nâ¢   Management System Maintain standards of safety and comply with Company's\\r\\nHealth, Safety and Environment requirements.\\r\\n\\r\\n2|Page\\r\\nâ¢\\tPerform all daily inspection and test of the scope and character necessary to achieve the quality of construction required in the drawings and specifications for all\\r\\nworks under the contract performed ON or OFF site.\\r\\nâ¢\\tCary out inspection and checking for all quality related procedures in the site and ensures activity at site are as per approved method statement and inspection test\\r\\nplan.\\r\\nâ¢\\tCoordinate with the consultant's representative and Site In-charge for inspection\\r\\nand meeting about quality problems including closure of Non-Compliance Report.\\r\\ncompany - High View Builders. Kerala. India\\r\\ndescription - Project Name: G + 8 Floor Building\\r\\n\\r\\nHigh View Builders has been playing a major role in implementing new lifestyle in Kerala. From its inception, High View Builders strictly follows the aspects like on-time delivery,\\r\\nquality and trust that turned out of the brand of construction. The project involved in construction of villas and G + 8 Floor flats.\\r\\n\\r\\n1|Page\\r\\nDuties & Responsibilities:\\r\\n\\r\\nâ¢   To ensure understanding and application of all responsibilities with regard to company's\\r\\nenvironment, Health, Safety, Security and quality standard.\\r\\nâ¢   Ensuring the required materials and PPE's are available to carry out the job smoothly\\r\\nand safely in advance.\\r\\nâ¢   To be proactively involved in supporting the project engineer throughout the duration of project.\\r\\nâ¢   To maintain an accurately detailed daily site reports for the site conditions, progress\\r\\nand resources available to undertake the activities throughout each phase of the project.\\r\\nâ¢   Coordinating with sub-contractors and suppliers at site.\\r\\nâ¢   Co-coordinating with employees for the timely completion of the work at site.\\r\\nâ¢   Deploying the workers at the site as per the schedule and maintain the labor cards.\\r\\nâ¢   Conduct weekly meeting with the project engineer to discuss the work progress.     1\n",
       "Education Details \\r\\nJanuary 2005 S.S.C  Baramati, Maharashtra M.E.S. Highschool\\r\\n B.E. Civil Engineering Pune, Maharashtra Singhad Institute Of Technology And Science\\r\\ncivil site engineer \\r\\n\\r\\nCivil engineer\\r\\nSkill Details \\r\\nSite Engineer- Exprience - 60 monthsCompany Details \\r\\ncompany - Vasundhara nirmiti properties\\r\\ndescription - Civil engineer\\r\\ncompany - shri balaji housing company\\r\\ndescription - Execution of all civil work\\r\\ncompany - Ganesh construction\\r\\ndescription - Site engineer                                                                                                                                                                                                                                                                                                                                                                                                                                                                                                                                                                                                                                                                                                                                                                                                                                                                                                                                                                                                                                                                                                                                                                                                                                                                                                                                                                                                                                                                                                                                                                                                                                                                                                                                                                                                                                                                                                                                                                                                                                                                                                                                                                                                                                                                                                                                                                                                                                                                                                                                                                                                                                                                                                                                                                                                                                                                                                                                                                                                                                                                                                                                                                                                                                                                                                                                                                                                                                                                                                                                                                                                                                                                                                                                                                                                                                                                                                                                                                                                                                                                                                                                                                                                                                                                                                                                                                                                                                                                                                                                                                                                                                                                                                                                                                                                                                                                                                                                                                                                                                                                                                                                                                                                                                                                                                                                                                                                                                                                                                                                                                                                                                                                                                                                                                                                                                                                                                                                                                                                                                                                                                                                                                                                                                                                                                                                                                                                                                                                                                                                                                                                                                                                                                                                                                                                                                                                                                                                                                                                                                                                  1\n",
       "SKILLS â¢ 1.Autocad â¢ 2.Pro v â¢ 3.Catia â¢ 4.word, excel â¢ 5.Photoshop INDUSTRIAL EXPOSURE Industrial Visit at: â¢ Larsen & Tubro (L & T)-3 months industrial training Inplant Training at: â¢ Ashoka Buildcon-Training for infrastructure setup and maintenance.Education Details \\r\\nJanuary 2017 Masters in structure  Nashik, Maharashtra Universal University Nashik\\r\\nCivil Engineer \\r\\n\\r\\nCivil Engineer\\r\\nSkill Details \\r\\nAutocad- Exprience - 1 months\\r\\nCatia- Exprience - 6 months\\r\\nmaintenance- Exprience - 48 months\\r\\nphotoshop- Exprience - 1 months\\r\\ntraining- Exprience - 6 monthsCompany Details \\r\\ncompany - Color Sky Decor LLC Dubai\\r\\ndescription - Role: Civil Engineer\\r\\ncompany - Girija Construction And Devolopers\\r\\ndescription - Role: Civil Engineer\\r\\ncompany - Showrooms, Villa's, Hotels\\r\\ndescription - â¢ 1.Exterior and Interior Of buildings, villa's etc.\\r\\nâ¢ 2.Construction of new building and villa's.\\r\\nâ¢ 3.Preparing bill of quantities, scheduling etc.\\r\\ncompany - Showrooms, Villa's, Hotels\\r\\ndescription - Maintenance and Interior outfit works of apartments, Showrooms, Villa's, Hotels etc.\\r\\nDescription: 1 Analyze photographs, drawings and maps to inform the direction of projects as well as the overall budget constraints\\r\\n\\r\\n2 Ensure project feasibility through continual evaluation of structural integrity and design\\r\\npracticality\\r\\n\\r\\n3 Create schedule for project completion\\r\\n\\r\\n3 Perform and adjust quantity calculations for practical and budgetary purposes\\r\\n\\r\\n4 Communicate with team members as well as customers and vendors to ensure\\r\\nmaximum cohesion and fluidity on projects\\r\\n\\r\\n5 Forecast design and construction time frames\\r\\n\\r\\n6 Inspect project sites to ensure they meet relevant codes and are progressing properly\\r\\ncompany - Sonia Buildcon\\r\\ndescription - Role: Civil Engineer\\r\\ncompany - \\r\\ndescription - 8.day-to-day management of the site, including supervising and monitoring the site labour\\r\\nforce and the work of any subcontractors\\r\\nDuration: 2015-2016\\r\\nRole: Civil Engineer\\r\\nâ¢ Construction, renovation, interior designing of buildings, malls, commercial complex, Villas etc.\\r\\nDescription: 1 Undertaking technical and feasibility studies including site investigations\\r\\n\\r\\n2 Using a range of computer software for developing detailed designs\\r\\n\\r\\n3 Undertaking complex calculations\\r\\n\\r\\n4 Liaising with clients and a variety of professionals including architects and subcontractors\\r\\n\\r\\n5 Compiling job specs and supervising tendering procedures\\r\\n\\r\\n6 Resolving design and development problems\\r\\n\\r\\n7 Managing budgets and project resources\\r\\n\\r\\n8 Scheduling material and equipment purchases and deliveries\\r\\n\\r\\n9 Making sure the project complies with legal requirements, especially health and safety\\r\\n\\r\\n10 Assessing the sustainability and environmental impact of projects\\r\\n\\r\\n11 Ensuring projects run smoothly and structures are completed within budget and on time\\r\\ncompany - Grandeurs Realetors India\\r\\ndescription - Role: Civil Site Engineer\\r\\ncompany - \\r\\ndescription - Description: <Responsibility>\\r\\n1.Evaluated overall cost of materails, labours, subcontractors and tools.\\r\\n\\r\\n2.Regulated subcontractor work schedule and equipement delivery.\\r\\n\\r\\n3.Provided required documents for owners and subcontractors.\\r\\n\\r\\n4.Cheack regular basis project progrees and devolopment.\\r\\n\\r\\n5.act as the main technical adviser on a construction site for subcontractors,\\r\\ncraftspeople and operatives.\\r\\n\\r\\n6.ensure that all materials used and work performed are in accordance with the specifications.\\r\\n\\r\\n7.liaise with any consultants, subcontractors, supervisors, planners, quantity surveyors\\r\\nand the general workforce involved in the project.</Responsibility>                                                                                                                                                                                                                                                                                                                                                                                                                                                                                                                                                                                                                                                                                                                                                                                                                                                                                                                                                                                                                                                                                                                                                                                                                                                                                                                                                                                                                                                                                                                                                                                                                                                                                                                                                                                                                                                                                                                                                                                                                                                                                                                                                                                                                                                                                                                                                                                                                                                                                                                                                                                                                                                                                                                                                                                                                                                                                                                                                                                                                                                                                                                                                                                                                                                                                                                                                                                                                                                                                                                                                                                                                                  1\n",
       "Computer Skills â¢ Holder of valid KSA license â¢ Basic Computer â¢ MS Office â¢ Autocad 2006Education Details \\r\\nJanuary 2005 Diploma  Bengaluru, Karnataka Oxford polytechnic Banglore\\r\\nCivil Engineer \\r\\n\\r\\nCivil Engineer - Utility powertech Ltd\\r\\nSkill Details \\r\\nCompany Details \\r\\ncompany - Utility powertech Ltd\\r\\ndescription - 1. Project Name          Nabinagar thermal power\\r\\nProject Aurangabad Bihar\\r\\n\\r\\nClient\\tNTPC/BRBCL\\r\\n\\r\\nPosition          Civil Engineer\\r\\ncompany - DAMMAM KSA\\r\\ndescription - October 2008 to June 2011                                          AL NAFJAN & AL ABAD CO.\\r\\n\\r\\nDAMMAM KSA\\r\\nPosition          Civil Engineer\\r\\nProject Undertaken:\\r\\n1. Project Name: STC & QATIF S/L project no 2065864\\r\\nClient: Department of civil aviation\\r\\nMain Contractor: Al Nafjan & Al Abad co.\\r\\nConsultant: Arif & Kinfolk\\r\\n\\r\\n2. Project Name: King Fahad International Airport\\r\\nClient: Department of civil aviation\\r\\nMain Contractor: Al Nafjan & Al Abad co.\\r\\nConsultant: Dar-Al-Hadassah\\r\\n\\r\\nProject Description: DPF have Eleven Buildings. They are building 1 to building 11 all buildings are typical but it has three type. They are type 1, type 2 and type 3. Basically these building are for the senior staff for Saudi Arabian police force & army accommodation of Saudi Arabia.\\r\\n\\r\\nJob Responsibility\\r\\nâ¢ Planning of projects from study the drawings and contract specifications.\\r\\nâ¢ Preparation of material submittals and follow up with consultant for approvals.\\r\\nâ¢ Planning of site installation activities, mobilization of man power, material on site, start up of the projects by leading team of supervisors, foremen & workers.\\r\\nâ¢ Monitoring and supervising the execution of equipment installation at site and guide the work force to complete the project at targeted time.\\r\\nâ¢ Co-ordination with clients, consultants & contractors.\\r\\nâ¢ Preparation of Shop drawings and subsequently As-Built Drawings.\\r\\nâ¢ Preparation of RFI.\\r\\nâ¢ Billing, variation claims, timely order realizing on approval of materials, technical submittals.\\r\\nâ¢ Attending site coordination meetings and dealing with clients & contractors.\\r\\nâ¢ Preparing the work progress for the execution of the projects, preparation of weekly & monthly progress reports\\r\\n\\r\\nâ¢ To prepare the progressive material take off for quantity of Ducting, Chilled Water Piping, Fittings, Insulation, etc. from workshop drawing as required according to approved work program.\\r\\nâ¢ To prepare a complete material take off from workshop drawings for procurement.\\r\\ncompany - N.S Padke\\r\\ndescription - urban project under MMRDA\\r\\nAndheri (E), Mumbai\\r\\ncompany - PBA Infrastructure Ltd\\r\\ndescription - Project Undertaken:\\r\\n1. Project Name: 8 leaning of tipu sultan chok to santnamdev chok\\r\\nClient: Mumbai urban project under MMRDA\\r\\nAndheri, Mumbai\\r\\ncompany - Govt.ofJ&K\\r\\ndescription - Jammu)\\r\\nClient: Govt.ofJ&K\\r\\nPeriod: 7 Dec 2006 to 20 March 2007\\r\\n\\r\\nJob Profile\\r\\nâ¢ Obtaining approval of Material and Drawing submittal from Consultant and main contractor.\\r\\nâ¢ Material takeoff as required for the project according to the workshop drawing.\\r\\nâ¢ Making request to purchase department for the procurement of the above material according to the project plan.\\r\\nâ¢ Coordination with Electrical, Plumbing and Civil contractor for various site requirements.\\r\\nâ¢ Arrange inspection of installed work and on the completion of the project.\\r\\n\\r\\nâ¢ Estimating.\\r\\ncompany - civil aviation\\r\\ndescription - \\r\\ncompany - National highway authority of India\\r\\ndescription - 1. Project Name:\\r\\nClient: National highway authority of India\\r\\nPaintha chock to paripora Sri Nagar\\r\\nGovt.ofJ&K                                                                                                                                                                                                                                                                                                                                                                                                                                                                                                                                                                                                                                                                                                                                                                                                                                                                                                                                                                                                                                                                                                                                                                                                                                                                                                                                                                                                                                                                                                                                                                                                                                                                                                                                                                                                                                                                                                                                                                                                                                                                                                                                                                                                                                                                                                                                                                                                                                                                                                                                                                                                                                                                                                                                                                                                                                                                                                                                                                                                                                                                                                                                                                                                                                                                                                                                                                                                                                                                                                                                                                                                                                                                                         1\n",
       "COMPUTER KNOWLEDGE â¢ Drafting tools: AutoCAD. â¢ Packages: MS Office Applications â¢ Operating systems: Windows 9x/2000/XP/Vista. DETAILEXPERIENCES Experience in India: 1) Working Experience at ALIA CONSTRUCTION AT NALLASOPARA (WEST) Mumbai since JUNE 2014 to MAY 2015. As a Civil Engineer (1 years) Project handle: Project title: YASHWANT ORICHIDS Position: Site Engineer Location: Nallasopara (W) Mumbai Maharashtra - 400097 IndiaEducation Details \\r\\n S.S.C Rajasthan board  excellence polytechnic college\\r\\nCIVIL ENGINEER \\r\\n\\r\\nCIVIL ENGINEER - Site Encharge\\r\\nSkill Details \\r\\nAutoCAD.- Exprience - 9 months\\r\\nCivil Engineer- Exprience - 42 months\\r\\nDrafting- Exprience - 9 months\\r\\nEngineer- Exprience - 42 months\\r\\nMS Office- Exprience - 9 monthsCompany Details \\r\\ncompany - Site Encharge\\r\\ndescription - Location: Andheri (E) Marol Bus Depot, near Maruti High School, MIDC\\r\\nMumbai Maharashtra 400093 India\\r\\n\\r\\nExperience in UAE:\\r\\n1) Currently Working at NOVA ENGINEERING WORKS Since MAY 2018 to TILL DATE as a CIVIL ENGINEER.\\r\\n\\r\\nLocation: Flat # 301 A&B Al Maha Building, University City Road,\\r\\nMuweilah Commercial, Near Alfalah Round About SHARJAH.\\r\\n\\r\\nJob Responsibilities\\r\\nAchieving Construction Activities like Excavation, Foundation, PCC, Waterproofing, RCC and Shuttering, steel fixing, casting concrete, masonry for brick works and plastering Tile fixing Etc. Up to completion. Independently following with Design engineers of, Architecture, and Structural Updated drawing for minor changes, as per site requirement needed and Inspection before casting Columns, Slabs. Etc\\r\\nLooking after construction activities, making requisition and facilitating the arrangement Procurement of construction materials. Executions of civil, interior and exterior ground finish works and Site Supervision.\\r\\n\\r\\nJob Responsibilities:\\r\\nâ¢ Scheduling of work.\\r\\nâ¢ Preparing & Verification of Sub-Contractors' & Suppliers' bills.\\r\\nâ¢ Working out the Quantities.\\r\\nâ¢ Verify the Quantities from the Client's Engineer.\\r\\n\\r\\nComputer Skills:\\r\\n\\r\\nâ¢ Drafting tools: AutoCAD.\\r\\nâ¢ Packages: MS Office Applications\\r\\nâ¢ Operating systems: Windows 9x/2000/XP/Vista.\\r\\n\\r\\nPersonal Strength:\\r\\n\\r\\nâ¢ Excellent communication skills.\\r\\nâ¢ Hardworking Sincerity and Honesty\\r\\nâ¢ Individual & team working Capability\\r\\nâ¢ Knowledge of 5M ( Minutes, Manpower, Material, Machine, Management )\\r\\nâ¢ Manage development of program strategies\\r\\n\\r\\nThank you for viewing my resume\\r\\ncompany - Kherwadi Police Station\\r\\ndescription - Mumbai Maharashtra\\r\\n400051 India\\r\\n\\r\\n3) Working Experience at OM CONSTRUCTION Since JANUARY 2017 to APRIL 2018 As\\r\\nA Civil Engineer (1.4 Years)\\r\\nProject handle:\\r\\nProject title: 9 RADHA\\r\\nPosition: Senior Engineer\\r\\nLocation: Dadar (E) Hindu Colony Road No 2 Mumbai Maharashtra 400014\\r\\n\\r\\nProject title: LODHA ETERNIS\\r\\ncompany - EXPERT CONSTRUCTION\\r\\ndescription - Project handle:\\r\\nProject title: ESTADO                                                                                                                                                                                                                                                                                                                                                                                                                                                                                                                                                                                                                                                                                                                                                                                                                                                                                                                                                                                                                                                                                                                                                                                                                                                                                                                                                                                                                                                                                                                                                                                                                                                                                                                                                                                                                                                                                                                                                                                                                                                                                                                                                                                                                                                                                                                                                                                                                                                                                                                                                                                                                                                                                                                                                                                                                                                                                                                                                                                                                                                                                                                                                                                                                                                                                                                                                                                                                                                                                                                                                                                                                                                                                                                                                                                                                                                                                                                                                                                                                                                                                                                                                                                                                                                                                                                                                                                                                                                                        1\n",
       "Name: Resume, Length: 61, dtype: int64"
      ]
     },
     "execution_count": 432,
     "metadata": {},
     "output_type": "execute_result"
    }
   ],
   "source": [
    "combined_data['Resume'].value_counts()"
   ]
  },
  {
   "cell_type": "code",
   "execution_count": 433,
   "id": "0d339b4c",
   "metadata": {},
   "outputs": [
    {
     "data": {
      "text/html": [
       "<div>\n",
       "<style scoped>\n",
       "    .dataframe tbody tr th:only-of-type {\n",
       "        vertical-align: middle;\n",
       "    }\n",
       "\n",
       "    .dataframe tbody tr th {\n",
       "        vertical-align: top;\n",
       "    }\n",
       "\n",
       "    .dataframe thead th {\n",
       "        text-align: right;\n",
       "    }\n",
       "</style>\n",
       "<table border=\"1\" class=\"dataframe\">\n",
       "  <thead>\n",
       "    <tr style=\"text-align: right;\">\n",
       "      <th></th>\n",
       "      <th>years_of_experience</th>\n",
       "      <th>functional_competency_score</th>\n",
       "      <th>top1_skills_score</th>\n",
       "      <th>top2_skills_score</th>\n",
       "      <th>top3_skills_score</th>\n",
       "      <th>behavior_competency_score</th>\n",
       "      <th>top1_behavior_skill_score</th>\n",
       "      <th>top2_behavior_skill_score</th>\n",
       "      <th>top3_behavior_skill_score</th>\n",
       "      <th>call_for_interview</th>\n",
       "      <th>Category</th>\n",
       "      <th>Resume</th>\n",
       "    </tr>\n",
       "  </thead>\n",
       "  <tbody>\n",
       "    <tr>\n",
       "      <th>0</th>\n",
       "      <td>8</td>\n",
       "      <td>0.749498</td>\n",
       "      <td>0.777778</td>\n",
       "      <td>0.7</td>\n",
       "      <td>0.8</td>\n",
       "      <td>0.769231</td>\n",
       "      <td>0.931689</td>\n",
       "      <td>0.662042</td>\n",
       "      <td>0.752463</td>\n",
       "      <td>1</td>\n",
       "      <td>Data Science</td>\n",
       "      <td>Skills * Programming Languages: Python (pandas...</td>\n",
       "    </tr>\n",
       "    <tr>\n",
       "      <th>1</th>\n",
       "      <td>7</td>\n",
       "      <td>0.490638</td>\n",
       "      <td>0.777778</td>\n",
       "      <td>0.3</td>\n",
       "      <td>0.4</td>\n",
       "      <td>0.153846</td>\n",
       "      <td>0.352093</td>\n",
       "      <td>0.132231</td>\n",
       "      <td>0.316905</td>\n",
       "      <td>0</td>\n",
       "      <td>Data Science</td>\n",
       "      <td>Education Details \\r\\nMay 2013 to May 2017 B.E...</td>\n",
       "    </tr>\n",
       "    <tr>\n",
       "      <th>2</th>\n",
       "      <td>8</td>\n",
       "      <td>0.460256</td>\n",
       "      <td>0.444444</td>\n",
       "      <td>0.3</td>\n",
       "      <td>0.3</td>\n",
       "      <td>0.051282</td>\n",
       "      <td>0.052347</td>\n",
       "      <td>0.089765</td>\n",
       "      <td>0.254859</td>\n",
       "      <td>0</td>\n",
       "      <td>Data Science</td>\n",
       "      <td>Areas of Interest Deep Learning, Control Syste...</td>\n",
       "    </tr>\n",
       "    <tr>\n",
       "      <th>3</th>\n",
       "      <td>7</td>\n",
       "      <td>0.507347</td>\n",
       "      <td>0.555556</td>\n",
       "      <td>0.4</td>\n",
       "      <td>0.5</td>\n",
       "      <td>0.384615</td>\n",
       "      <td>0.309913</td>\n",
       "      <td>0.289758</td>\n",
       "      <td>0.440784</td>\n",
       "      <td>0</td>\n",
       "      <td>Data Science</td>\n",
       "      <td>Skills â¢ R â¢ Python â¢ SAP HANA â¢ Table...</td>\n",
       "    </tr>\n",
       "    <tr>\n",
       "      <th>4</th>\n",
       "      <td>4</td>\n",
       "      <td>0.662020</td>\n",
       "      <td>0.666667</td>\n",
       "      <td>0.7</td>\n",
       "      <td>0.5</td>\n",
       "      <td>0.461538</td>\n",
       "      <td>0.497929</td>\n",
       "      <td>0.397544</td>\n",
       "      <td>0.392760</td>\n",
       "      <td>1</td>\n",
       "      <td>Data Science</td>\n",
       "      <td>Education Details \\r\\n MCA   YMCAUST,  Faridab...</td>\n",
       "    </tr>\n",
       "    <tr>\n",
       "      <th>...</th>\n",
       "      <td>...</td>\n",
       "      <td>...</td>\n",
       "      <td>...</td>\n",
       "      <td>...</td>\n",
       "      <td>...</td>\n",
       "      <td>...</td>\n",
       "      <td>...</td>\n",
       "      <td>...</td>\n",
       "      <td>...</td>\n",
       "      <td>...</td>\n",
       "      <td>...</td>\n",
       "      <td>...</td>\n",
       "    </tr>\n",
       "    <tr>\n",
       "      <th>295</th>\n",
       "      <td>5</td>\n",
       "      <td>0.576078</td>\n",
       "      <td>0.555556</td>\n",
       "      <td>0.6</td>\n",
       "      <td>0.6</td>\n",
       "      <td>0.230769</td>\n",
       "      <td>0.421105</td>\n",
       "      <td>0.354628</td>\n",
       "      <td>0.096438</td>\n",
       "      <td>0</td>\n",
       "      <td>Civil Engineer</td>\n",
       "      <td>Education Details \\r\\n B.E in Civil Engineerin...</td>\n",
       "    </tr>\n",
       "    <tr>\n",
       "      <th>296</th>\n",
       "      <td>6</td>\n",
       "      <td>0.587738</td>\n",
       "      <td>0.555556</td>\n",
       "      <td>0.5</td>\n",
       "      <td>0.5</td>\n",
       "      <td>0.230769</td>\n",
       "      <td>0.426939</td>\n",
       "      <td>0.201772</td>\n",
       "      <td>0.430858</td>\n",
       "      <td>1</td>\n",
       "      <td>Civil Engineer</td>\n",
       "      <td>Education Details \\r\\nJanuary 2005 S.S.C  Bara...</td>\n",
       "    </tr>\n",
       "    <tr>\n",
       "      <th>297</th>\n",
       "      <td>6</td>\n",
       "      <td>0.740044</td>\n",
       "      <td>0.666667</td>\n",
       "      <td>0.5</td>\n",
       "      <td>0.7</td>\n",
       "      <td>0.615385</td>\n",
       "      <td>0.681916</td>\n",
       "      <td>0.562821</td>\n",
       "      <td>0.681403</td>\n",
       "      <td>1</td>\n",
       "      <td>Civil Engineer</td>\n",
       "      <td>SKILLS â¢ 1.Autocad â¢ 2.Pro v â¢ 3.Catia â...</td>\n",
       "    </tr>\n",
       "    <tr>\n",
       "      <th>298</th>\n",
       "      <td>8</td>\n",
       "      <td>0.654656</td>\n",
       "      <td>0.666667</td>\n",
       "      <td>0.5</td>\n",
       "      <td>0.7</td>\n",
       "      <td>0.589744</td>\n",
       "      <td>0.585173</td>\n",
       "      <td>0.549063</td>\n",
       "      <td>0.663228</td>\n",
       "      <td>1</td>\n",
       "      <td>Civil Engineer</td>\n",
       "      <td>Computer Skills â¢ Holder of valid KSA licens...</td>\n",
       "    </tr>\n",
       "    <tr>\n",
       "      <th>299</th>\n",
       "      <td>4</td>\n",
       "      <td>0.754280</td>\n",
       "      <td>0.222222</td>\n",
       "      <td>0.7</td>\n",
       "      <td>0.8</td>\n",
       "      <td>0.820513</td>\n",
       "      <td>0.936553</td>\n",
       "      <td>0.793214</td>\n",
       "      <td>0.718935</td>\n",
       "      <td>1</td>\n",
       "      <td>Civil Engineer</td>\n",
       "      <td>COMPUTER KNOWLEDGE â¢ Drafting tools: AutoCAD...</td>\n",
       "    </tr>\n",
       "  </tbody>\n",
       "</table>\n",
       "<p>300 rows × 12 columns</p>\n",
       "</div>"
      ],
      "text/plain": [
       "     years_of_experience  functional_competency_score  top1_skills_score  \\\n",
       "0                      8                     0.749498           0.777778   \n",
       "1                      7                     0.490638           0.777778   \n",
       "2                      8                     0.460256           0.444444   \n",
       "3                      7                     0.507347           0.555556   \n",
       "4                      4                     0.662020           0.666667   \n",
       "..                   ...                          ...                ...   \n",
       "295                    5                     0.576078           0.555556   \n",
       "296                    6                     0.587738           0.555556   \n",
       "297                    6                     0.740044           0.666667   \n",
       "298                    8                     0.654656           0.666667   \n",
       "299                    4                     0.754280           0.222222   \n",
       "\n",
       "     top2_skills_score  top3_skills_score  behavior_competency_score  \\\n",
       "0                  0.7                0.8                   0.769231   \n",
       "1                  0.3                0.4                   0.153846   \n",
       "2                  0.3                0.3                   0.051282   \n",
       "3                  0.4                0.5                   0.384615   \n",
       "4                  0.7                0.5                   0.461538   \n",
       "..                 ...                ...                        ...   \n",
       "295                0.6                0.6                   0.230769   \n",
       "296                0.5                0.5                   0.230769   \n",
       "297                0.5                0.7                   0.615385   \n",
       "298                0.5                0.7                   0.589744   \n",
       "299                0.7                0.8                   0.820513   \n",
       "\n",
       "     top1_behavior_skill_score  top2_behavior_skill_score  \\\n",
       "0                     0.931689                   0.662042   \n",
       "1                     0.352093                   0.132231   \n",
       "2                     0.052347                   0.089765   \n",
       "3                     0.309913                   0.289758   \n",
       "4                     0.497929                   0.397544   \n",
       "..                         ...                        ...   \n",
       "295                   0.421105                   0.354628   \n",
       "296                   0.426939                   0.201772   \n",
       "297                   0.681916                   0.562821   \n",
       "298                   0.585173                   0.549063   \n",
       "299                   0.936553                   0.793214   \n",
       "\n",
       "     top3_behavior_skill_score  call_for_interview        Category  \\\n",
       "0                     0.752463                   1    Data Science   \n",
       "1                     0.316905                   0    Data Science   \n",
       "2                     0.254859                   0    Data Science   \n",
       "3                     0.440784                   0    Data Science   \n",
       "4                     0.392760                   1    Data Science   \n",
       "..                         ...                 ...             ...   \n",
       "295                   0.096438                   0  Civil Engineer   \n",
       "296                   0.430858                   1  Civil Engineer   \n",
       "297                   0.681403                   1  Civil Engineer   \n",
       "298                   0.663228                   1  Civil Engineer   \n",
       "299                   0.718935                   1  Civil Engineer   \n",
       "\n",
       "                                                Resume  \n",
       "0    Skills * Programming Languages: Python (pandas...  \n",
       "1    Education Details \\r\\nMay 2013 to May 2017 B.E...  \n",
       "2    Areas of Interest Deep Learning, Control Syste...  \n",
       "3    Skills â¢ R â¢ Python â¢ SAP HANA â¢ Table...  \n",
       "4    Education Details \\r\\n MCA   YMCAUST,  Faridab...  \n",
       "..                                                 ...  \n",
       "295  Education Details \\r\\n B.E in Civil Engineerin...  \n",
       "296  Education Details \\r\\nJanuary 2005 S.S.C  Bara...  \n",
       "297  SKILLS â¢ 1.Autocad â¢ 2.Pro v â¢ 3.Catia â...  \n",
       "298  Computer Skills â¢ Holder of valid KSA licens...  \n",
       "299  COMPUTER KNOWLEDGE â¢ Drafting tools: AutoCAD...  \n",
       "\n",
       "[300 rows x 12 columns]"
      ]
     },
     "execution_count": 433,
     "metadata": {},
     "output_type": "execute_result"
    }
   ],
   "source": [
    "combined_data"
   ]
  },
  {
   "cell_type": "code",
   "execution_count": 435,
   "id": "b1439e72",
   "metadata": {
    "scrolled": true
   },
   "outputs": [
    {
     "data": {
      "text/html": [
       "<div>\n",
       "<style scoped>\n",
       "    .dataframe tbody tr th:only-of-type {\n",
       "        vertical-align: middle;\n",
       "    }\n",
       "\n",
       "    .dataframe tbody tr th {\n",
       "        vertical-align: top;\n",
       "    }\n",
       "\n",
       "    .dataframe thead th {\n",
       "        text-align: right;\n",
       "    }\n",
       "</style>\n",
       "<table border=\"1\" class=\"dataframe\">\n",
       "  <thead>\n",
       "    <tr style=\"text-align: right;\">\n",
       "      <th></th>\n",
       "      <th>years_of_experience</th>\n",
       "      <th>functional_competency_score</th>\n",
       "      <th>top1_skills_score</th>\n",
       "      <th>top2_skills_score</th>\n",
       "      <th>top3_skills_score</th>\n",
       "      <th>behavior_competency_score</th>\n",
       "      <th>top1_behavior_skill_score</th>\n",
       "      <th>top2_behavior_skill_score</th>\n",
       "      <th>top3_behavior_skill_score</th>\n",
       "      <th>call_for_interview</th>\n",
       "      <th>Category</th>\n",
       "      <th>Resume</th>\n",
       "    </tr>\n",
       "  </thead>\n",
       "  <tbody>\n",
       "    <tr>\n",
       "      <th>0</th>\n",
       "      <td>8</td>\n",
       "      <td>0.749498</td>\n",
       "      <td>0.777778</td>\n",
       "      <td>0.7</td>\n",
       "      <td>0.8</td>\n",
       "      <td>0.769231</td>\n",
       "      <td>0.931689</td>\n",
       "      <td>0.662042</td>\n",
       "      <td>0.752463</td>\n",
       "      <td>1</td>\n",
       "      <td>3</td>\n",
       "      <td>Skills * Programming Languages: Python (pandas...</td>\n",
       "    </tr>\n",
       "    <tr>\n",
       "      <th>1</th>\n",
       "      <td>7</td>\n",
       "      <td>0.490638</td>\n",
       "      <td>0.777778</td>\n",
       "      <td>0.3</td>\n",
       "      <td>0.4</td>\n",
       "      <td>0.153846</td>\n",
       "      <td>0.352093</td>\n",
       "      <td>0.132231</td>\n",
       "      <td>0.316905</td>\n",
       "      <td>0</td>\n",
       "      <td>3</td>\n",
       "      <td>Education Details \\r\\nMay 2013 to May 2017 B.E...</td>\n",
       "    </tr>\n",
       "    <tr>\n",
       "      <th>2</th>\n",
       "      <td>8</td>\n",
       "      <td>0.460256</td>\n",
       "      <td>0.444444</td>\n",
       "      <td>0.3</td>\n",
       "      <td>0.3</td>\n",
       "      <td>0.051282</td>\n",
       "      <td>0.052347</td>\n",
       "      <td>0.089765</td>\n",
       "      <td>0.254859</td>\n",
       "      <td>0</td>\n",
       "      <td>3</td>\n",
       "      <td>Areas of Interest Deep Learning, Control Syste...</td>\n",
       "    </tr>\n",
       "    <tr>\n",
       "      <th>3</th>\n",
       "      <td>7</td>\n",
       "      <td>0.507347</td>\n",
       "      <td>0.555556</td>\n",
       "      <td>0.4</td>\n",
       "      <td>0.5</td>\n",
       "      <td>0.384615</td>\n",
       "      <td>0.309913</td>\n",
       "      <td>0.289758</td>\n",
       "      <td>0.440784</td>\n",
       "      <td>0</td>\n",
       "      <td>3</td>\n",
       "      <td>Skills â¢ R â¢ Python â¢ SAP HANA â¢ Table...</td>\n",
       "    </tr>\n",
       "    <tr>\n",
       "      <th>4</th>\n",
       "      <td>4</td>\n",
       "      <td>0.662020</td>\n",
       "      <td>0.666667</td>\n",
       "      <td>0.7</td>\n",
       "      <td>0.5</td>\n",
       "      <td>0.461538</td>\n",
       "      <td>0.497929</td>\n",
       "      <td>0.397544</td>\n",
       "      <td>0.392760</td>\n",
       "      <td>1</td>\n",
       "      <td>3</td>\n",
       "      <td>Education Details \\r\\n MCA   YMCAUST,  Faridab...</td>\n",
       "    </tr>\n",
       "    <tr>\n",
       "      <th>...</th>\n",
       "      <td>...</td>\n",
       "      <td>...</td>\n",
       "      <td>...</td>\n",
       "      <td>...</td>\n",
       "      <td>...</td>\n",
       "      <td>...</td>\n",
       "      <td>...</td>\n",
       "      <td>...</td>\n",
       "      <td>...</td>\n",
       "      <td>...</td>\n",
       "      <td>...</td>\n",
       "      <td>...</td>\n",
       "    </tr>\n",
       "    <tr>\n",
       "      <th>295</th>\n",
       "      <td>5</td>\n",
       "      <td>0.576078</td>\n",
       "      <td>0.555556</td>\n",
       "      <td>0.6</td>\n",
       "      <td>0.6</td>\n",
       "      <td>0.230769</td>\n",
       "      <td>0.421105</td>\n",
       "      <td>0.354628</td>\n",
       "      <td>0.096438</td>\n",
       "      <td>0</td>\n",
       "      <td>2</td>\n",
       "      <td>Education Details \\r\\n B.E in Civil Engineerin...</td>\n",
       "    </tr>\n",
       "    <tr>\n",
       "      <th>296</th>\n",
       "      <td>6</td>\n",
       "      <td>0.587738</td>\n",
       "      <td>0.555556</td>\n",
       "      <td>0.5</td>\n",
       "      <td>0.5</td>\n",
       "      <td>0.230769</td>\n",
       "      <td>0.426939</td>\n",
       "      <td>0.201772</td>\n",
       "      <td>0.430858</td>\n",
       "      <td>1</td>\n",
       "      <td>2</td>\n",
       "      <td>Education Details \\r\\nJanuary 2005 S.S.C  Bara...</td>\n",
       "    </tr>\n",
       "    <tr>\n",
       "      <th>297</th>\n",
       "      <td>6</td>\n",
       "      <td>0.740044</td>\n",
       "      <td>0.666667</td>\n",
       "      <td>0.5</td>\n",
       "      <td>0.7</td>\n",
       "      <td>0.615385</td>\n",
       "      <td>0.681916</td>\n",
       "      <td>0.562821</td>\n",
       "      <td>0.681403</td>\n",
       "      <td>1</td>\n",
       "      <td>2</td>\n",
       "      <td>SKILLS â¢ 1.Autocad â¢ 2.Pro v â¢ 3.Catia â...</td>\n",
       "    </tr>\n",
       "    <tr>\n",
       "      <th>298</th>\n",
       "      <td>8</td>\n",
       "      <td>0.654656</td>\n",
       "      <td>0.666667</td>\n",
       "      <td>0.5</td>\n",
       "      <td>0.7</td>\n",
       "      <td>0.589744</td>\n",
       "      <td>0.585173</td>\n",
       "      <td>0.549063</td>\n",
       "      <td>0.663228</td>\n",
       "      <td>1</td>\n",
       "      <td>2</td>\n",
       "      <td>Computer Skills â¢ Holder of valid KSA licens...</td>\n",
       "    </tr>\n",
       "    <tr>\n",
       "      <th>299</th>\n",
       "      <td>4</td>\n",
       "      <td>0.754280</td>\n",
       "      <td>0.222222</td>\n",
       "      <td>0.7</td>\n",
       "      <td>0.8</td>\n",
       "      <td>0.820513</td>\n",
       "      <td>0.936553</td>\n",
       "      <td>0.793214</td>\n",
       "      <td>0.718935</td>\n",
       "      <td>1</td>\n",
       "      <td>2</td>\n",
       "      <td>COMPUTER KNOWLEDGE â¢ Drafting tools: AutoCAD...</td>\n",
       "    </tr>\n",
       "  </tbody>\n",
       "</table>\n",
       "<p>300 rows × 12 columns</p>\n",
       "</div>"
      ],
      "text/plain": [
       "     years_of_experience  functional_competency_score  top1_skills_score  \\\n",
       "0                      8                     0.749498           0.777778   \n",
       "1                      7                     0.490638           0.777778   \n",
       "2                      8                     0.460256           0.444444   \n",
       "3                      7                     0.507347           0.555556   \n",
       "4                      4                     0.662020           0.666667   \n",
       "..                   ...                          ...                ...   \n",
       "295                    5                     0.576078           0.555556   \n",
       "296                    6                     0.587738           0.555556   \n",
       "297                    6                     0.740044           0.666667   \n",
       "298                    8                     0.654656           0.666667   \n",
       "299                    4                     0.754280           0.222222   \n",
       "\n",
       "     top2_skills_score  top3_skills_score  behavior_competency_score  \\\n",
       "0                  0.7                0.8                   0.769231   \n",
       "1                  0.3                0.4                   0.153846   \n",
       "2                  0.3                0.3                   0.051282   \n",
       "3                  0.4                0.5                   0.384615   \n",
       "4                  0.7                0.5                   0.461538   \n",
       "..                 ...                ...                        ...   \n",
       "295                0.6                0.6                   0.230769   \n",
       "296                0.5                0.5                   0.230769   \n",
       "297                0.5                0.7                   0.615385   \n",
       "298                0.5                0.7                   0.589744   \n",
       "299                0.7                0.8                   0.820513   \n",
       "\n",
       "     top1_behavior_skill_score  top2_behavior_skill_score  \\\n",
       "0                     0.931689                   0.662042   \n",
       "1                     0.352093                   0.132231   \n",
       "2                     0.052347                   0.089765   \n",
       "3                     0.309913                   0.289758   \n",
       "4                     0.497929                   0.397544   \n",
       "..                         ...                        ...   \n",
       "295                   0.421105                   0.354628   \n",
       "296                   0.426939                   0.201772   \n",
       "297                   0.681916                   0.562821   \n",
       "298                   0.585173                   0.549063   \n",
       "299                   0.936553                   0.793214   \n",
       "\n",
       "     top3_behavior_skill_score  call_for_interview  Category  \\\n",
       "0                     0.752463                   1         3   \n",
       "1                     0.316905                   0         3   \n",
       "2                     0.254859                   0         3   \n",
       "3                     0.440784                   0         3   \n",
       "4                     0.392760                   1         3   \n",
       "..                         ...                 ...       ...   \n",
       "295                   0.096438                   0         2   \n",
       "296                   0.430858                   1         2   \n",
       "297                   0.681403                   1         2   \n",
       "298                   0.663228                   1         2   \n",
       "299                   0.718935                   1         2   \n",
       "\n",
       "                                                Resume  \n",
       "0    Skills * Programming Languages: Python (pandas...  \n",
       "1    Education Details \\r\\nMay 2013 to May 2017 B.E...  \n",
       "2    Areas of Interest Deep Learning, Control Syste...  \n",
       "3    Skills â¢ R â¢ Python â¢ SAP HANA â¢ Table...  \n",
       "4    Education Details \\r\\n MCA   YMCAUST,  Faridab...  \n",
       "..                                                 ...  \n",
       "295  Education Details \\r\\n B.E in Civil Engineerin...  \n",
       "296  Education Details \\r\\nJanuary 2005 S.S.C  Bara...  \n",
       "297  SKILLS â¢ 1.Autocad â¢ 2.Pro v â¢ 3.Catia â...  \n",
       "298  Computer Skills â¢ Holder of valid KSA licens...  \n",
       "299  COMPUTER KNOWLEDGE â¢ Drafting tools: AutoCAD...  \n",
       "\n",
       "[300 rows x 12 columns]"
      ]
     },
     "execution_count": 435,
     "metadata": {},
     "output_type": "execute_result"
    }
   ],
   "source": [
    "combined_data"
   ]
  },
  {
   "cell_type": "markdown",
   "id": "394fe814",
   "metadata": {},
   "source": [
    "Removing any unnecessary information from resumes like URLs, hashtags, and special characters. Creating the 'Clea Resume’ column"
   ]
  },
  {
   "cell_type": "code",
   "execution_count": 441,
   "id": "2bd7cbea",
   "metadata": {},
   "outputs": [],
   "source": [
    "def cleanResume(resumeText):\n",
    "    resumeText = re.sub('http\\S+\\s*', ' ', resumeText) # removing urls\n",
    "    resumeText = re.sub('RT|cc', ' ', resumeText)  #removing RT and cc\n",
    "    resumeText = re.sub('#\\S+', '', resumeText)  # removing hastags\n",
    "    resumeText = re.sub('@\\S+', '  ', resumeText)   # removing mentions\n",
    "    resumeText = re.sub('[%s]' % re.escape(\"\"\"!\"#$%&'()*+,-./:;<=>?@[\\]^_`{|}~\"\"\"), ' ', resumeText)\n",
    "    resumeText = re.sub(r'[^\\x00-\\x7f]',r' ', resumeText)\n",
    "    resumeText = re.sub('\\s+', ' ', resumeText)\n",
    "    return resumeText\n",
    "\n",
    "combined_data['cleaned_resume'] = combined_data.Resume.apply(lambda x : cleanResume(x))\n",
    "    "
   ]
  },
  {
   "cell_type": "code",
   "execution_count": 451,
   "id": "5fe96a33",
   "metadata": {
    "scrolled": true
   },
   "outputs": [
    {
     "data": {
      "text/html": [
       "<div>\n",
       "<style scoped>\n",
       "    .dataframe tbody tr th:only-of-type {\n",
       "        vertical-align: middle;\n",
       "    }\n",
       "\n",
       "    .dataframe tbody tr th {\n",
       "        vertical-align: top;\n",
       "    }\n",
       "\n",
       "    .dataframe thead th {\n",
       "        text-align: right;\n",
       "    }\n",
       "</style>\n",
       "<table border=\"1\" class=\"dataframe\">\n",
       "  <thead>\n",
       "    <tr style=\"text-align: right;\">\n",
       "      <th></th>\n",
       "      <th>years_of_experience</th>\n",
       "      <th>functional_competency_score</th>\n",
       "      <th>top1_skills_score</th>\n",
       "      <th>top2_skills_score</th>\n",
       "      <th>top3_skills_score</th>\n",
       "      <th>behavior_competency_score</th>\n",
       "      <th>top1_behavior_skill_score</th>\n",
       "      <th>top2_behavior_skill_score</th>\n",
       "      <th>top3_behavior_skill_score</th>\n",
       "      <th>call_for_interview</th>\n",
       "      <th>Category</th>\n",
       "      <th>Resume</th>\n",
       "      <th>cleaned_resume</th>\n",
       "    </tr>\n",
       "  </thead>\n",
       "  <tbody>\n",
       "    <tr>\n",
       "      <th>0</th>\n",
       "      <td>8</td>\n",
       "      <td>0.749498</td>\n",
       "      <td>0.777778</td>\n",
       "      <td>0.7</td>\n",
       "      <td>0.8</td>\n",
       "      <td>0.769231</td>\n",
       "      <td>0.931689</td>\n",
       "      <td>0.662042</td>\n",
       "      <td>0.752463</td>\n",
       "      <td>1</td>\n",
       "      <td>3</td>\n",
       "      <td>Skills * Programming Languages: Python (pandas...</td>\n",
       "      <td>Skills Programming Languages Python pandas num...</td>\n",
       "    </tr>\n",
       "    <tr>\n",
       "      <th>1</th>\n",
       "      <td>7</td>\n",
       "      <td>0.490638</td>\n",
       "      <td>0.777778</td>\n",
       "      <td>0.3</td>\n",
       "      <td>0.4</td>\n",
       "      <td>0.153846</td>\n",
       "      <td>0.352093</td>\n",
       "      <td>0.132231</td>\n",
       "      <td>0.316905</td>\n",
       "      <td>0</td>\n",
       "      <td>3</td>\n",
       "      <td>Education Details \\r\\nMay 2013 to May 2017 B.E...</td>\n",
       "      <td>Education Details May 2013 to May 2017 B E UIT...</td>\n",
       "    </tr>\n",
       "    <tr>\n",
       "      <th>2</th>\n",
       "      <td>8</td>\n",
       "      <td>0.460256</td>\n",
       "      <td>0.444444</td>\n",
       "      <td>0.3</td>\n",
       "      <td>0.3</td>\n",
       "      <td>0.051282</td>\n",
       "      <td>0.052347</td>\n",
       "      <td>0.089765</td>\n",
       "      <td>0.254859</td>\n",
       "      <td>0</td>\n",
       "      <td>3</td>\n",
       "      <td>Areas of Interest Deep Learning, Control Syste...</td>\n",
       "      <td>Areas of Interest Deep Learning Control System...</td>\n",
       "    </tr>\n",
       "    <tr>\n",
       "      <th>3</th>\n",
       "      <td>7</td>\n",
       "      <td>0.507347</td>\n",
       "      <td>0.555556</td>\n",
       "      <td>0.4</td>\n",
       "      <td>0.5</td>\n",
       "      <td>0.384615</td>\n",
       "      <td>0.309913</td>\n",
       "      <td>0.289758</td>\n",
       "      <td>0.440784</td>\n",
       "      <td>0</td>\n",
       "      <td>3</td>\n",
       "      <td>Skills â¢ R â¢ Python â¢ SAP HANA â¢ Table...</td>\n",
       "      <td>Skills R Python SAP HANA Tableau SAP HANA SQL ...</td>\n",
       "    </tr>\n",
       "    <tr>\n",
       "      <th>4</th>\n",
       "      <td>4</td>\n",
       "      <td>0.662020</td>\n",
       "      <td>0.666667</td>\n",
       "      <td>0.7</td>\n",
       "      <td>0.5</td>\n",
       "      <td>0.461538</td>\n",
       "      <td>0.497929</td>\n",
       "      <td>0.397544</td>\n",
       "      <td>0.392760</td>\n",
       "      <td>1</td>\n",
       "      <td>3</td>\n",
       "      <td>Education Details \\r\\n MCA   YMCAUST,  Faridab...</td>\n",
       "      <td>Education Details MCA YMCAUST Faridabad Haryan...</td>\n",
       "    </tr>\n",
       "    <tr>\n",
       "      <th>...</th>\n",
       "      <td>...</td>\n",
       "      <td>...</td>\n",
       "      <td>...</td>\n",
       "      <td>...</td>\n",
       "      <td>...</td>\n",
       "      <td>...</td>\n",
       "      <td>...</td>\n",
       "      <td>...</td>\n",
       "      <td>...</td>\n",
       "      <td>...</td>\n",
       "      <td>...</td>\n",
       "      <td>...</td>\n",
       "      <td>...</td>\n",
       "    </tr>\n",
       "    <tr>\n",
       "      <th>295</th>\n",
       "      <td>5</td>\n",
       "      <td>0.576078</td>\n",
       "      <td>0.555556</td>\n",
       "      <td>0.6</td>\n",
       "      <td>0.6</td>\n",
       "      <td>0.230769</td>\n",
       "      <td>0.421105</td>\n",
       "      <td>0.354628</td>\n",
       "      <td>0.096438</td>\n",
       "      <td>0</td>\n",
       "      <td>2</td>\n",
       "      <td>Education Details \\r\\n B.E in Civil Engineerin...</td>\n",
       "      <td>Education Details B E in Civil Engineering Civ...</td>\n",
       "    </tr>\n",
       "    <tr>\n",
       "      <th>296</th>\n",
       "      <td>6</td>\n",
       "      <td>0.587738</td>\n",
       "      <td>0.555556</td>\n",
       "      <td>0.5</td>\n",
       "      <td>0.5</td>\n",
       "      <td>0.230769</td>\n",
       "      <td>0.426939</td>\n",
       "      <td>0.201772</td>\n",
       "      <td>0.430858</td>\n",
       "      <td>1</td>\n",
       "      <td>2</td>\n",
       "      <td>Education Details \\r\\nJanuary 2005 S.S.C  Bara...</td>\n",
       "      <td>Education Details January 2005 S S C Baramati ...</td>\n",
       "    </tr>\n",
       "    <tr>\n",
       "      <th>297</th>\n",
       "      <td>6</td>\n",
       "      <td>0.740044</td>\n",
       "      <td>0.666667</td>\n",
       "      <td>0.5</td>\n",
       "      <td>0.7</td>\n",
       "      <td>0.615385</td>\n",
       "      <td>0.681916</td>\n",
       "      <td>0.562821</td>\n",
       "      <td>0.681403</td>\n",
       "      <td>1</td>\n",
       "      <td>2</td>\n",
       "      <td>SKILLS â¢ 1.Autocad â¢ 2.Pro v â¢ 3.Catia â...</td>\n",
       "      <td>SKILLS 1 Autocad 2 Pro v 3 Catia 4 word excel ...</td>\n",
       "    </tr>\n",
       "    <tr>\n",
       "      <th>298</th>\n",
       "      <td>8</td>\n",
       "      <td>0.654656</td>\n",
       "      <td>0.666667</td>\n",
       "      <td>0.5</td>\n",
       "      <td>0.7</td>\n",
       "      <td>0.589744</td>\n",
       "      <td>0.585173</td>\n",
       "      <td>0.549063</td>\n",
       "      <td>0.663228</td>\n",
       "      <td>1</td>\n",
       "      <td>2</td>\n",
       "      <td>Computer Skills â¢ Holder of valid KSA licens...</td>\n",
       "      <td>Computer Skills Holder of valid KSA license Ba...</td>\n",
       "    </tr>\n",
       "    <tr>\n",
       "      <th>299</th>\n",
       "      <td>4</td>\n",
       "      <td>0.754280</td>\n",
       "      <td>0.222222</td>\n",
       "      <td>0.7</td>\n",
       "      <td>0.8</td>\n",
       "      <td>0.820513</td>\n",
       "      <td>0.936553</td>\n",
       "      <td>0.793214</td>\n",
       "      <td>0.718935</td>\n",
       "      <td>1</td>\n",
       "      <td>2</td>\n",
       "      <td>COMPUTER KNOWLEDGE â¢ Drafting tools: AutoCAD...</td>\n",
       "      <td>COMPUTER KNOWLEDGE Drafting tools AutoCAD Pack...</td>\n",
       "    </tr>\n",
       "  </tbody>\n",
       "</table>\n",
       "<p>300 rows × 13 columns</p>\n",
       "</div>"
      ],
      "text/plain": [
       "     years_of_experience  functional_competency_score  top1_skills_score  \\\n",
       "0                      8                     0.749498           0.777778   \n",
       "1                      7                     0.490638           0.777778   \n",
       "2                      8                     0.460256           0.444444   \n",
       "3                      7                     0.507347           0.555556   \n",
       "4                      4                     0.662020           0.666667   \n",
       "..                   ...                          ...                ...   \n",
       "295                    5                     0.576078           0.555556   \n",
       "296                    6                     0.587738           0.555556   \n",
       "297                    6                     0.740044           0.666667   \n",
       "298                    8                     0.654656           0.666667   \n",
       "299                    4                     0.754280           0.222222   \n",
       "\n",
       "     top2_skills_score  top3_skills_score  behavior_competency_score  \\\n",
       "0                  0.7                0.8                   0.769231   \n",
       "1                  0.3                0.4                   0.153846   \n",
       "2                  0.3                0.3                   0.051282   \n",
       "3                  0.4                0.5                   0.384615   \n",
       "4                  0.7                0.5                   0.461538   \n",
       "..                 ...                ...                        ...   \n",
       "295                0.6                0.6                   0.230769   \n",
       "296                0.5                0.5                   0.230769   \n",
       "297                0.5                0.7                   0.615385   \n",
       "298                0.5                0.7                   0.589744   \n",
       "299                0.7                0.8                   0.820513   \n",
       "\n",
       "     top1_behavior_skill_score  top2_behavior_skill_score  \\\n",
       "0                     0.931689                   0.662042   \n",
       "1                     0.352093                   0.132231   \n",
       "2                     0.052347                   0.089765   \n",
       "3                     0.309913                   0.289758   \n",
       "4                     0.497929                   0.397544   \n",
       "..                         ...                        ...   \n",
       "295                   0.421105                   0.354628   \n",
       "296                   0.426939                   0.201772   \n",
       "297                   0.681916                   0.562821   \n",
       "298                   0.585173                   0.549063   \n",
       "299                   0.936553                   0.793214   \n",
       "\n",
       "     top3_behavior_skill_score  call_for_interview  Category  \\\n",
       "0                     0.752463                   1         3   \n",
       "1                     0.316905                   0         3   \n",
       "2                     0.254859                   0         3   \n",
       "3                     0.440784                   0         3   \n",
       "4                     0.392760                   1         3   \n",
       "..                         ...                 ...       ...   \n",
       "295                   0.096438                   0         2   \n",
       "296                   0.430858                   1         2   \n",
       "297                   0.681403                   1         2   \n",
       "298                   0.663228                   1         2   \n",
       "299                   0.718935                   1         2   \n",
       "\n",
       "                                                Resume  \\\n",
       "0    Skills * Programming Languages: Python (pandas...   \n",
       "1    Education Details \\r\\nMay 2013 to May 2017 B.E...   \n",
       "2    Areas of Interest Deep Learning, Control Syste...   \n",
       "3    Skills â¢ R â¢ Python â¢ SAP HANA â¢ Table...   \n",
       "4    Education Details \\r\\n MCA   YMCAUST,  Faridab...   \n",
       "..                                                 ...   \n",
       "295  Education Details \\r\\n B.E in Civil Engineerin...   \n",
       "296  Education Details \\r\\nJanuary 2005 S.S.C  Bara...   \n",
       "297  SKILLS â¢ 1.Autocad â¢ 2.Pro v â¢ 3.Catia â...   \n",
       "298  Computer Skills â¢ Holder of valid KSA licens...   \n",
       "299  COMPUTER KNOWLEDGE â¢ Drafting tools: AutoCAD...   \n",
       "\n",
       "                                        cleaned_resume  \n",
       "0    Skills Programming Languages Python pandas num...  \n",
       "1    Education Details May 2013 to May 2017 B E UIT...  \n",
       "2    Areas of Interest Deep Learning Control System...  \n",
       "3    Skills R Python SAP HANA Tableau SAP HANA SQL ...  \n",
       "4    Education Details MCA YMCAUST Faridabad Haryan...  \n",
       "..                                                 ...  \n",
       "295  Education Details B E in Civil Engineering Civ...  \n",
       "296  Education Details January 2005 S S C Baramati ...  \n",
       "297  SKILLS 1 Autocad 2 Pro v 3 Catia 4 word excel ...  \n",
       "298  Computer Skills Holder of valid KSA license Ba...  \n",
       "299  COMPUTER KNOWLEDGE Drafting tools AutoCAD Pack...  \n",
       "\n",
       "[300 rows x 13 columns]"
      ]
     },
     "execution_count": 451,
     "metadata": {},
     "output_type": "execute_result"
    }
   ],
   "source": [
    "combined_data"
   ]
  },
  {
   "cell_type": "code",
   "execution_count": 448,
   "id": "979acd05",
   "metadata": {},
   "outputs": [
    {
     "name": "stdout",
     "output_type": "stream",
     "text": [
      "Requirement already satisfied: nltk in /Users/ishikadang/anaconda3/lib/python3.11/site-packages (3.8.1)\n",
      "Requirement already satisfied: click in /Users/ishikadang/anaconda3/lib/python3.11/site-packages (from nltk) (8.0.4)\n",
      "Requirement already satisfied: joblib in /Users/ishikadang/anaconda3/lib/python3.11/site-packages (from nltk) (1.2.0)\n",
      "Requirement already satisfied: regex>=2021.8.3 in /Users/ishikadang/anaconda3/lib/python3.11/site-packages (from nltk) (2022.7.9)\n",
      "Requirement already satisfied: tqdm in /Users/ishikadang/anaconda3/lib/python3.11/site-packages (from nltk) (4.65.0)\n",
      "Note: you may need to restart the kernel to use updated packages.\n"
     ]
    }
   ],
   "source": [
    "pip install nltk"
   ]
  },
  {
   "cell_type": "markdown",
   "id": "d7b6acb2",
   "metadata": {},
   "source": [
    "# Checking the most common words from resume"
   ]
  },
  {
   "cell_type": "code",
   "execution_count": 452,
   "id": "9b45ee57",
   "metadata": {},
   "outputs": [],
   "source": [
    "import nltk\n",
    "from nltk.corpus import stopwords\n",
    "from nltk.tokenize import word_tokenize\n",
    "from nltk.probability import FreqDist\n",
    "import string\n"
   ]
  },
  {
   "cell_type": "code",
   "execution_count": 457,
   "id": "ff6aa885",
   "metadata": {
    "scrolled": true
   },
   "outputs": [
    {
     "name": "stdout",
     "output_type": "stream",
     "text": [
      "[('â\\x80¢', 1973), ('Details', 909), ('Exprience', 819), ('company', 801), ('description', 732), ('months', 665), ('1', 501), ('6', 361), ('January', 342), ('year', 326), ('â\\x97\\x8f', 324), ('Maharashtra', 315), ('sales', 305), ('Skill', 300), ('Ã±', 300), ('project', 284), ('â\\x9e¢', 281), ('Less', 264), ('Project', 249), ('College', 238), ('team', 237), (\"'s\", 236), ('time', 232), ('data', 225), ('Engineering', 216), ('Pune', 216), ('Data', 212), ('application', 203), ('monthsCompany', 202), ('Web', 196), ('Science', 190), ('Sales', 188), ('University', 181), ('work', 174), ('Responsibilities', 171), ('Nagpur', 166), ('like', 164), ('Mumbai', 163), ('2', 162), ('Used', 157), ('Ltd', 157), ('Software', 156), ('Management', 156), ('India', 150), ('SQL', 144), ('Fitness', 144), ('Pvt', 142), ('Team', 141), ('Technologies', 140), ('developed', 138)]\n"
     ]
    }
   ],
   "source": [
    "combine_resumes = ''.join(combined_data[\"Resume\"].values)\n",
    "\n",
    "#Tokenizing the combined text\n",
    "words = word_tokenize(combine_resumes)\n",
    "\n",
    "#Removing stopwords & punctuation\n",
    "stop_words = set(stopwords.words('english'))\n",
    "filtered_words = [word for word in words if word.lower() not in stop_words and word not in string.punctuation]\n",
    "\n",
    "#calculating the frequency distribution\n",
    "freq_dist = FreqDist(filtered_words)\n",
    "\n",
    "#most common word\n",
    "most_common = freq_dist.most_common(50)\n",
    "\n",
    "\n",
    "print(most_common)"
   ]
  },
  {
   "cell_type": "code",
   "execution_count": 467,
   "id": "4584cd18",
   "metadata": {},
   "outputs": [
    {
     "data": {
      "text/html": [
       "<div>\n",
       "<style scoped>\n",
       "    .dataframe tbody tr th:only-of-type {\n",
       "        vertical-align: middle;\n",
       "    }\n",
       "\n",
       "    .dataframe tbody tr th {\n",
       "        vertical-align: top;\n",
       "    }\n",
       "\n",
       "    .dataframe thead th {\n",
       "        text-align: right;\n",
       "    }\n",
       "</style>\n",
       "<table border=\"1\" class=\"dataframe\">\n",
       "  <thead>\n",
       "    <tr style=\"text-align: right;\">\n",
       "      <th></th>\n",
       "      <th>years_of_experience</th>\n",
       "      <th>functional_competency_score</th>\n",
       "      <th>top1_skills_score</th>\n",
       "      <th>top2_skills_score</th>\n",
       "      <th>top3_skills_score</th>\n",
       "      <th>behavior_competency_score</th>\n",
       "      <th>top1_behavior_skill_score</th>\n",
       "      <th>top2_behavior_skill_score</th>\n",
       "      <th>top3_behavior_skill_score</th>\n",
       "      <th>call_for_interview</th>\n",
       "      <th>Category</th>\n",
       "      <th>cleaned_resume</th>\n",
       "    </tr>\n",
       "  </thead>\n",
       "  <tbody>\n",
       "    <tr>\n",
       "      <th>0</th>\n",
       "      <td>8</td>\n",
       "      <td>0.749498</td>\n",
       "      <td>0.777778</td>\n",
       "      <td>0.7</td>\n",
       "      <td>0.8</td>\n",
       "      <td>0.769231</td>\n",
       "      <td>0.931689</td>\n",
       "      <td>0.662042</td>\n",
       "      <td>0.752463</td>\n",
       "      <td>1</td>\n",
       "      <td>3</td>\n",
       "      <td>Skills Programming Languages Python pandas num...</td>\n",
       "    </tr>\n",
       "    <tr>\n",
       "      <th>1</th>\n",
       "      <td>7</td>\n",
       "      <td>0.490638</td>\n",
       "      <td>0.777778</td>\n",
       "      <td>0.3</td>\n",
       "      <td>0.4</td>\n",
       "      <td>0.153846</td>\n",
       "      <td>0.352093</td>\n",
       "      <td>0.132231</td>\n",
       "      <td>0.316905</td>\n",
       "      <td>0</td>\n",
       "      <td>3</td>\n",
       "      <td>Education Details May 2013 to May 2017 B E UIT...</td>\n",
       "    </tr>\n",
       "    <tr>\n",
       "      <th>2</th>\n",
       "      <td>8</td>\n",
       "      <td>0.460256</td>\n",
       "      <td>0.444444</td>\n",
       "      <td>0.3</td>\n",
       "      <td>0.3</td>\n",
       "      <td>0.051282</td>\n",
       "      <td>0.052347</td>\n",
       "      <td>0.089765</td>\n",
       "      <td>0.254859</td>\n",
       "      <td>0</td>\n",
       "      <td>3</td>\n",
       "      <td>Areas of Interest Deep Learning Control System...</td>\n",
       "    </tr>\n",
       "    <tr>\n",
       "      <th>3</th>\n",
       "      <td>7</td>\n",
       "      <td>0.507347</td>\n",
       "      <td>0.555556</td>\n",
       "      <td>0.4</td>\n",
       "      <td>0.5</td>\n",
       "      <td>0.384615</td>\n",
       "      <td>0.309913</td>\n",
       "      <td>0.289758</td>\n",
       "      <td>0.440784</td>\n",
       "      <td>0</td>\n",
       "      <td>3</td>\n",
       "      <td>Skills R Python SAP HANA Tableau SAP HANA SQL ...</td>\n",
       "    </tr>\n",
       "    <tr>\n",
       "      <th>4</th>\n",
       "      <td>4</td>\n",
       "      <td>0.662020</td>\n",
       "      <td>0.666667</td>\n",
       "      <td>0.7</td>\n",
       "      <td>0.5</td>\n",
       "      <td>0.461538</td>\n",
       "      <td>0.497929</td>\n",
       "      <td>0.397544</td>\n",
       "      <td>0.392760</td>\n",
       "      <td>1</td>\n",
       "      <td>3</td>\n",
       "      <td>Education Details MCA YMCAUST Faridabad Haryan...</td>\n",
       "    </tr>\n",
       "    <tr>\n",
       "      <th>...</th>\n",
       "      <td>...</td>\n",
       "      <td>...</td>\n",
       "      <td>...</td>\n",
       "      <td>...</td>\n",
       "      <td>...</td>\n",
       "      <td>...</td>\n",
       "      <td>...</td>\n",
       "      <td>...</td>\n",
       "      <td>...</td>\n",
       "      <td>...</td>\n",
       "      <td>...</td>\n",
       "      <td>...</td>\n",
       "    </tr>\n",
       "    <tr>\n",
       "      <th>295</th>\n",
       "      <td>5</td>\n",
       "      <td>0.576078</td>\n",
       "      <td>0.555556</td>\n",
       "      <td>0.6</td>\n",
       "      <td>0.6</td>\n",
       "      <td>0.230769</td>\n",
       "      <td>0.421105</td>\n",
       "      <td>0.354628</td>\n",
       "      <td>0.096438</td>\n",
       "      <td>0</td>\n",
       "      <td>2</td>\n",
       "      <td>Education Details B E in Civil Engineering Civ...</td>\n",
       "    </tr>\n",
       "    <tr>\n",
       "      <th>296</th>\n",
       "      <td>6</td>\n",
       "      <td>0.587738</td>\n",
       "      <td>0.555556</td>\n",
       "      <td>0.5</td>\n",
       "      <td>0.5</td>\n",
       "      <td>0.230769</td>\n",
       "      <td>0.426939</td>\n",
       "      <td>0.201772</td>\n",
       "      <td>0.430858</td>\n",
       "      <td>1</td>\n",
       "      <td>2</td>\n",
       "      <td>Education Details January 2005 S S C Baramati ...</td>\n",
       "    </tr>\n",
       "    <tr>\n",
       "      <th>297</th>\n",
       "      <td>6</td>\n",
       "      <td>0.740044</td>\n",
       "      <td>0.666667</td>\n",
       "      <td>0.5</td>\n",
       "      <td>0.7</td>\n",
       "      <td>0.615385</td>\n",
       "      <td>0.681916</td>\n",
       "      <td>0.562821</td>\n",
       "      <td>0.681403</td>\n",
       "      <td>1</td>\n",
       "      <td>2</td>\n",
       "      <td>SKILLS 1 Autocad 2 Pro v 3 Catia 4 word excel ...</td>\n",
       "    </tr>\n",
       "    <tr>\n",
       "      <th>298</th>\n",
       "      <td>8</td>\n",
       "      <td>0.654656</td>\n",
       "      <td>0.666667</td>\n",
       "      <td>0.5</td>\n",
       "      <td>0.7</td>\n",
       "      <td>0.589744</td>\n",
       "      <td>0.585173</td>\n",
       "      <td>0.549063</td>\n",
       "      <td>0.663228</td>\n",
       "      <td>1</td>\n",
       "      <td>2</td>\n",
       "      <td>Computer Skills Holder of valid KSA license Ba...</td>\n",
       "    </tr>\n",
       "    <tr>\n",
       "      <th>299</th>\n",
       "      <td>4</td>\n",
       "      <td>0.754280</td>\n",
       "      <td>0.222222</td>\n",
       "      <td>0.7</td>\n",
       "      <td>0.8</td>\n",
       "      <td>0.820513</td>\n",
       "      <td>0.936553</td>\n",
       "      <td>0.793214</td>\n",
       "      <td>0.718935</td>\n",
       "      <td>1</td>\n",
       "      <td>2</td>\n",
       "      <td>COMPUTER KNOWLEDGE Drafting tools AutoCAD Pack...</td>\n",
       "    </tr>\n",
       "  </tbody>\n",
       "</table>\n",
       "<p>300 rows × 12 columns</p>\n",
       "</div>"
      ],
      "text/plain": [
       "     years_of_experience  functional_competency_score  top1_skills_score  \\\n",
       "0                      8                     0.749498           0.777778   \n",
       "1                      7                     0.490638           0.777778   \n",
       "2                      8                     0.460256           0.444444   \n",
       "3                      7                     0.507347           0.555556   \n",
       "4                      4                     0.662020           0.666667   \n",
       "..                   ...                          ...                ...   \n",
       "295                    5                     0.576078           0.555556   \n",
       "296                    6                     0.587738           0.555556   \n",
       "297                    6                     0.740044           0.666667   \n",
       "298                    8                     0.654656           0.666667   \n",
       "299                    4                     0.754280           0.222222   \n",
       "\n",
       "     top2_skills_score  top3_skills_score  behavior_competency_score  \\\n",
       "0                  0.7                0.8                   0.769231   \n",
       "1                  0.3                0.4                   0.153846   \n",
       "2                  0.3                0.3                   0.051282   \n",
       "3                  0.4                0.5                   0.384615   \n",
       "4                  0.7                0.5                   0.461538   \n",
       "..                 ...                ...                        ...   \n",
       "295                0.6                0.6                   0.230769   \n",
       "296                0.5                0.5                   0.230769   \n",
       "297                0.5                0.7                   0.615385   \n",
       "298                0.5                0.7                   0.589744   \n",
       "299                0.7                0.8                   0.820513   \n",
       "\n",
       "     top1_behavior_skill_score  top2_behavior_skill_score  \\\n",
       "0                     0.931689                   0.662042   \n",
       "1                     0.352093                   0.132231   \n",
       "2                     0.052347                   0.089765   \n",
       "3                     0.309913                   0.289758   \n",
       "4                     0.497929                   0.397544   \n",
       "..                         ...                        ...   \n",
       "295                   0.421105                   0.354628   \n",
       "296                   0.426939                   0.201772   \n",
       "297                   0.681916                   0.562821   \n",
       "298                   0.585173                   0.549063   \n",
       "299                   0.936553                   0.793214   \n",
       "\n",
       "     top3_behavior_skill_score  call_for_interview  Category  \\\n",
       "0                     0.752463                   1         3   \n",
       "1                     0.316905                   0         3   \n",
       "2                     0.254859                   0         3   \n",
       "3                     0.440784                   0         3   \n",
       "4                     0.392760                   1         3   \n",
       "..                         ...                 ...       ...   \n",
       "295                   0.096438                   0         2   \n",
       "296                   0.430858                   1         2   \n",
       "297                   0.681403                   1         2   \n",
       "298                   0.663228                   1         2   \n",
       "299                   0.718935                   1         2   \n",
       "\n",
       "                                        cleaned_resume  \n",
       "0    Skills Programming Languages Python pandas num...  \n",
       "1    Education Details May 2013 to May 2017 B E UIT...  \n",
       "2    Areas of Interest Deep Learning Control System...  \n",
       "3    Skills R Python SAP HANA Tableau SAP HANA SQL ...  \n",
       "4    Education Details MCA YMCAUST Faridabad Haryan...  \n",
       "..                                                 ...  \n",
       "295  Education Details B E in Civil Engineering Civ...  \n",
       "296  Education Details January 2005 S S C Baramati ...  \n",
       "297  SKILLS 1 Autocad 2 Pro v 3 Catia 4 word excel ...  \n",
       "298  Computer Skills Holder of valid KSA license Ba...  \n",
       "299  COMPUTER KNOWLEDGE Drafting tools AutoCAD Pack...  \n",
       "\n",
       "[300 rows x 12 columns]"
      ]
     },
     "execution_count": 467,
     "metadata": {},
     "output_type": "execute_result"
    }
   ],
   "source": [
    "combined_data.drop(['Resume'], axis = 1)"
   ]
  },
  {
   "cell_type": "code",
   "execution_count": 468,
   "id": "21d69742",
   "metadata": {},
   "outputs": [],
   "source": [
    "from sklearn.preprocessing import LabelEncoder\n",
    "\n",
    "# Create a list of categorical columns to be label encoded\n",
    "categorical_columns = ['Category']\n",
    "\n",
    "le = LabelEncoder()\n",
    "\n",
    "for column in categorical_columns:\n",
    "    if column in combined_data:\n",
    "        combined_data[column] = le.fit_transform(combined_data[column])\n"
   ]
  },
  {
   "cell_type": "markdown",
   "id": "40cbb666",
   "metadata": {},
   "source": [
    "# Splitting the dataset into X and y"
   ]
  },
  {
   "cell_type": "code",
   "execution_count": null,
   "id": "969e8968",
   "metadata": {},
   "outputs": [],
   "source": []
  },
  {
   "cell_type": "code",
   "execution_count": null,
   "id": "1ef3060e",
   "metadata": {},
   "outputs": [],
   "source": []
  },
  {
   "cell_type": "code",
   "execution_count": 469,
   "id": "945be7b2",
   "metadata": {},
   "outputs": [],
   "source": [
    "X = combined_data.drop('call_for_interview', axis=1)\n",
    "y = combined_data['call_for_interview']\n"
   ]
  },
  {
   "cell_type": "code",
   "execution_count": 470,
   "id": "6aaf37cf",
   "metadata": {},
   "outputs": [],
   "source": [
    "#Get feature name\n",
    "features = X.columns"
   ]
  },
  {
   "cell_type": "code",
   "execution_count": 473,
   "id": "8b161e52",
   "metadata": {},
   "outputs": [
    {
     "data": {
      "text/plain": [
       "Index(['years_of_experience', 'functional_competency_score',\n",
       "       'top1_skills_score', 'top2_skills_score', 'top3_skills_score',\n",
       "       'behavior_competency_score', 'top1_behavior_skill_score',\n",
       "       'top2_behavior_skill_score', 'top3_behavior_skill_score', 'Category',\n",
       "       'Resume', 'cleaned_resume'],\n",
       "      dtype='object')"
      ]
     },
     "execution_count": 473,
     "metadata": {},
     "output_type": "execute_result"
    }
   ],
   "source": [
    "features"
   ]
  },
  {
   "cell_type": "markdown",
   "id": "59a48f4e",
   "metadata": {},
   "source": [
    "# Identfying all the categorical variables¶"
   ]
  },
  {
   "cell_type": "code",
   "execution_count": 472,
   "id": "459395fc",
   "metadata": {},
   "outputs": [
    {
     "name": "stdout",
     "output_type": "stream",
     "text": [
      "['cleaned_resume']\n"
     ]
    }
   ],
   "source": [
    "#Identfying categorical columns(object type) \n",
    "categorical_columns = [columns for columns , dtype in X.dtypes.items() if dtype == 'object']\n",
    "\n",
    "\n",
    "#'Categorical columns'now contains the name of categorical variables\n",
    "print(categorical_columns)"
   ]
  },
  {
   "cell_type": "markdown",
   "id": "2632a9e2",
   "metadata": {},
   "source": [
    "# Encode Categories"
   ]
  },
  {
   "cell_type": "code",
   "execution_count": 474,
   "id": "955f96db",
   "metadata": {},
   "outputs": [],
   "source": [
    "from sklearn.preprocessing import LabelEncoder\n",
    "\n",
    "label_encoder = LabelEncoder()\n",
    "combined_data['cleaned_resume'] = label_encoder.fit_transform(combined_data['cleaned_resume'])"
   ]
  },
  {
   "cell_type": "markdown",
   "id": "7ac6f6e3",
   "metadata": {},
   "source": [
    "# Standardize¶"
   ]
  },
  {
   "cell_type": "code",
   "execution_count": 475,
   "id": "d927d1ec",
   "metadata": {},
   "outputs": [],
   "source": [
    "# Standardizing the data\n",
    "scaler = StandardScaler()\n",
    "X_enc_scaled = scaler.fit_transform(X_enc)"
   ]
  },
  {
   "cell_type": "markdown",
   "id": "8c86c17b",
   "metadata": {},
   "source": [
    "# Logistic regression model"
   ]
  },
  {
   "cell_type": "code",
   "execution_count": null,
   "id": "41c42b7a",
   "metadata": {},
   "outputs": [],
   "source": []
  },
  {
   "cell_type": "code",
   "execution_count": 476,
   "id": "c08f528c",
   "metadata": {},
   "outputs": [],
   "source": [
    "#Creating a logistic regression model\n",
    "lr = LogisticRegression(max_iter = 1000)"
   ]
  },
  {
   "cell_type": "code",
   "execution_count": 477,
   "id": "db93b873",
   "metadata": {},
   "outputs": [
    {
     "data": {
      "text/html": [
       "<style>#sk-container-id-19 {color: black;}#sk-container-id-19 pre{padding: 0;}#sk-container-id-19 div.sk-toggleable {background-color: white;}#sk-container-id-19 label.sk-toggleable__label {cursor: pointer;display: block;width: 100%;margin-bottom: 0;padding: 0.3em;box-sizing: border-box;text-align: center;}#sk-container-id-19 label.sk-toggleable__label-arrow:before {content: \"▸\";float: left;margin-right: 0.25em;color: #696969;}#sk-container-id-19 label.sk-toggleable__label-arrow:hover:before {color: black;}#sk-container-id-19 div.sk-estimator:hover label.sk-toggleable__label-arrow:before {color: black;}#sk-container-id-19 div.sk-toggleable__content {max-height: 0;max-width: 0;overflow: hidden;text-align: left;background-color: #f0f8ff;}#sk-container-id-19 div.sk-toggleable__content pre {margin: 0.2em;color: black;border-radius: 0.25em;background-color: #f0f8ff;}#sk-container-id-19 input.sk-toggleable__control:checked~div.sk-toggleable__content {max-height: 200px;max-width: 100%;overflow: auto;}#sk-container-id-19 input.sk-toggleable__control:checked~label.sk-toggleable__label-arrow:before {content: \"▾\";}#sk-container-id-19 div.sk-estimator input.sk-toggleable__control:checked~label.sk-toggleable__label {background-color: #d4ebff;}#sk-container-id-19 div.sk-label input.sk-toggleable__control:checked~label.sk-toggleable__label {background-color: #d4ebff;}#sk-container-id-19 input.sk-hidden--visually {border: 0;clip: rect(1px 1px 1px 1px);clip: rect(1px, 1px, 1px, 1px);height: 1px;margin: -1px;overflow: hidden;padding: 0;position: absolute;width: 1px;}#sk-container-id-19 div.sk-estimator {font-family: monospace;background-color: #f0f8ff;border: 1px dotted black;border-radius: 0.25em;box-sizing: border-box;margin-bottom: 0.5em;}#sk-container-id-19 div.sk-estimator:hover {background-color: #d4ebff;}#sk-container-id-19 div.sk-parallel-item::after {content: \"\";width: 100%;border-bottom: 1px solid gray;flex-grow: 1;}#sk-container-id-19 div.sk-label:hover label.sk-toggleable__label {background-color: #d4ebff;}#sk-container-id-19 div.sk-serial::before {content: \"\";position: absolute;border-left: 1px solid gray;box-sizing: border-box;top: 0;bottom: 0;left: 50%;z-index: 0;}#sk-container-id-19 div.sk-serial {display: flex;flex-direction: column;align-items: center;background-color: white;padding-right: 0.2em;padding-left: 0.2em;position: relative;}#sk-container-id-19 div.sk-item {position: relative;z-index: 1;}#sk-container-id-19 div.sk-parallel {display: flex;align-items: stretch;justify-content: center;background-color: white;position: relative;}#sk-container-id-19 div.sk-item::before, #sk-container-id-19 div.sk-parallel-item::before {content: \"\";position: absolute;border-left: 1px solid gray;box-sizing: border-box;top: 0;bottom: 0;left: 50%;z-index: -1;}#sk-container-id-19 div.sk-parallel-item {display: flex;flex-direction: column;z-index: 1;position: relative;background-color: white;}#sk-container-id-19 div.sk-parallel-item:first-child::after {align-self: flex-end;width: 50%;}#sk-container-id-19 div.sk-parallel-item:last-child::after {align-self: flex-start;width: 50%;}#sk-container-id-19 div.sk-parallel-item:only-child::after {width: 0;}#sk-container-id-19 div.sk-dashed-wrapped {border: 1px dashed gray;margin: 0 0.4em 0.5em 0.4em;box-sizing: border-box;padding-bottom: 0.4em;background-color: white;}#sk-container-id-19 div.sk-label label {font-family: monospace;font-weight: bold;display: inline-block;line-height: 1.2em;}#sk-container-id-19 div.sk-label-container {text-align: center;}#sk-container-id-19 div.sk-container {/* jupyter's `normalize.less` sets `[hidden] { display: none; }` but bootstrap.min.css set `[hidden] { display: none !important; }` so we also need the `!important` here to be able to override the default hidden behavior on the sphinx rendered scikit-learn.org. See: https://github.com/scikit-learn/scikit-learn/issues/21755 */display: inline-block !important;position: relative;}#sk-container-id-19 div.sk-text-repr-fallback {display: none;}</style><div id=\"sk-container-id-19\" class=\"sk-top-container\"><div class=\"sk-text-repr-fallback\"><pre>LogisticRegression(max_iter=1000)</pre><b>In a Jupyter environment, please rerun this cell to show the HTML representation or trust the notebook. <br />On GitHub, the HTML representation is unable to render, please try loading this page with nbviewer.org.</b></div><div class=\"sk-container\" hidden><div class=\"sk-item\"><div class=\"sk-estimator sk-toggleable\"><input class=\"sk-toggleable__control sk-hidden--visually\" id=\"sk-estimator-id-49\" type=\"checkbox\" checked><label for=\"sk-estimator-id-49\" class=\"sk-toggleable__label sk-toggleable__label-arrow\">LogisticRegression</label><div class=\"sk-toggleable__content\"><pre>LogisticRegression(max_iter=1000)</pre></div></div></div></div></div>"
      ],
      "text/plain": [
       "LogisticRegression(max_iter=1000)"
      ]
     },
     "execution_count": 477,
     "metadata": {},
     "output_type": "execute_result"
    }
   ],
   "source": [
    "lr.fit(X_enc_scaled,y)"
   ]
  },
  {
   "cell_type": "markdown",
   "id": "eea32e93",
   "metadata": {},
   "source": [
    "# Model Accuracy¶"
   ]
  },
  {
   "cell_type": "code",
   "execution_count": 479,
   "id": "759f6742",
   "metadata": {},
   "outputs": [
    {
     "name": "stdout",
     "output_type": "stream",
     "text": [
      "0.91\n"
     ]
    }
   ],
   "source": [
    "print(lr.score(X_enc_scaled,y))"
   ]
  },
  {
   "cell_type": "code",
   "execution_count": 480,
   "id": "b865d5a4",
   "metadata": {},
   "outputs": [
    {
     "name": "stdout",
     "output_type": "stream",
     "text": [
      "Test Accuracy: 0.85\n"
     ]
    }
   ],
   "source": [
    "from sklearn.model_selection import train_test_split\n",
    "\n",
    "X_train, X_test, y_train, y_test = train_test_split(X_enc_scaled, y, test_size=0.2, random_state=42)\n",
    "\n",
    "# Fit the logistic regression model on the training data\n",
    "lr.fit(X_train, y_train)\n",
    "\n",
    "# Evaluate the model on the test data\n",
    "test_accuracy = lr.score(X_test, y_test)\n",
    "print(\"Test Accuracy:\", test_accuracy)"
   ]
  },
  {
   "cell_type": "markdown",
   "id": "1bd0070a",
   "metadata": {},
   "source": [
    "# Feature Selection"
   ]
  },
  {
   "cell_type": "markdown",
   "id": "27e1b27b",
   "metadata": {},
   "source": [
    " # Forward Selection"
   ]
  },
  {
   "cell_type": "code",
   "execution_count": 634,
   "id": "4fe1fc17",
   "metadata": {},
   "outputs": [],
   "source": [
    "#Creating a sequential forward selection method\n",
    "X_train, X_test, y_train, y_test = train_test_split(X, \n",
    "                                                    y, \n",
    "                                                    test_size=0.2,\n",
    "                                                    stratify=y,\n",
    "                                                    random_state=42)\n",
    "\n",
    "\n",
    "\n",
    "sfs = SFS(lr,\n",
    "         k_features = 6,\n",
    "         forward = True,\n",
    "         floating = False,\n",
    "         scoring = \"accuracy\",\n",
    "         n_jobs = -1,\n",
    "         cv = 0)\n",
    "\n"
   ]
  },
  {
   "cell_type": "code",
   "execution_count": 635,
   "id": "6566ccc4",
   "metadata": {},
   "outputs": [
    {
     "data": {
      "text/html": [
       "<style>#sk-container-id-34 {color: black;}#sk-container-id-34 pre{padding: 0;}#sk-container-id-34 div.sk-toggleable {background-color: white;}#sk-container-id-34 label.sk-toggleable__label {cursor: pointer;display: block;width: 100%;margin-bottom: 0;padding: 0.3em;box-sizing: border-box;text-align: center;}#sk-container-id-34 label.sk-toggleable__label-arrow:before {content: \"▸\";float: left;margin-right: 0.25em;color: #696969;}#sk-container-id-34 label.sk-toggleable__label-arrow:hover:before {color: black;}#sk-container-id-34 div.sk-estimator:hover label.sk-toggleable__label-arrow:before {color: black;}#sk-container-id-34 div.sk-toggleable__content {max-height: 0;max-width: 0;overflow: hidden;text-align: left;background-color: #f0f8ff;}#sk-container-id-34 div.sk-toggleable__content pre {margin: 0.2em;color: black;border-radius: 0.25em;background-color: #f0f8ff;}#sk-container-id-34 input.sk-toggleable__control:checked~div.sk-toggleable__content {max-height: 200px;max-width: 100%;overflow: auto;}#sk-container-id-34 input.sk-toggleable__control:checked~label.sk-toggleable__label-arrow:before {content: \"▾\";}#sk-container-id-34 div.sk-estimator input.sk-toggleable__control:checked~label.sk-toggleable__label {background-color: #d4ebff;}#sk-container-id-34 div.sk-label input.sk-toggleable__control:checked~label.sk-toggleable__label {background-color: #d4ebff;}#sk-container-id-34 input.sk-hidden--visually {border: 0;clip: rect(1px 1px 1px 1px);clip: rect(1px, 1px, 1px, 1px);height: 1px;margin: -1px;overflow: hidden;padding: 0;position: absolute;width: 1px;}#sk-container-id-34 div.sk-estimator {font-family: monospace;background-color: #f0f8ff;border: 1px dotted black;border-radius: 0.25em;box-sizing: border-box;margin-bottom: 0.5em;}#sk-container-id-34 div.sk-estimator:hover {background-color: #d4ebff;}#sk-container-id-34 div.sk-parallel-item::after {content: \"\";width: 100%;border-bottom: 1px solid gray;flex-grow: 1;}#sk-container-id-34 div.sk-label:hover label.sk-toggleable__label {background-color: #d4ebff;}#sk-container-id-34 div.sk-serial::before {content: \"\";position: absolute;border-left: 1px solid gray;box-sizing: border-box;top: 0;bottom: 0;left: 50%;z-index: 0;}#sk-container-id-34 div.sk-serial {display: flex;flex-direction: column;align-items: center;background-color: white;padding-right: 0.2em;padding-left: 0.2em;position: relative;}#sk-container-id-34 div.sk-item {position: relative;z-index: 1;}#sk-container-id-34 div.sk-parallel {display: flex;align-items: stretch;justify-content: center;background-color: white;position: relative;}#sk-container-id-34 div.sk-item::before, #sk-container-id-34 div.sk-parallel-item::before {content: \"\";position: absolute;border-left: 1px solid gray;box-sizing: border-box;top: 0;bottom: 0;left: 50%;z-index: -1;}#sk-container-id-34 div.sk-parallel-item {display: flex;flex-direction: column;z-index: 1;position: relative;background-color: white;}#sk-container-id-34 div.sk-parallel-item:first-child::after {align-self: flex-end;width: 50%;}#sk-container-id-34 div.sk-parallel-item:last-child::after {align-self: flex-start;width: 50%;}#sk-container-id-34 div.sk-parallel-item:only-child::after {width: 0;}#sk-container-id-34 div.sk-dashed-wrapped {border: 1px dashed gray;margin: 0 0.4em 0.5em 0.4em;box-sizing: border-box;padding-bottom: 0.4em;background-color: white;}#sk-container-id-34 div.sk-label label {font-family: monospace;font-weight: bold;display: inline-block;line-height: 1.2em;}#sk-container-id-34 div.sk-label-container {text-align: center;}#sk-container-id-34 div.sk-container {/* jupyter's `normalize.less` sets `[hidden] { display: none; }` but bootstrap.min.css set `[hidden] { display: none !important; }` so we also need the `!important` here to be able to override the default hidden behavior on the sphinx rendered scikit-learn.org. See: https://github.com/scikit-learn/scikit-learn/issues/21755 */display: inline-block !important;position: relative;}#sk-container-id-34 div.sk-text-repr-fallback {display: none;}</style><div id=\"sk-container-id-34\" class=\"sk-top-container\"><div class=\"sk-text-repr-fallback\"><pre>SequentialFeatureSelector(cv=0,\n",
       "                          estimator=LogisticRegression(C=10, max_iter=10000),\n",
       "                          k_features=(6, 6), n_jobs=-1, scoring=&#x27;accuracy&#x27;)</pre><b>In a Jupyter environment, please rerun this cell to show the HTML representation or trust the notebook. <br />On GitHub, the HTML representation is unable to render, please try loading this page with nbviewer.org.</b></div><div class=\"sk-container\" hidden><div class=\"sk-item sk-dashed-wrapped\"><div class=\"sk-label-container\"><div class=\"sk-label sk-toggleable\"><input class=\"sk-toggleable__control sk-hidden--visually\" id=\"sk-estimator-id-92\" type=\"checkbox\" ><label for=\"sk-estimator-id-92\" class=\"sk-toggleable__label sk-toggleable__label-arrow\">SequentialFeatureSelector</label><div class=\"sk-toggleable__content\"><pre>SequentialFeatureSelector(cv=0,\n",
       "                          estimator=LogisticRegression(C=10, max_iter=10000),\n",
       "                          k_features=(6, 6), n_jobs=-1, scoring=&#x27;accuracy&#x27;)</pre></div></div></div><div class=\"sk-parallel\"><div class=\"sk-parallel-item\"><div class=\"sk-item\"><div class=\"sk-label-container\"><div class=\"sk-label sk-toggleable\"><input class=\"sk-toggleable__control sk-hidden--visually\" id=\"sk-estimator-id-93\" type=\"checkbox\" ><label for=\"sk-estimator-id-93\" class=\"sk-toggleable__label sk-toggleable__label-arrow\">estimator: LogisticRegression</label><div class=\"sk-toggleable__content\"><pre>LogisticRegression(C=10, max_iter=10000)</pre></div></div></div><div class=\"sk-serial\"><div class=\"sk-item\"><div class=\"sk-estimator sk-toggleable\"><input class=\"sk-toggleable__control sk-hidden--visually\" id=\"sk-estimator-id-94\" type=\"checkbox\" ><label for=\"sk-estimator-id-94\" class=\"sk-toggleable__label sk-toggleable__label-arrow\">LogisticRegression</label><div class=\"sk-toggleable__content\"><pre>LogisticRegression(C=10, max_iter=10000)</pre></div></div></div></div></div></div></div></div></div></div>"
      ],
      "text/plain": [
       "SequentialFeatureSelector(cv=0,\n",
       "                          estimator=LogisticRegression(C=10, max_iter=10000),\n",
       "                          k_features=(6, 6), n_jobs=-1, scoring='accuracy')"
      ]
     },
     "execution_count": 635,
     "metadata": {},
     "output_type": "execute_result"
    }
   ],
   "source": [
    "#Fitting the Model\n",
    "sfs.fit(X_enc_scaled,y)"
   ]
  },
  {
   "cell_type": "code",
   "execution_count": 636,
   "id": "494b5661",
   "metadata": {},
   "outputs": [
    {
     "name": "stdout",
     "output_type": "stream",
     "text": [
      "{'feature_idx': (1, 2, 3, 5, 6, 9), 'cv_scores': array([0.92]), 'avg_score': 0.92, 'feature_names': ('1', '2', '3', '5', '6', '9')}\n"
     ]
    }
   ],
   "source": [
    "# Fit the sequential forward selection model to X and y\n",
    "sfs.fit(X_enc_scaled, y)\n",
    "\n",
    "# Inspect the results of sequential forward selection\n",
    "print(sfs.subsets_[6])"
   ]
  },
  {
   "cell_type": "code",
   "execution_count": 637,
   "id": "299aaec6",
   "metadata": {},
   "outputs": [
    {
     "name": "stdout",
     "output_type": "stream",
     "text": [
      "['functional_competency_score', 'top1_skills_score', 'top2_skills_score', 'behavior_competency_score', 'top1_behavior_skill_score', 'Category']\n",
      "0.92\n"
     ]
    }
   ],
   "source": [
    " #Indexes selected by sequential backward selection\n",
    "selected_indexes = [int(idx) for idx in sfs.subsets_[6]['feature_names']]\n",
    "\n",
    "# Get the corresponding column names\n",
    "selected_column_names = [features[idx] for idx in selected_indexes]\n",
    "print(selected_column_names)\n",
    "\n",
    "# Print the model accuracy after doing sequential forward selection\n",
    "print(sfs.subsets_[6]['avg_score'])"
   ]
  },
  {
   "cell_type": "code",
   "execution_count": 638,
   "id": "dd6562f3",
   "metadata": {},
   "outputs": [
    {
     "name": "stdout",
     "output_type": "stream",
     "text": [
      "['functional_competency_score', 'top1_skills_score', 'top2_skills_score', 'behavior_competency_score', 'top1_behavior_skill_score', 'Category']\n"
     ]
    }
   ],
   "source": [
    "print(selected_column_names)"
   ]
  },
  {
   "cell_type": "code",
   "execution_count": 639,
   "id": "31888575",
   "metadata": {},
   "outputs": [
    {
     "name": "stderr",
     "output_type": "stream",
     "text": [
      "/Users/ishikadang/anaconda3/lib/python3.11/site-packages/numpy/core/_methods.py:269: RuntimeWarning:\n",
      "\n",
      "Degrees of freedom <= 0 for slice\n",
      "\n",
      "/Users/ishikadang/anaconda3/lib/python3.11/site-packages/numpy/core/_methods.py:261: RuntimeWarning:\n",
      "\n",
      "invalid value encountered in scalar divide\n",
      "\n"
     ]
    },
    {
     "data": {
      "image/png": "[encoded data removed]",
      "text/plain": [
       "<Figure size 640x480 with 1 Axes>"
      ]
     },
     "metadata": {},
     "output_type": "display_data"
    }
   ],
   "source": [
    "# Plot the model accuracy as a function of the number of features used\n",
    "plot_sfs(sfs.get_metric_dict())\n",
    "plt.show()"
   ]
  },
  {
   "cell_type": "markdown",
   "id": "6df0c33d",
   "metadata": {},
   "source": [
    "# Choosing Features and Model Accuracy"
   ]
  },
  {
   "cell_type": "code",
   "execution_count": 625,
   "id": "f5e2329b",
   "metadata": {
    "scrolled": true
   },
   "outputs": [
    {
     "name": "stdout",
     "output_type": "stream",
     "text": [
      "['functional_competency_score', 'top1_skills_score', 'top2_skills_score', 'behavior_competency_score', 'top1_behavior_skill_score', 'Category']\n",
      "0.9233333333333333\n"
     ]
    }
   ],
   "source": [
    "# Indexes selected by sequential backward selection\n",
    "selected_indexes = [int(idx) for idx in sfs.subsets_[6]['feature_names']]\n",
    "\n",
    "# Get the corresponding column names\n",
    "selected_column_names = [features[idx] for idx in selected_indexes]\n",
    "print(selected_column_names)\n",
    "\n",
    "# Print the model accuracy after doing sequential forward selection\n",
    "print(sfs.subsets_[7]['avg_score'])"
   ]
  },
  {
   "cell_type": "code",
   "execution_count": 626,
   "id": "42caf919",
   "metadata": {},
   "outputs": [
    {
     "name": "stdout",
     "output_type": "stream",
     "text": [
      "['functional_competency_score', 'top1_skills_score', 'top2_skills_score', 'behavior_competency_score', 'top1_behavior_skill_score', 'Category']\n"
     ]
    }
   ],
   "source": [
    "print(selected_column_names)"
   ]
  },
  {
   "cell_type": "code",
   "execution_count": 640,
   "id": "970a4eee",
   "metadata": {},
   "outputs": [
    {
     "data": {
      "image/png": "[encoded data removed]",
      "text/plain": [
       "<Figure size 640x480 with 1 Axes>"
      ]
     },
     "metadata": {},
     "output_type": "display_data"
    }
   ],
   "source": [
    "# Plot the model accuracy as a function of the number of features used\n",
    "plot_sfs(sfs.get_metric_dict())\n",
    "plt.show()"
   ]
  },
  {
   "cell_type": "markdown",
   "id": "71d54c87",
   "metadata": {},
   "source": [
    "# Backward Elimination"
   ]
  },
  {
   "cell_type": "code",
   "execution_count": 647,
   "id": "f067bcca",
   "metadata": {},
   "outputs": [],
   "source": [
    "#Creating a sequential forward selection method\n",
    "X_train, X_test, y_train, y_test = train_test_split(X, \n",
    "                                                    y, \n",
    "                                                    test_size=0.2,\n",
    "                                                    stratify=y,\n",
    "                                                    random_state=42)\n",
    "\n",
    "\n",
    "\n",
    "sfs = SFS(lr,\n",
    "         k_features = 5,\n",
    "         forward = False,\n",
    "         floating = False,\n",
    "         scoring = \"accuracy\",\n",
    "         n_jobs = -1,\n",
    "         cv = 0)"
   ]
  },
  {
   "cell_type": "code",
   "execution_count": 648,
   "id": "a4095d6e",
   "metadata": {},
   "outputs": [
    {
     "data": {
      "text/html": [
       "<style>#sk-container-id-36 {color: black;}#sk-container-id-36 pre{padding: 0;}#sk-container-id-36 div.sk-toggleable {background-color: white;}#sk-container-id-36 label.sk-toggleable__label {cursor: pointer;display: block;width: 100%;margin-bottom: 0;padding: 0.3em;box-sizing: border-box;text-align: center;}#sk-container-id-36 label.sk-toggleable__label-arrow:before {content: \"▸\";float: left;margin-right: 0.25em;color: #696969;}#sk-container-id-36 label.sk-toggleable__label-arrow:hover:before {color: black;}#sk-container-id-36 div.sk-estimator:hover label.sk-toggleable__label-arrow:before {color: black;}#sk-container-id-36 div.sk-toggleable__content {max-height: 0;max-width: 0;overflow: hidden;text-align: left;background-color: #f0f8ff;}#sk-container-id-36 div.sk-toggleable__content pre {margin: 0.2em;color: black;border-radius: 0.25em;background-color: #f0f8ff;}#sk-container-id-36 input.sk-toggleable__control:checked~div.sk-toggleable__content {max-height: 200px;max-width: 100%;overflow: auto;}#sk-container-id-36 input.sk-toggleable__control:checked~label.sk-toggleable__label-arrow:before {content: \"▾\";}#sk-container-id-36 div.sk-estimator input.sk-toggleable__control:checked~label.sk-toggleable__label {background-color: #d4ebff;}#sk-container-id-36 div.sk-label input.sk-toggleable__control:checked~label.sk-toggleable__label {background-color: #d4ebff;}#sk-container-id-36 input.sk-hidden--visually {border: 0;clip: rect(1px 1px 1px 1px);clip: rect(1px, 1px, 1px, 1px);height: 1px;margin: -1px;overflow: hidden;padding: 0;position: absolute;width: 1px;}#sk-container-id-36 div.sk-estimator {font-family: monospace;background-color: #f0f8ff;border: 1px dotted black;border-radius: 0.25em;box-sizing: border-box;margin-bottom: 0.5em;}#sk-container-id-36 div.sk-estimator:hover {background-color: #d4ebff;}#sk-container-id-36 div.sk-parallel-item::after {content: \"\";width: 100%;border-bottom: 1px solid gray;flex-grow: 1;}#sk-container-id-36 div.sk-label:hover label.sk-toggleable__label {background-color: #d4ebff;}#sk-container-id-36 div.sk-serial::before {content: \"\";position: absolute;border-left: 1px solid gray;box-sizing: border-box;top: 0;bottom: 0;left: 50%;z-index: 0;}#sk-container-id-36 div.sk-serial {display: flex;flex-direction: column;align-items: center;background-color: white;padding-right: 0.2em;padding-left: 0.2em;position: relative;}#sk-container-id-36 div.sk-item {position: relative;z-index: 1;}#sk-container-id-36 div.sk-parallel {display: flex;align-items: stretch;justify-content: center;background-color: white;position: relative;}#sk-container-id-36 div.sk-item::before, #sk-container-id-36 div.sk-parallel-item::before {content: \"\";position: absolute;border-left: 1px solid gray;box-sizing: border-box;top: 0;bottom: 0;left: 50%;z-index: -1;}#sk-container-id-36 div.sk-parallel-item {display: flex;flex-direction: column;z-index: 1;position: relative;background-color: white;}#sk-container-id-36 div.sk-parallel-item:first-child::after {align-self: flex-end;width: 50%;}#sk-container-id-36 div.sk-parallel-item:last-child::after {align-self: flex-start;width: 50%;}#sk-container-id-36 div.sk-parallel-item:only-child::after {width: 0;}#sk-container-id-36 div.sk-dashed-wrapped {border: 1px dashed gray;margin: 0 0.4em 0.5em 0.4em;box-sizing: border-box;padding-bottom: 0.4em;background-color: white;}#sk-container-id-36 div.sk-label label {font-family: monospace;font-weight: bold;display: inline-block;line-height: 1.2em;}#sk-container-id-36 div.sk-label-container {text-align: center;}#sk-container-id-36 div.sk-container {/* jupyter's `normalize.less` sets `[hidden] { display: none; }` but bootstrap.min.css set `[hidden] { display: none !important; }` so we also need the `!important` here to be able to override the default hidden behavior on the sphinx rendered scikit-learn.org. See: https://github.com/scikit-learn/scikit-learn/issues/21755 */display: inline-block !important;position: relative;}#sk-container-id-36 div.sk-text-repr-fallback {display: none;}</style><div id=\"sk-container-id-36\" class=\"sk-top-container\"><div class=\"sk-text-repr-fallback\"><pre>SequentialFeatureSelector(cv=0,\n",
       "                          estimator=LogisticRegression(C=10, max_iter=10000),\n",
       "                          forward=False, k_features=(5, 5), n_jobs=-1,\n",
       "                          scoring=&#x27;accuracy&#x27;)</pre><b>In a Jupyter environment, please rerun this cell to show the HTML representation or trust the notebook. <br />On GitHub, the HTML representation is unable to render, please try loading this page with nbviewer.org.</b></div><div class=\"sk-container\" hidden><div class=\"sk-item sk-dashed-wrapped\"><div class=\"sk-label-container\"><div class=\"sk-label sk-toggleable\"><input class=\"sk-toggleable__control sk-hidden--visually\" id=\"sk-estimator-id-98\" type=\"checkbox\" ><label for=\"sk-estimator-id-98\" class=\"sk-toggleable__label sk-toggleable__label-arrow\">SequentialFeatureSelector</label><div class=\"sk-toggleable__content\"><pre>SequentialFeatureSelector(cv=0,\n",
       "                          estimator=LogisticRegression(C=10, max_iter=10000),\n",
       "                          forward=False, k_features=(5, 5), n_jobs=-1,\n",
       "                          scoring=&#x27;accuracy&#x27;)</pre></div></div></div><div class=\"sk-parallel\"><div class=\"sk-parallel-item\"><div class=\"sk-item\"><div class=\"sk-label-container\"><div class=\"sk-label sk-toggleable\"><input class=\"sk-toggleable__control sk-hidden--visually\" id=\"sk-estimator-id-99\" type=\"checkbox\" ><label for=\"sk-estimator-id-99\" class=\"sk-toggleable__label sk-toggleable__label-arrow\">estimator: LogisticRegression</label><div class=\"sk-toggleable__content\"><pre>LogisticRegression(C=10, max_iter=10000)</pre></div></div></div><div class=\"sk-serial\"><div class=\"sk-item\"><div class=\"sk-estimator sk-toggleable\"><input class=\"sk-toggleable__control sk-hidden--visually\" id=\"sk-estimator-id-100\" type=\"checkbox\" ><label for=\"sk-estimator-id-100\" class=\"sk-toggleable__label sk-toggleable__label-arrow\">LogisticRegression</label><div class=\"sk-toggleable__content\"><pre>LogisticRegression(C=10, max_iter=10000)</pre></div></div></div></div></div></div></div></div></div></div>"
      ],
      "text/plain": [
       "SequentialFeatureSelector(cv=0,\n",
       "                          estimator=LogisticRegression(C=10, max_iter=10000),\n",
       "                          forward=False, k_features=(5, 5), n_jobs=-1,\n",
       "                          scoring='accuracy')"
      ]
     },
     "execution_count": 648,
     "metadata": {},
     "output_type": "execute_result"
    }
   ],
   "source": [
    "sfs.fit(X_enc_scaled,y)"
   ]
  },
  {
   "cell_type": "code",
   "execution_count": 649,
   "id": "703063fc",
   "metadata": {},
   "outputs": [
    {
     "name": "stdout",
     "output_type": "stream",
     "text": [
      "{'feature_idx': (1, 2, 3, 5, 9), 'cv_scores': array([0.92333333]), 'avg_score': 0.9233333333333333, 'feature_names': ('1', '2', '3', '5', '9')}\n"
     ]
    }
   ],
   "source": [
    "# Fit the sequential forward selection model to X and y\n",
    "sfs.fit(X_enc_scaled, y)\n",
    "\n",
    "# Inspect the results of sequential forward selection\n",
    "print(sfs.subsets_[5])"
   ]
  },
  {
   "cell_type": "code",
   "execution_count": 650,
   "id": "c02ee87b",
   "metadata": {},
   "outputs": [
    {
     "name": "stdout",
     "output_type": "stream",
     "text": [
      "['functional_competency_score', 'top1_skills_score', 'top2_skills_score', 'behavior_competency_score', 'Category']\n",
      "0.9233333333333333\n"
     ]
    }
   ],
   "source": [
    "#Indexes selected by sequential backward selection\n",
    "selected_indexes = [int(idx) for idx in sfs.subsets_[5]['feature_names']]\n",
    "\n",
    "# Get the corresponding column names\n",
    "selected_column_names = [features[idx] for idx in selected_indexes]\n",
    "print(selected_column_names)\n",
    "\n",
    "# Print the model accuracy after doing sequential forward selection\n",
    "print(sfs.subsets_[5]['avg_score'])"
   ]
  },
  {
   "cell_type": "code",
   "execution_count": 651,
   "id": "b07b5e12",
   "metadata": {},
   "outputs": [
    {
     "name": "stdout",
     "output_type": "stream",
     "text": [
      "['functional_competency_score', 'top1_skills_score', 'top2_skills_score', 'behavior_competency_score', 'Category']\n"
     ]
    }
   ],
   "source": [
    "print(selected_column_names)"
   ]
  },
  {
   "cell_type": "code",
   "execution_count": 652,
   "id": "45ee3106",
   "metadata": {},
   "outputs": [
    {
     "name": "stderr",
     "output_type": "stream",
     "text": [
      "/Users/ishikadang/anaconda3/lib/python3.11/site-packages/numpy/core/_methods.py:269: RuntimeWarning:\n",
      "\n",
      "Degrees of freedom <= 0 for slice\n",
      "\n",
      "/Users/ishikadang/anaconda3/lib/python3.11/site-packages/numpy/core/_methods.py:261: RuntimeWarning:\n",
      "\n",
      "invalid value encountered in scalar divide\n",
      "\n"
     ]
    },
    {
     "data": {
      "image/png": "[encoded data removed]",
      "text/plain": [
       "<Figure size 640x480 with 1 Axes>"
      ]
     },
     "metadata": {},
     "output_type": "display_data"
    }
   ],
   "source": [
    "# Plot the model accuracy as a function of the number of features used\n",
    "plot_sfs(sfs.get_metric_dict())\n",
    "plt.show()"
   ]
  },
  {
   "cell_type": "code",
   "execution_count": null,
   "id": "0cf54b32",
   "metadata": {},
   "outputs": [],
   "source": []
  }
 ],
 "metadata": {
  "kernelspec": {
   "display_name": "Python 3 (ipykernel)",
   "language": "python",
   "name": "python3"
  },
  "language_info": {
   "codemirror_mode": {
    "name": "ipython",
    "version": 3
   },
   "file_extension": ".py",
   "mimetype": "text/x-python",
   "name": "python",
   "nbconvert_exporter": "python",
   "pygments_lexer": "ipython3",
   "version": "3.11.4"
  }
 },
 "nbformat": 4,
 "nbformat_minor": 5
}
